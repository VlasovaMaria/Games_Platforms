{
 "cells": [
  {
   "cell_type": "markdown",
   "metadata": {},
   "source": [
    "dataset - данные по продажам игр в зависимости от платформы. \n",
    "Цель - провести препроцессинг + сделать описательную статистику данных \n",
    "\n",
    "Задачи: \n",
    "- Препроцессинг\n",
    "- Аналитика :\n",
    "  - показать сколько игр выпускалось в разные годы. Описать и обосновать переломные моменты продаж\n",
    "  - найти топ 10 платформ с наибольшими суммарными продажами\n",
    "  - построить распределение по годам в зависимости от сумм продаж\n",
    "  - выбрать актуальный период начала исследования в зависимости от новой платформы\n",
    "  - после того, как опередлились с периодом, удалить все данные до начала периода \n",
    "  - определить какие платформы лидируют по продажам\n",
    "- Проверить гипотезу:\n",
    "  - Средние пользовательские рейтинги платформ Xbox 360 и PS3 одинаковые"
   ]
  },
  {
   "cell_type": "code",
   "execution_count": 1,
   "metadata": {},
   "outputs": [],
   "source": [
    "import pandas as pd\n",
    "import matplotlib.pyplot as plt\n",
    "import math\n",
    "import numpy as np\n",
    "from scipy import stats as st\n",
    "import copy\n",
    "import seaborn as sns"
   ]
  },
  {
   "cell_type": "markdown",
   "metadata": {},
   "source": [
    "## Изученные данных из файлов"
   ]
  },
  {
   "cell_type": "code",
   "execution_count": 2,
   "metadata": {},
   "outputs": [],
   "source": [
    "#Анализ пропусков, дублей, типов"
   ]
  },
  {
   "cell_type": "code",
   "execution_count": 3,
   "metadata": {},
   "outputs": [],
   "source": [
    "df = pd.read_csv('dataset.csv', on_bad_lines='skip')"
   ]
  },
  {
   "cell_type": "code",
   "execution_count": 4,
   "metadata": {},
   "outputs": [
    {
     "data": {
      "text/html": [
       "<div>\n",
       "<style scoped>\n",
       "    .dataframe tbody tr th:only-of-type {\n",
       "        vertical-align: middle;\n",
       "    }\n",
       "\n",
       "    .dataframe tbody tr th {\n",
       "        vertical-align: top;\n",
       "    }\n",
       "\n",
       "    .dataframe thead th {\n",
       "        text-align: right;\n",
       "    }\n",
       "</style>\n",
       "<table border=\"1\" class=\"dataframe\">\n",
       "  <thead>\n",
       "    <tr style=\"text-align: right;\">\n",
       "      <th></th>\n",
       "      <th>Name</th>\n",
       "      <th>Platform</th>\n",
       "      <th>Year_of_Release</th>\n",
       "      <th>Genre</th>\n",
       "      <th>NA_sales</th>\n",
       "      <th>EU_sales</th>\n",
       "      <th>JP_sales</th>\n",
       "      <th>Other_sales</th>\n",
       "      <th>Critic_Score</th>\n",
       "      <th>User_Score</th>\n",
       "      <th>Rating;</th>\n",
       "    </tr>\n",
       "  </thead>\n",
       "  <tbody>\n",
       "    <tr>\n",
       "      <th>0</th>\n",
       "      <td>Wii Sports</td>\n",
       "      <td>Wii</td>\n",
       "      <td>2006.0</td>\n",
       "      <td>Sports</td>\n",
       "      <td>41.36</td>\n",
       "      <td>28.96</td>\n",
       "      <td>3.77</td>\n",
       "      <td>8.45</td>\n",
       "      <td>76.0</td>\n",
       "      <td>8</td>\n",
       "      <td>E;</td>\n",
       "    </tr>\n",
       "    <tr>\n",
       "      <th>1</th>\n",
       "      <td>Super Mario Bros.</td>\n",
       "      <td>NES</td>\n",
       "      <td>1985.0</td>\n",
       "      <td>Platform</td>\n",
       "      <td>29.08</td>\n",
       "      <td>3.58</td>\n",
       "      <td>6.81</td>\n",
       "      <td>0.77</td>\n",
       "      <td>NaN</td>\n",
       "      <td>NaN</td>\n",
       "      <td>;</td>\n",
       "    </tr>\n",
       "    <tr>\n",
       "      <th>2</th>\n",
       "      <td>Mario Kart Wii</td>\n",
       "      <td>Wii</td>\n",
       "      <td>2008.0</td>\n",
       "      <td>Racing</td>\n",
       "      <td>15.68</td>\n",
       "      <td>12.76</td>\n",
       "      <td>3.79</td>\n",
       "      <td>3.29</td>\n",
       "      <td>82.0</td>\n",
       "      <td>8.3</td>\n",
       "      <td>E;</td>\n",
       "    </tr>\n",
       "    <tr>\n",
       "      <th>3</th>\n",
       "      <td>Wii Sports Resort</td>\n",
       "      <td>Wii</td>\n",
       "      <td>2009.0</td>\n",
       "      <td>Sports</td>\n",
       "      <td>15.61</td>\n",
       "      <td>10.93</td>\n",
       "      <td>3.28</td>\n",
       "      <td>2.95</td>\n",
       "      <td>80.0</td>\n",
       "      <td>8</td>\n",
       "      <td>E;</td>\n",
       "    </tr>\n",
       "    <tr>\n",
       "      <th>4</th>\n",
       "      <td>Pokemon Red/Pokemon Blue</td>\n",
       "      <td>GB</td>\n",
       "      <td>1996.0</td>\n",
       "      <td>Role-Playing</td>\n",
       "      <td>11.27</td>\n",
       "      <td>8.89</td>\n",
       "      <td>10.22</td>\n",
       "      <td>1.00</td>\n",
       "      <td>NaN</td>\n",
       "      <td>NaN</td>\n",
       "      <td>;</td>\n",
       "    </tr>\n",
       "  </tbody>\n",
       "</table>\n",
       "</div>"
      ],
      "text/plain": [
       "                       Name Platform  Year_of_Release         Genre  NA_sales  \\\n",
       "0                Wii Sports      Wii           2006.0        Sports     41.36   \n",
       "1         Super Mario Bros.      NES           1985.0      Platform     29.08   \n",
       "2            Mario Kart Wii      Wii           2008.0        Racing     15.68   \n",
       "3         Wii Sports Resort      Wii           2009.0        Sports     15.61   \n",
       "4  Pokemon Red/Pokemon Blue       GB           1996.0  Role-Playing     11.27   \n",
       "\n",
       "   EU_sales  JP_sales  Other_sales  Critic_Score User_Score Rating;  \n",
       "0     28.96      3.77         8.45          76.0          8      E;  \n",
       "1      3.58      6.81         0.77           NaN        NaN       ;  \n",
       "2     12.76      3.79         3.29          82.0        8.3      E;  \n",
       "3     10.93      3.28         2.95          80.0          8      E;  \n",
       "4      8.89     10.22         1.00           NaN        NaN       ;  "
      ]
     },
     "execution_count": 4,
     "metadata": {},
     "output_type": "execute_result"
    }
   ],
   "source": [
    "df.head()"
   ]
  },
  {
   "cell_type": "code",
   "execution_count": 5,
   "metadata": {},
   "outputs": [
    {
     "data": {
      "text/plain": [
       "(18017, 11)"
      ]
     },
     "execution_count": 5,
     "metadata": {},
     "output_type": "execute_result"
    }
   ],
   "source": [
    "df.shape "
   ]
  },
  {
   "cell_type": "code",
   "execution_count": 6,
   "metadata": {},
   "outputs": [
    {
     "name": "stdout",
     "output_type": "stream",
     "text": [
      "<class 'pandas.core.frame.DataFrame'>\n",
      "RangeIndex: 18017 entries, 0 to 18016\n",
      "Data columns (total 11 columns):\n",
      " #   Column           Non-Null Count  Dtype  \n",
      "---  ------           --------------  -----  \n",
      " 0   Name             18015 non-null  object \n",
      " 1   Platform         18017 non-null  object \n",
      " 2   Year_of_Release  17750 non-null  float64\n",
      " 3   Genre            18015 non-null  object \n",
      " 4   NA_sales         18017 non-null  float64\n",
      " 5   EU_sales         18017 non-null  float64\n",
      " 6   JP_sales         18017 non-null  float64\n",
      " 7   Other_sales      18017 non-null  float64\n",
      " 8   Critic_Score     8180 non-null   float64\n",
      " 9   User_Score       10051 non-null  object \n",
      " 10  Rating;          17995 non-null  object \n",
      "dtypes: float64(6), object(5)\n",
      "memory usage: 1.5+ MB\n"
     ]
    }
   ],
   "source": [
    "df.info()"
   ]
  },
  {
   "cell_type": "code",
   "execution_count": 7,
   "metadata": {},
   "outputs": [
    {
     "data": {
      "text/plain": [
       "Name                  2\n",
       "Platform              0\n",
       "Year_of_Release     267\n",
       "Genre                 2\n",
       "NA_sales              0\n",
       "EU_sales              0\n",
       "JP_sales              0\n",
       "Other_sales           0\n",
       "Critic_Score       9837\n",
       "User_Score         7966\n",
       "Rating;              22\n",
       "dtype: int64"
      ]
     },
     "execution_count": 7,
     "metadata": {},
     "output_type": "execute_result"
    }
   ],
   "source": [
    "df.isnull().sum()"
   ]
  },
  {
   "cell_type": "code",
   "execution_count": 8,
   "metadata": {},
   "outputs": [
    {
     "data": {
      "text/html": [
       "<div>\n",
       "<style scoped>\n",
       "    .dataframe tbody tr th:only-of-type {\n",
       "        vertical-align: middle;\n",
       "    }\n",
       "\n",
       "    .dataframe tbody tr th {\n",
       "        vertical-align: top;\n",
       "    }\n",
       "\n",
       "    .dataframe thead th {\n",
       "        text-align: right;\n",
       "    }\n",
       "</style>\n",
       "<table border=\"1\" class=\"dataframe\">\n",
       "  <thead>\n",
       "    <tr style=\"text-align: right;\">\n",
       "      <th></th>\n",
       "      <th>Year_of_Release</th>\n",
       "      <th>NA_sales</th>\n",
       "      <th>EU_sales</th>\n",
       "      <th>JP_sales</th>\n",
       "      <th>Other_sales</th>\n",
       "      <th>Critic_Score</th>\n",
       "    </tr>\n",
       "  </thead>\n",
       "  <tbody>\n",
       "    <tr>\n",
       "      <th>count</th>\n",
       "      <td>17750.000000</td>\n",
       "      <td>18017.000000</td>\n",
       "      <td>18017.000000</td>\n",
       "      <td>18017.000000</td>\n",
       "      <td>18017.000000</td>\n",
       "      <td>8180.000000</td>\n",
       "    </tr>\n",
       "    <tr>\n",
       "      <th>mean</th>\n",
       "      <td>2006.495324</td>\n",
       "      <td>0.261964</td>\n",
       "      <td>0.147835</td>\n",
       "      <td>0.077619</td>\n",
       "      <td>0.048178</td>\n",
       "      <td>68.912592</td>\n",
       "    </tr>\n",
       "    <tr>\n",
       "      <th>std</th>\n",
       "      <td>5.675950</td>\n",
       "      <td>0.838040</td>\n",
       "      <td>0.560561</td>\n",
       "      <td>0.309454</td>\n",
       "      <td>0.215011</td>\n",
       "      <td>14.057749</td>\n",
       "    </tr>\n",
       "    <tr>\n",
       "      <th>min</th>\n",
       "      <td>1980.000000</td>\n",
       "      <td>0.000000</td>\n",
       "      <td>0.000000</td>\n",
       "      <td>0.000000</td>\n",
       "      <td>0.000000</td>\n",
       "      <td>13.000000</td>\n",
       "    </tr>\n",
       "    <tr>\n",
       "      <th>25%</th>\n",
       "      <td>2003.000000</td>\n",
       "      <td>0.000000</td>\n",
       "      <td>0.000000</td>\n",
       "      <td>0.000000</td>\n",
       "      <td>0.000000</td>\n",
       "      <td>60.000000</td>\n",
       "    </tr>\n",
       "    <tr>\n",
       "      <th>50%</th>\n",
       "      <td>2007.000000</td>\n",
       "      <td>0.060000</td>\n",
       "      <td>0.020000</td>\n",
       "      <td>0.000000</td>\n",
       "      <td>0.010000</td>\n",
       "      <td>71.000000</td>\n",
       "    </tr>\n",
       "    <tr>\n",
       "      <th>75%</th>\n",
       "      <td>2010.000000</td>\n",
       "      <td>0.220000</td>\n",
       "      <td>0.100000</td>\n",
       "      <td>0.030000</td>\n",
       "      <td>0.030000</td>\n",
       "      <td>79.000000</td>\n",
       "    </tr>\n",
       "    <tr>\n",
       "      <th>max</th>\n",
       "      <td>2016.000000</td>\n",
       "      <td>41.360000</td>\n",
       "      <td>28.960000</td>\n",
       "      <td>10.220000</td>\n",
       "      <td>10.570000</td>\n",
       "      <td>98.000000</td>\n",
       "    </tr>\n",
       "  </tbody>\n",
       "</table>\n",
       "</div>"
      ],
      "text/plain": [
       "       Year_of_Release      NA_sales      EU_sales      JP_sales  \\\n",
       "count     17750.000000  18017.000000  18017.000000  18017.000000   \n",
       "mean       2006.495324      0.261964      0.147835      0.077619   \n",
       "std           5.675950      0.838040      0.560561      0.309454   \n",
       "min        1980.000000      0.000000      0.000000      0.000000   \n",
       "25%        2003.000000      0.000000      0.000000      0.000000   \n",
       "50%        2007.000000      0.060000      0.020000      0.000000   \n",
       "75%        2010.000000      0.220000      0.100000      0.030000   \n",
       "max        2016.000000     41.360000     28.960000     10.220000   \n",
       "\n",
       "        Other_sales  Critic_Score  \n",
       "count  18017.000000   8180.000000  \n",
       "mean       0.048178     68.912592  \n",
       "std        0.215011     14.057749  \n",
       "min        0.000000     13.000000  \n",
       "25%        0.000000     60.000000  \n",
       "50%        0.010000     71.000000  \n",
       "75%        0.030000     79.000000  \n",
       "max       10.570000     98.000000  "
      ]
     },
     "execution_count": 8,
     "metadata": {},
     "output_type": "execute_result"
    }
   ],
   "source": [
    "df.describe()"
   ]
  },
  {
   "cell_type": "code",
   "execution_count": 9,
   "metadata": {},
   "outputs": [
    {
     "data": {
      "text/html": [
       "<div>\n",
       "<style scoped>\n",
       "    .dataframe tbody tr th:only-of-type {\n",
       "        vertical-align: middle;\n",
       "    }\n",
       "\n",
       "    .dataframe tbody tr th {\n",
       "        vertical-align: top;\n",
       "    }\n",
       "\n",
       "    .dataframe thead th {\n",
       "        text-align: right;\n",
       "    }\n",
       "</style>\n",
       "<table border=\"1\" class=\"dataframe\">\n",
       "  <thead>\n",
       "    <tr style=\"text-align: right;\">\n",
       "      <th></th>\n",
       "      <th>Name</th>\n",
       "      <th>Platform</th>\n",
       "      <th>Genre</th>\n",
       "      <th>User_Score</th>\n",
       "      <th>Rating;</th>\n",
       "    </tr>\n",
       "  </thead>\n",
       "  <tbody>\n",
       "    <tr>\n",
       "      <th>count</th>\n",
       "      <td>18015</td>\n",
       "      <td>18017</td>\n",
       "      <td>18015</td>\n",
       "      <td>10051</td>\n",
       "      <td>17995</td>\n",
       "    </tr>\n",
       "    <tr>\n",
       "      <th>unique</th>\n",
       "      <td>11481</td>\n",
       "      <td>31</td>\n",
       "      <td>12</td>\n",
       "      <td>96</td>\n",
       "      <td>10</td>\n",
       "    </tr>\n",
       "    <tr>\n",
       "      <th>top</th>\n",
       "      <td>Winning Post 7: Maximum 2007</td>\n",
       "      <td>PS2</td>\n",
       "      <td>Sports</td>\n",
       "      <td>tbd</td>\n",
       "      <td>;</td>\n",
       "    </tr>\n",
       "    <tr>\n",
       "      <th>freq</th>\n",
       "      <td>1282</td>\n",
       "      <td>3441</td>\n",
       "      <td>3624</td>\n",
       "      <td>2416</td>\n",
       "      <td>8009</td>\n",
       "    </tr>\n",
       "  </tbody>\n",
       "</table>\n",
       "</div>"
      ],
      "text/plain": [
       "                                Name Platform   Genre User_Score Rating;\n",
       "count                          18015    18017   18015      10051   17995\n",
       "unique                         11481       31      12         96      10\n",
       "top     Winning Post 7: Maximum 2007      PS2  Sports        tbd       ;\n",
       "freq                            1282     3441    3624       2416    8009"
      ]
     },
     "execution_count": 9,
     "metadata": {},
     "output_type": "execute_result"
    }
   ],
   "source": [
    "df.describe(include=['O'])"
   ]
  },
  {
   "cell_type": "code",
   "execution_count": 10,
   "metadata": {},
   "outputs": [
    {
     "data": {
      "text/plain": [
       "Name               11481\n",
       "Platform              31\n",
       "Year_of_Release       37\n",
       "Genre                 12\n",
       "NA_sales             402\n",
       "EU_sales             307\n",
       "JP_sales             244\n",
       "Other_sales          155\n",
       "Critic_Score          82\n",
       "User_Score            96\n",
       "Rating;               10\n",
       "dtype: int64"
      ]
     },
     "execution_count": 10,
     "metadata": {},
     "output_type": "execute_result"
    }
   ],
   "source": [
    "df.nunique()"
   ]
  },
  {
   "cell_type": "markdown",
   "metadata": {},
   "source": [
    "### Выводы\n",
    "\n",
    "- В данных много пропусков, ошибок, дублей\n",
    "- В датасете игры, выпущенные с 1980 по 2016 год\n",
    "- На первый взгляд, самая популярная платформа PS2 и жанр Sports (будем дальше изучать)"
   ]
  },
  {
   "cell_type": "markdown",
   "metadata": {},
   "source": [
    "## Предобработка данных"
   ]
  },
  {
   "cell_type": "code",
   "execution_count": 11,
   "metadata": {},
   "outputs": [
    {
     "data": {
      "text/html": [
       "<div>\n",
       "<style scoped>\n",
       "    .dataframe tbody tr th:only-of-type {\n",
       "        vertical-align: middle;\n",
       "    }\n",
       "\n",
       "    .dataframe tbody tr th {\n",
       "        vertical-align: top;\n",
       "    }\n",
       "\n",
       "    .dataframe thead th {\n",
       "        text-align: right;\n",
       "    }\n",
       "</style>\n",
       "<table border=\"1\" class=\"dataframe\">\n",
       "  <thead>\n",
       "    <tr style=\"text-align: right;\">\n",
       "      <th></th>\n",
       "      <th>Platform</th>\n",
       "    </tr>\n",
       "    <tr>\n",
       "      <th>Name</th>\n",
       "      <th></th>\n",
       "    </tr>\n",
       "  </thead>\n",
       "  <tbody>\n",
       "    <tr>\n",
       "      <th>Winning Post 7: Maximum 2007</th>\n",
       "      <td>1282</td>\n",
       "    </tr>\n",
       "    <tr>\n",
       "      <th>Mario Kart 64</th>\n",
       "      <td>25</td>\n",
       "    </tr>\n",
       "    <tr>\n",
       "      <th>Superman: The Man of Steel</th>\n",
       "      <td>25</td>\n",
       "    </tr>\n",
       "    <tr>\n",
       "      <th>WWF SmackDown! 2: Know Your Role</th>\n",
       "      <td>21</td>\n",
       "    </tr>\n",
       "    <tr>\n",
       "      <th>Grand Theft Auto V</th>\n",
       "      <td>21</td>\n",
       "    </tr>\n",
       "  </tbody>\n",
       "</table>\n",
       "</div>"
      ],
      "text/plain": [
       "                                  Platform\n",
       "Name                                      \n",
       "Winning Post 7: Maximum 2007          1282\n",
       "Mario Kart 64                           25\n",
       "Superman: The Man of Steel              25\n",
       "WWF SmackDown! 2: Know Your Role        21\n",
       "Grand Theft Auto V                      21"
      ]
     },
     "execution_count": 11,
     "metadata": {},
     "output_type": "execute_result"
    }
   ],
   "source": [
    "df.groupby('Name').agg({'Platform':'count'}).sort_values('Platform', ascending = False).head()"
   ]
  },
  {
   "cell_type": "code",
   "execution_count": 12,
   "metadata": {},
   "outputs": [],
   "source": [
    "df = df.drop_duplicates() # дропаем дубли"
   ]
  },
  {
   "cell_type": "code",
   "execution_count": 13,
   "metadata": {},
   "outputs": [],
   "source": [
    "df = df[df['Name'].notna()] # убираем строки, где нет имени"
   ]
  },
  {
   "cell_type": "code",
   "execution_count": 14,
   "metadata": {},
   "outputs": [],
   "source": [
    "df = df.rename(columns=str.lower) # названия столбцов к нижнему регистру\n",
    "df = df.rename(columns={'rating;':'rating'})"
   ]
  },
  {
   "cell_type": "markdown",
   "metadata": {},
   "source": [
    "Обрабатываем столбцы, где явно допущены ошибки: рейтинг и оценка пользователей"
   ]
  },
  {
   "cell_type": "code",
   "execution_count": 15,
   "metadata": {},
   "outputs": [],
   "source": [
    "df['rating'] = df['rating'].str.replace(';', '').replace('', np.nan, regex=True) # будет удобнее работать с Nan дальше"
   ]
  },
  {
   "cell_type": "code",
   "execution_count": 16,
   "metadata": {},
   "outputs": [],
   "source": [
    "df['user_score'] = df['user_score'].str.replace('tbd', '')\\\n",
    "                                .replace('', np.nan, regex=True)\\\n",
    "                                .astype(float)"
   ]
  },
  {
   "cell_type": "code",
   "execution_count": 17,
   "metadata": {},
   "outputs": [
    {
     "data": {
      "text/plain": [
       "name                  0\n",
       "platform              0\n",
       "year_of_release     267\n",
       "genre                 0\n",
       "na_sales              0\n",
       "eu_sales              0\n",
       "jp_sales              0\n",
       "other_sales           0\n",
       "critic_score       8494\n",
       "user_score         9039\n",
       "rating             6688\n",
       "dtype: int64"
      ]
     },
     "execution_count": 17,
     "metadata": {},
     "output_type": "execute_result"
    }
   ],
   "source": [
    "df.isnull().sum() # перепроверяем что изменилось"
   ]
  },
  {
   "cell_type": "code",
   "execution_count": 18,
   "metadata": {},
   "outputs": [
    {
     "data": {
      "text/html": [
       "<div>\n",
       "<style scoped>\n",
       "    .dataframe tbody tr th:only-of-type {\n",
       "        vertical-align: middle;\n",
       "    }\n",
       "\n",
       "    .dataframe tbody tr th {\n",
       "        vertical-align: top;\n",
       "    }\n",
       "\n",
       "    .dataframe thead th {\n",
       "        text-align: right;\n",
       "    }\n",
       "</style>\n",
       "<table border=\"1\" class=\"dataframe\">\n",
       "  <thead>\n",
       "    <tr style=\"text-align: right;\">\n",
       "      <th></th>\n",
       "      <th>year_of_release</th>\n",
       "      <th>na_sales</th>\n",
       "      <th>eu_sales</th>\n",
       "      <th>jp_sales</th>\n",
       "      <th>other_sales</th>\n",
       "      <th>critic_score</th>\n",
       "      <th>user_score</th>\n",
       "    </tr>\n",
       "  </thead>\n",
       "  <tbody>\n",
       "    <tr>\n",
       "      <th>count</th>\n",
       "      <td>16336.000000</td>\n",
       "      <td>16603.000000</td>\n",
       "      <td>16603.000000</td>\n",
       "      <td>16603.000000</td>\n",
       "      <td>16603.000000</td>\n",
       "      <td>8109.000000</td>\n",
       "      <td>7564.000000</td>\n",
       "    </tr>\n",
       "    <tr>\n",
       "      <th>mean</th>\n",
       "      <td>2006.481697</td>\n",
       "      <td>0.264063</td>\n",
       "      <td>0.145557</td>\n",
       "      <td>0.077850</td>\n",
       "      <td>0.047501</td>\n",
       "      <td>68.978789</td>\n",
       "      <td>7.124564</td>\n",
       "    </tr>\n",
       "    <tr>\n",
       "      <th>std</th>\n",
       "      <td>5.886263</td>\n",
       "      <td>0.815947</td>\n",
       "      <td>0.504847</td>\n",
       "      <td>0.309695</td>\n",
       "      <td>0.187314</td>\n",
       "      <td>13.943594</td>\n",
       "      <td>1.501089</td>\n",
       "    </tr>\n",
       "    <tr>\n",
       "      <th>min</th>\n",
       "      <td>1980.000000</td>\n",
       "      <td>0.000000</td>\n",
       "      <td>0.000000</td>\n",
       "      <td>0.000000</td>\n",
       "      <td>0.000000</td>\n",
       "      <td>13.000000</td>\n",
       "      <td>0.000000</td>\n",
       "    </tr>\n",
       "    <tr>\n",
       "      <th>25%</th>\n",
       "      <td>2003.000000</td>\n",
       "      <td>0.000000</td>\n",
       "      <td>0.000000</td>\n",
       "      <td>0.000000</td>\n",
       "      <td>0.000000</td>\n",
       "      <td>60.000000</td>\n",
       "      <td>6.400000</td>\n",
       "    </tr>\n",
       "    <tr>\n",
       "      <th>50%</th>\n",
       "      <td>2007.000000</td>\n",
       "      <td>0.080000</td>\n",
       "      <td>0.020000</td>\n",
       "      <td>0.000000</td>\n",
       "      <td>0.010000</td>\n",
       "      <td>71.000000</td>\n",
       "      <td>7.500000</td>\n",
       "    </tr>\n",
       "    <tr>\n",
       "      <th>75%</th>\n",
       "      <td>2010.000000</td>\n",
       "      <td>0.240000</td>\n",
       "      <td>0.110000</td>\n",
       "      <td>0.040000</td>\n",
       "      <td>0.030000</td>\n",
       "      <td>79.000000</td>\n",
       "      <td>8.200000</td>\n",
       "    </tr>\n",
       "    <tr>\n",
       "      <th>max</th>\n",
       "      <td>2016.000000</td>\n",
       "      <td>41.360000</td>\n",
       "      <td>28.960000</td>\n",
       "      <td>10.220000</td>\n",
       "      <td>10.570000</td>\n",
       "      <td>98.000000</td>\n",
       "      <td>9.700000</td>\n",
       "    </tr>\n",
       "  </tbody>\n",
       "</table>\n",
       "</div>"
      ],
      "text/plain": [
       "       year_of_release      na_sales      eu_sales      jp_sales  \\\n",
       "count     16336.000000  16603.000000  16603.000000  16603.000000   \n",
       "mean       2006.481697      0.264063      0.145557      0.077850   \n",
       "std           5.886263      0.815947      0.504847      0.309695   \n",
       "min        1980.000000      0.000000      0.000000      0.000000   \n",
       "25%        2003.000000      0.000000      0.000000      0.000000   \n",
       "50%        2007.000000      0.080000      0.020000      0.000000   \n",
       "75%        2010.000000      0.240000      0.110000      0.040000   \n",
       "max        2016.000000     41.360000     28.960000     10.220000   \n",
       "\n",
       "        other_sales  critic_score   user_score  \n",
       "count  16603.000000   8109.000000  7564.000000  \n",
       "mean       0.047501     68.978789     7.124564  \n",
       "std        0.187314     13.943594     1.501089  \n",
       "min        0.000000     13.000000     0.000000  \n",
       "25%        0.000000     60.000000     6.400000  \n",
       "50%        0.010000     71.000000     7.500000  \n",
       "75%        0.030000     79.000000     8.200000  \n",
       "max       10.570000     98.000000     9.700000  "
      ]
     },
     "execution_count": 18,
     "metadata": {},
     "output_type": "execute_result"
    }
   ],
   "source": [
    "df.describe()"
   ]
  },
  {
   "cell_type": "code",
   "execution_count": 19,
   "metadata": {},
   "outputs": [
    {
     "data": {
      "text/html": [
       "<div>\n",
       "<style scoped>\n",
       "    .dataframe tbody tr th:only-of-type {\n",
       "        vertical-align: middle;\n",
       "    }\n",
       "\n",
       "    .dataframe tbody tr th {\n",
       "        vertical-align: top;\n",
       "    }\n",
       "\n",
       "    .dataframe thead th {\n",
       "        text-align: right;\n",
       "    }\n",
       "</style>\n",
       "<table border=\"1\" class=\"dataframe\">\n",
       "  <thead>\n",
       "    <tr style=\"text-align: right;\">\n",
       "      <th></th>\n",
       "      <th>name</th>\n",
       "      <th>platform</th>\n",
       "      <th>genre</th>\n",
       "      <th>rating</th>\n",
       "    </tr>\n",
       "  </thead>\n",
       "  <tbody>\n",
       "    <tr>\n",
       "      <th>count</th>\n",
       "      <td>16603</td>\n",
       "      <td>16603</td>\n",
       "      <td>16603</td>\n",
       "      <td>9915</td>\n",
       "    </tr>\n",
       "    <tr>\n",
       "      <th>unique</th>\n",
       "      <td>11481</td>\n",
       "      <td>31</td>\n",
       "      <td>12</td>\n",
       "      <td>8</td>\n",
       "    </tr>\n",
       "    <tr>\n",
       "      <th>top</th>\n",
       "      <td>Need for Speed: Most Wanted</td>\n",
       "      <td>PS2</td>\n",
       "      <td>Action</td>\n",
       "      <td>E</td>\n",
       "    </tr>\n",
       "    <tr>\n",
       "      <th>freq</th>\n",
       "      <td>12</td>\n",
       "      <td>2144</td>\n",
       "      <td>3349</td>\n",
       "      <td>3978</td>\n",
       "    </tr>\n",
       "  </tbody>\n",
       "</table>\n",
       "</div>"
      ],
      "text/plain": [
       "                               name platform   genre rating\n",
       "count                         16603    16603   16603   9915\n",
       "unique                        11481       31      12      8\n",
       "top     Need for Speed: Most Wanted      PS2  Action      E\n",
       "freq                             12     2144    3349   3978"
      ]
     },
     "execution_count": 19,
     "metadata": {},
     "output_type": "execute_result"
    }
   ],
   "source": [
    "df.describe(include=['O'])"
   ]
  },
  {
   "cell_type": "markdown",
   "metadata": {},
   "source": [
    "Восстанавливаем год выпуска, где это возможно"
   ]
  },
  {
   "cell_type": "code",
   "execution_count": 20,
   "metadata": {},
   "outputs": [],
   "source": [
    "for name in df.query('year_of_release.isnull()')['name'].unique():\n",
    "    index = df.query('name == @name').year_of_release.first_valid_index()\n",
    "    if index != None:\n",
    "        year = df.query('name == @name').year_of_release.loc[index]\n",
    "        temp = df.query('name == @name').year_of_release.fillna(year)\n",
    "        df.update(temp)    "
   ]
  },
  {
   "cell_type": "code",
   "execution_count": 21,
   "metadata": {},
   "outputs": [],
   "source": [
    "df = df[df['year_of_release'].notna()] # больше никак не восстановить год выпуска, дропнем пропуски"
   ]
  },
  {
   "cell_type": "code",
   "execution_count": 22,
   "metadata": {},
   "outputs": [
    {
     "data": {
      "text/plain": [
       "(16457, 11)"
      ]
     },
     "execution_count": 22,
     "metadata": {},
     "output_type": "execute_result"
    }
   ],
   "source": [
    "df.shape"
   ]
  },
  {
   "cell_type": "markdown",
   "metadata": {},
   "source": [
    "### Выводы\n",
    "\n",
    "- Были восстановлены пропуски в столбце с годом релиза\n",
    "- В остальных пока оставляем Nan\n",
    "- Самой популярноой платформой осталась PS2, жанр стал Action"
   ]
  },
  {
   "cell_type": "code",
   "execution_count": 23,
   "metadata": {},
   "outputs": [],
   "source": [
    "comp_genre=df[['genre','na_sales','eu_sales','jp_sales','other_sales']]\n",
    "comp_map=comp_genre.groupby('genre').sum()"
   ]
  },
  {
   "cell_type": "code",
   "execution_count": 24,
   "metadata": {},
   "outputs": [
    {
     "data": {
      "image/png": "[encoded data removed]",
      "text/plain": [
       "<Figure size 1500x1000 with 2 Axes>"
      ]
     },
     "metadata": {},
     "output_type": "display_data"
    }
   ],
   "source": [
    "plt.figure(figsize=(15,10))\n",
    "sns.set(font_scale=1)\n",
    "sns.heatmap(comp_map,annot=True,fmt='.1f')\n",
    "plt.xticks(fontsize=14)\n",
    "plt.yticks(fontsize=14)\n",
    "plt.show()"
   ]
  },
  {
   "cell_type": "markdown",
   "metadata": {},
   "source": [
    "## Анализ данных"
   ]
  },
  {
   "cell_type": "code",
   "execution_count": 25,
   "metadata": {},
   "outputs": [],
   "source": [
    "# показать сколько игр выпускалось в разные годы. Описать и обосновать переломные моменты продаж"
   ]
  },
  {
   "cell_type": "code",
   "execution_count": 26,
   "metadata": {},
   "outputs": [],
   "source": [
    "df['total_sales'] = df.na_sales + df.eu_sales + df.jp_sales + df.other_sales"
   ]
  },
  {
   "cell_type": "code",
   "execution_count": 27,
   "metadata": {},
   "outputs": [],
   "source": [
    "games_a_year = df.groupby(['year_of_release', 'platform'], as_index = False)\\\n",
    "                .agg({'name':'nunique', 'total_sales':'sum'})"
   ]
  },
  {
   "cell_type": "code",
   "execution_count": 28,
   "metadata": {},
   "outputs": [
    {
     "data": {
      "image/png": "[encoded data removed]",
      "text/plain": [
       "<Figure size 1500x1000 with 1 Axes>"
      ]
     },
     "metadata": {},
     "output_type": "display_data"
    }
   ],
   "source": [
    "sns.set_style(\"whitegrid\")\n",
    "plt.figure(figsize=(15,10))\n",
    "sns.lineplot(data = games_a_year, x = 'year_of_release', y = 'name', errorbar=None)\n",
    "sns.lineplot(data = games_a_year, x = 'year_of_release', y = 'total_sales', errorbar=None)\\\n",
    "        .set(xlabel = 'Year of Release', ylabel='', xticks=games_a_year.year_of_release.values)\n",
    "plt.xticks(rotation=45)\n",
    "plt.show()"
   ]
  },
  {
   "cell_type": "code",
   "execution_count": 29,
   "metadata": {},
   "outputs": [],
   "source": [
    "# найти топ 10 платформ с наибольшими суммарными продажами"
   ]
  },
  {
   "cell_type": "code",
   "execution_count": 30,
   "metadata": {},
   "outputs": [],
   "source": [
    "platforms = df.groupby('platform', as_index = False)\\\n",
    "                .agg({'total_sales':'sum'})\\\n",
    "                .sort_values('total_sales', ascending = False)\\\n",
    "                .head(10)"
   ]
  },
  {
   "cell_type": "code",
   "execution_count": 31,
   "metadata": {},
   "outputs": [
    {
     "data": {
      "image/png": "[encoded data removed]",
      "text/plain": [
       "<Figure size 1500x1000 with 1 Axes>"
      ]
     },
     "metadata": {},
     "output_type": "display_data"
    }
   ],
   "source": [
    "sns.set_style(\"whitegrid\")\n",
    "plt.figure(figsize=(15,10))\n",
    "sns.barplot(x='total_sales',y='platform',data=platforms)\\\n",
    ".set(title = 'Top 10 platforms by Sales', xlabel='', ylabel='Platform')\n",
    "plt.show()"
   ]
  },
  {
   "cell_type": "code",
   "execution_count": 32,
   "metadata": {},
   "outputs": [],
   "source": [
    "# сделать срез от 2009 года и посмотреть какие платформы актуальные( по кол-ву продаж)"
   ]
  },
  {
   "cell_type": "code",
   "execution_count": 33,
   "metadata": {},
   "outputs": [
    {
     "data": {
      "text/html": [
       "<div>\n",
       "<style scoped>\n",
       "    .dataframe tbody tr th:only-of-type {\n",
       "        vertical-align: middle;\n",
       "    }\n",
       "\n",
       "    .dataframe tbody tr th {\n",
       "        vertical-align: top;\n",
       "    }\n",
       "\n",
       "    .dataframe thead th {\n",
       "        text-align: right;\n",
       "    }\n",
       "</style>\n",
       "<table border=\"1\" class=\"dataframe\">\n",
       "  <thead>\n",
       "    <tr style=\"text-align: right;\">\n",
       "      <th></th>\n",
       "      <th>platform</th>\n",
       "      <th>total_sales</th>\n",
       "    </tr>\n",
       "  </thead>\n",
       "  <tbody>\n",
       "    <tr>\n",
       "      <th>5</th>\n",
       "      <td>Wii</td>\n",
       "      <td>206.31</td>\n",
       "    </tr>\n",
       "    <tr>\n",
       "      <th>3</th>\n",
       "      <td>PS3</td>\n",
       "      <td>130.23</td>\n",
       "    </tr>\n",
       "    <tr>\n",
       "      <th>6</th>\n",
       "      <td>X360</td>\n",
       "      <td>120.03</td>\n",
       "    </tr>\n",
       "    <tr>\n",
       "      <th>0</th>\n",
       "      <td>DS</td>\n",
       "      <td>118.93</td>\n",
       "    </tr>\n",
       "    <tr>\n",
       "      <th>4</th>\n",
       "      <td>PSP</td>\n",
       "      <td>37.18</td>\n",
       "    </tr>\n",
       "    <tr>\n",
       "      <th>2</th>\n",
       "      <td>PS2</td>\n",
       "      <td>25.84</td>\n",
       "    </tr>\n",
       "    <tr>\n",
       "      <th>1</th>\n",
       "      <td>PC</td>\n",
       "      <td>16.51</td>\n",
       "    </tr>\n",
       "  </tbody>\n",
       "</table>\n",
       "</div>"
      ],
      "text/plain": [
       "  platform  total_sales\n",
       "5      Wii       206.31\n",
       "3      PS3       130.23\n",
       "6     X360       120.03\n",
       "0       DS       118.93\n",
       "4      PSP        37.18\n",
       "2      PS2        25.84\n",
       "1       PC        16.51"
      ]
     },
     "execution_count": 33,
     "metadata": {},
     "output_type": "execute_result"
    }
   ],
   "source": [
    "df.query('year_of_release == 2009').groupby('platform', as_index = False)\\\n",
    "                .agg({'total_sales':'sum'})\\\n",
    "                .sort_values('total_sales', ascending = False)"
   ]
  },
  {
   "cell_type": "code",
   "execution_count": 34,
   "metadata": {},
   "outputs": [],
   "source": [
    "# выбрать актуальный период начала исследования в зависимости от новой платформы"
   ]
  },
  {
   "cell_type": "code",
   "execution_count": 35,
   "metadata": {},
   "outputs": [
    {
     "data": {
      "image/png": "[encoded data removed]",
      "text/plain": [
       "<Figure size 1500x1000 with 1 Axes>"
      ]
     },
     "metadata": {},
     "output_type": "display_data"
    }
   ],
   "source": [
    "sns.set_style(\"whitegrid\")\n",
    "plt.figure(figsize=(15,10))\n",
    "sns.lineplot(data = games_a_year, x = 'year_of_release', y = 'name', hue = 'platform')\\\n",
    "        .set(ylabel='', xticks=games_a_year.year_of_release.values)\n",
    "plt.xticks(rotation=45)\n",
    "plt.show()"
   ]
  },
  {
   "cell_type": "code",
   "execution_count": 36,
   "metadata": {},
   "outputs": [],
   "source": [
    "# После того, как опередлились с периодом, удалить все данные до начала периода \n",
    "df = df.query('year_of_release >= 1994') # как новая платформа была выбрана PS"
   ]
  },
  {
   "cell_type": "code",
   "execution_count": 37,
   "metadata": {},
   "outputs": [
    {
     "data": {
      "text/html": [
       "<div>\n",
       "<style scoped>\n",
       "    .dataframe tbody tr th:only-of-type {\n",
       "        vertical-align: middle;\n",
       "    }\n",
       "\n",
       "    .dataframe tbody tr th {\n",
       "        vertical-align: top;\n",
       "    }\n",
       "\n",
       "    .dataframe thead th {\n",
       "        text-align: right;\n",
       "    }\n",
       "</style>\n",
       "<table border=\"1\" class=\"dataframe\">\n",
       "  <thead>\n",
       "    <tr style=\"text-align: right;\">\n",
       "      <th></th>\n",
       "      <th>name</th>\n",
       "      <th>platform</th>\n",
       "      <th>year_of_release</th>\n",
       "      <th>genre</th>\n",
       "      <th>na_sales</th>\n",
       "      <th>eu_sales</th>\n",
       "      <th>jp_sales</th>\n",
       "      <th>other_sales</th>\n",
       "      <th>critic_score</th>\n",
       "      <th>user_score</th>\n",
       "      <th>rating</th>\n",
       "      <th>total_sales</th>\n",
       "    </tr>\n",
       "  </thead>\n",
       "  <tbody>\n",
       "    <tr>\n",
       "      <th>0</th>\n",
       "      <td>Wii Sports</td>\n",
       "      <td>Wii</td>\n",
       "      <td>2006.0</td>\n",
       "      <td>Sports</td>\n",
       "      <td>41.36</td>\n",
       "      <td>28.96</td>\n",
       "      <td>3.77</td>\n",
       "      <td>8.45</td>\n",
       "      <td>76.0</td>\n",
       "      <td>8.0</td>\n",
       "      <td>E</td>\n",
       "      <td>82.54</td>\n",
       "    </tr>\n",
       "    <tr>\n",
       "      <th>2</th>\n",
       "      <td>Mario Kart Wii</td>\n",
       "      <td>Wii</td>\n",
       "      <td>2008.0</td>\n",
       "      <td>Racing</td>\n",
       "      <td>15.68</td>\n",
       "      <td>12.76</td>\n",
       "      <td>3.79</td>\n",
       "      <td>3.29</td>\n",
       "      <td>82.0</td>\n",
       "      <td>8.3</td>\n",
       "      <td>E</td>\n",
       "      <td>35.52</td>\n",
       "    </tr>\n",
       "    <tr>\n",
       "      <th>3</th>\n",
       "      <td>Wii Sports Resort</td>\n",
       "      <td>Wii</td>\n",
       "      <td>2009.0</td>\n",
       "      <td>Sports</td>\n",
       "      <td>15.61</td>\n",
       "      <td>10.93</td>\n",
       "      <td>3.28</td>\n",
       "      <td>2.95</td>\n",
       "      <td>80.0</td>\n",
       "      <td>8.0</td>\n",
       "      <td>E</td>\n",
       "      <td>32.77</td>\n",
       "    </tr>\n",
       "    <tr>\n",
       "      <th>4</th>\n",
       "      <td>Pokemon Red/Pokemon Blue</td>\n",
       "      <td>GB</td>\n",
       "      <td>1996.0</td>\n",
       "      <td>Role-Playing</td>\n",
       "      <td>11.27</td>\n",
       "      <td>8.89</td>\n",
       "      <td>10.22</td>\n",
       "      <td>1.00</td>\n",
       "      <td>NaN</td>\n",
       "      <td>NaN</td>\n",
       "      <td>NaN</td>\n",
       "      <td>31.38</td>\n",
       "    </tr>\n",
       "    <tr>\n",
       "      <th>6</th>\n",
       "      <td>New Super Mario Bros.</td>\n",
       "      <td>DS</td>\n",
       "      <td>2006.0</td>\n",
       "      <td>Platform</td>\n",
       "      <td>11.28</td>\n",
       "      <td>9.14</td>\n",
       "      <td>6.50</td>\n",
       "      <td>2.88</td>\n",
       "      <td>89.0</td>\n",
       "      <td>8.5</td>\n",
       "      <td>E</td>\n",
       "      <td>29.80</td>\n",
       "    </tr>\n",
       "  </tbody>\n",
       "</table>\n",
       "</div>"
      ],
      "text/plain": [
       "                       name platform  year_of_release         genre  na_sales  \\\n",
       "0                Wii Sports      Wii           2006.0        Sports     41.36   \n",
       "2            Mario Kart Wii      Wii           2008.0        Racing     15.68   \n",
       "3         Wii Sports Resort      Wii           2009.0        Sports     15.61   \n",
       "4  Pokemon Red/Pokemon Blue       GB           1996.0  Role-Playing     11.27   \n",
       "6     New Super Mario Bros.       DS           2006.0      Platform     11.28   \n",
       "\n",
       "   eu_sales  jp_sales  other_sales  critic_score  user_score rating  \\\n",
       "0     28.96      3.77         8.45          76.0         8.0      E   \n",
       "2     12.76      3.79         3.29          82.0         8.3      E   \n",
       "3     10.93      3.28         2.95          80.0         8.0      E   \n",
       "4      8.89     10.22         1.00           NaN         NaN    NaN   \n",
       "6      9.14      6.50         2.88          89.0         8.5      E   \n",
       "\n",
       "   total_sales  \n",
       "0        82.54  \n",
       "2        35.52  \n",
       "3        32.77  \n",
       "4        31.38  \n",
       "6        29.80  "
      ]
     },
     "execution_count": 37,
     "metadata": {},
     "output_type": "execute_result"
    }
   ],
   "source": [
    "df.head()"
   ]
  },
  {
   "cell_type": "code",
   "execution_count": 38,
   "metadata": {},
   "outputs": [
    {
     "data": {
      "text/html": [
       "<div>\n",
       "<style scoped>\n",
       "    .dataframe tbody tr th:only-of-type {\n",
       "        vertical-align: middle;\n",
       "    }\n",
       "\n",
       "    .dataframe tbody tr th {\n",
       "        vertical-align: top;\n",
       "    }\n",
       "\n",
       "    .dataframe thead th {\n",
       "        text-align: right;\n",
       "    }\n",
       "</style>\n",
       "<table border=\"1\" class=\"dataframe\">\n",
       "  <thead>\n",
       "    <tr style=\"text-align: right;\">\n",
       "      <th></th>\n",
       "      <th>platform</th>\n",
       "      <th>total_sales</th>\n",
       "    </tr>\n",
       "  </thead>\n",
       "  <tbody>\n",
       "    <tr>\n",
       "      <th>15</th>\n",
       "      <td>PS2</td>\n",
       "      <td>1242.72</td>\n",
       "    </tr>\n",
       "    <tr>\n",
       "      <th>27</th>\n",
       "      <td>X360</td>\n",
       "      <td>963.73</td>\n",
       "    </tr>\n",
       "    <tr>\n",
       "      <th>16</th>\n",
       "      <td>PS3</td>\n",
       "      <td>932.66</td>\n",
       "    </tr>\n",
       "    <tr>\n",
       "      <th>25</th>\n",
       "      <td>Wii</td>\n",
       "      <td>901.37</td>\n",
       "    </tr>\n",
       "    <tr>\n",
       "      <th>4</th>\n",
       "      <td>DS</td>\n",
       "      <td>802.05</td>\n",
       "    </tr>\n",
       "    <tr>\n",
       "      <th>14</th>\n",
       "      <td>PS</td>\n",
       "      <td>726.56</td>\n",
       "    </tr>\n",
       "    <tr>\n",
       "      <th>17</th>\n",
       "      <td>PS4</td>\n",
       "      <td>314.14</td>\n",
       "    </tr>\n",
       "    <tr>\n",
       "      <th>6</th>\n",
       "      <td>GBA</td>\n",
       "      <td>309.18</td>\n",
       "    </tr>\n",
       "    <tr>\n",
       "      <th>18</th>\n",
       "      <td>PSP</td>\n",
       "      <td>291.44</td>\n",
       "    </tr>\n",
       "    <tr>\n",
       "      <th>2</th>\n",
       "      <td>3DS</td>\n",
       "      <td>258.45</td>\n",
       "    </tr>\n",
       "  </tbody>\n",
       "</table>\n",
       "</div>"
      ],
      "text/plain": [
       "   platform  total_sales\n",
       "15      PS2      1242.72\n",
       "27     X360       963.73\n",
       "16      PS3       932.66\n",
       "25      Wii       901.37\n",
       "4        DS       802.05\n",
       "14       PS       726.56\n",
       "17      PS4       314.14\n",
       "6       GBA       309.18\n",
       "18      PSP       291.44\n",
       "2       3DS       258.45"
      ]
     },
     "execution_count": 38,
     "metadata": {},
     "output_type": "execute_result"
    }
   ],
   "source": [
    "df.groupby('platform', as_index = False)\\\n",
    "                .agg({'total_sales':'sum'})\\\n",
    "                .sort_values('total_sales', ascending = False)\\\n",
    "                .head(10)"
   ]
  },
  {
   "cell_type": "markdown",
   "metadata": {},
   "source": [
    "### Вывод \n",
    "Проведя анализ данных мы заметили такие закономерности как:\n",
    "- Бум продаж случился в 2009 году, мб связано с кризисом 2008 года и массовыми сокращениями, люди сидели дома и игры были доступным досугом\n",
    "- Начиная с 1994 года наблюдался рост продаж игр, вероятно связано с выходом PS\n",
    "- Самая популярная платформа PS2 по продажам"
   ]
  },
  {
   "cell_type": "markdown",
   "metadata": {},
   "source": [
    "## Проверка гипотезы"
   ]
  },
  {
   "cell_type": "markdown",
   "metadata": {},
   "source": [
    "H0 - средние наших выборок не отличаются\n",
    "H1 - средние наших выборок отличаются\n",
    "\n",
    "\n",
    "Критический уровень значимости зададим 0.05 "
   ]
  },
  {
   "cell_type": "code",
   "execution_count": 42,
   "metadata": {},
   "outputs": [],
   "source": [
    "statistics = df.groupby('platform', as_index = False)\\\n",
    "                .agg({'user_score':['count','mean', 'std', 'var']})"
   ]
  },
  {
   "cell_type": "code",
   "execution_count": 43,
   "metadata": {},
   "outputs": [
    {
     "data": {
      "text/html": [
       "<div>\n",
       "<style scoped>\n",
       "    .dataframe tbody tr th:only-of-type {\n",
       "        vertical-align: middle;\n",
       "    }\n",
       "\n",
       "    .dataframe tbody tr th {\n",
       "        vertical-align: top;\n",
       "    }\n",
       "\n",
       "    .dataframe thead tr th {\n",
       "        text-align: left;\n",
       "    }\n",
       "</style>\n",
       "<table border=\"1\" class=\"dataframe\">\n",
       "  <thead>\n",
       "    <tr>\n",
       "      <th></th>\n",
       "      <th>platform</th>\n",
       "      <th colspan=\"4\" halign=\"left\">user_score</th>\n",
       "    </tr>\n",
       "    <tr>\n",
       "      <th></th>\n",
       "      <th></th>\n",
       "      <th>count</th>\n",
       "      <th>mean</th>\n",
       "      <th>std</th>\n",
       "      <th>var</th>\n",
       "    </tr>\n",
       "  </thead>\n",
       "  <tbody>\n",
       "    <tr>\n",
       "      <th>2</th>\n",
       "      <td>3DS</td>\n",
       "      <td>172</td>\n",
       "      <td>6.850000</td>\n",
       "      <td>1.418405</td>\n",
       "      <td>2.011871</td>\n",
       "    </tr>\n",
       "    <tr>\n",
       "      <th>3</th>\n",
       "      <td>DC</td>\n",
       "      <td>14</td>\n",
       "      <td>8.528571</td>\n",
       "      <td>0.916875</td>\n",
       "      <td>0.840659</td>\n",
       "    </tr>\n",
       "    <tr>\n",
       "      <th>4</th>\n",
       "      <td>DS</td>\n",
       "      <td>511</td>\n",
       "      <td>7.020939</td>\n",
       "      <td>1.512617</td>\n",
       "      <td>2.288012</td>\n",
       "    </tr>\n",
       "    <tr>\n",
       "      <th>6</th>\n",
       "      <td>GBA</td>\n",
       "      <td>251</td>\n",
       "      <td>7.669323</td>\n",
       "      <td>1.440269</td>\n",
       "      <td>2.074375</td>\n",
       "    </tr>\n",
       "    <tr>\n",
       "      <th>7</th>\n",
       "      <td>GC</td>\n",
       "      <td>363</td>\n",
       "      <td>7.610468</td>\n",
       "      <td>1.367480</td>\n",
       "      <td>1.870001</td>\n",
       "    </tr>\n",
       "    <tr>\n",
       "      <th>12</th>\n",
       "      <td>PC</td>\n",
       "      <td>759</td>\n",
       "      <td>7.068906</td>\n",
       "      <td>1.521563</td>\n",
       "      <td>2.315153</td>\n",
       "    </tr>\n",
       "    <tr>\n",
       "      <th>14</th>\n",
       "      <td>PS</td>\n",
       "      <td>158</td>\n",
       "      <td>7.864557</td>\n",
       "      <td>1.343258</td>\n",
       "      <td>1.804341</td>\n",
       "    </tr>\n",
       "    <tr>\n",
       "      <th>15</th>\n",
       "      <td>PS2</td>\n",
       "      <td>1225</td>\n",
       "      <td>7.630122</td>\n",
       "      <td>1.304435</td>\n",
       "      <td>1.701551</td>\n",
       "    </tr>\n",
       "    <tr>\n",
       "      <th>16</th>\n",
       "      <td>PS3</td>\n",
       "      <td>868</td>\n",
       "      <td>6.722120</td>\n",
       "      <td>1.461791</td>\n",
       "      <td>2.136834</td>\n",
       "    </tr>\n",
       "    <tr>\n",
       "      <th>17</th>\n",
       "      <td>PS4</td>\n",
       "      <td>257</td>\n",
       "      <td>6.748249</td>\n",
       "      <td>1.459481</td>\n",
       "      <td>2.130085</td>\n",
       "    </tr>\n",
       "    <tr>\n",
       "      <th>18</th>\n",
       "      <td>PSP</td>\n",
       "      <td>420</td>\n",
       "      <td>7.227381</td>\n",
       "      <td>1.228301</td>\n",
       "      <td>1.508723</td>\n",
       "    </tr>\n",
       "    <tr>\n",
       "      <th>19</th>\n",
       "      <td>PSV</td>\n",
       "      <td>142</td>\n",
       "      <td>7.334507</td>\n",
       "      <td>1.380104</td>\n",
       "      <td>1.904687</td>\n",
       "    </tr>\n",
       "    <tr>\n",
       "      <th>25</th>\n",
       "      <td>Wii</td>\n",
       "      <td>554</td>\n",
       "      <td>6.731408</td>\n",
       "      <td>1.743193</td>\n",
       "      <td>3.038722</td>\n",
       "    </tr>\n",
       "    <tr>\n",
       "      <th>26</th>\n",
       "      <td>WiiU</td>\n",
       "      <td>100</td>\n",
       "      <td>6.904000</td>\n",
       "      <td>1.435405</td>\n",
       "      <td>2.060388</td>\n",
       "    </tr>\n",
       "    <tr>\n",
       "      <th>27</th>\n",
       "      <td>X360</td>\n",
       "      <td>956</td>\n",
       "      <td>6.682427</td>\n",
       "      <td>1.440922</td>\n",
       "      <td>2.076256</td>\n",
       "    </tr>\n",
       "    <tr>\n",
       "      <th>28</th>\n",
       "      <td>XB</td>\n",
       "      <td>579</td>\n",
       "      <td>7.513472</td>\n",
       "      <td>1.487767</td>\n",
       "      <td>2.213451</td>\n",
       "    </tr>\n",
       "    <tr>\n",
       "      <th>29</th>\n",
       "      <td>XOne</td>\n",
       "      <td>181</td>\n",
       "      <td>6.527072</td>\n",
       "      <td>1.382665</td>\n",
       "      <td>1.911763</td>\n",
       "    </tr>\n",
       "  </tbody>\n",
       "</table>\n",
       "</div>"
      ],
      "text/plain": [
       "   platform user_score                              \n",
       "                 count      mean       std       var\n",
       "2       3DS        172  6.850000  1.418405  2.011871\n",
       "3        DC         14  8.528571  0.916875  0.840659\n",
       "4        DS        511  7.020939  1.512617  2.288012\n",
       "6       GBA        251  7.669323  1.440269  2.074375\n",
       "7        GC        363  7.610468  1.367480  1.870001\n",
       "12       PC        759  7.068906  1.521563  2.315153\n",
       "14       PS        158  7.864557  1.343258  1.804341\n",
       "15      PS2       1225  7.630122  1.304435  1.701551\n",
       "16      PS3        868  6.722120  1.461791  2.136834\n",
       "17      PS4        257  6.748249  1.459481  2.130085\n",
       "18      PSP        420  7.227381  1.228301  1.508723\n",
       "19      PSV        142  7.334507  1.380104  1.904687\n",
       "25      Wii        554  6.731408  1.743193  3.038722\n",
       "26     WiiU        100  6.904000  1.435405  2.060388\n",
       "27     X360        956  6.682427  1.440922  2.076256\n",
       "28       XB        579  7.513472  1.487767  2.213451\n",
       "29     XOne        181  6.527072  1.382665  1.911763"
      ]
     },
     "execution_count": 43,
     "metadata": {},
     "output_type": "execute_result"
    }
   ],
   "source": [
    "statistics.dropna()"
   ]
  },
  {
   "cell_type": "code",
   "execution_count": 56,
   "metadata": {
    "scrolled": false
   },
   "outputs": [
    {
     "data": {
      "image/png": "[encoded data removed]",
      "text/plain": [
       "<Figure size 640x480 with 1 Axes>"
      ]
     },
     "metadata": {},
     "output_type": "display_data"
    }
   ],
   "source": [
    "sns.histplot(data = df.query('platform == \"X360\"'), x = 'user_score', kde = True)\n",
    "sns.histplot(data = df.query('platform == \"PS3\"'), x = 'user_score', kde = True)\n",
    "plt.show()"
   ]
  },
  {
   "cell_type": "markdown",
   "metadata": {},
   "source": [
    "Не будем полагаться только на график, проверим распределения на нормальность:"
   ]
  },
  {
   "cell_type": "code",
   "execution_count": 51,
   "metadata": {},
   "outputs": [],
   "source": [
    "X360 = df.query('platform == \"X360\"').user_score.dropna()\n",
    "PS3 = df.query('platform == \"PS3\"').user_score.dropna()"
   ]
  },
  {
   "cell_type": "code",
   "execution_count": 52,
   "metadata": {},
   "outputs": [
    {
     "data": {
      "text/plain": [
       "NormaltestResult(statistic=149.2319151910935, pvalue=3.932795409902719e-33)"
      ]
     },
     "execution_count": 52,
     "metadata": {},
     "output_type": "execute_result"
    }
   ],
   "source": [
    "st.normaltest(X360)"
   ]
  },
  {
   "cell_type": "code",
   "execution_count": 53,
   "metadata": {},
   "outputs": [
    {
     "data": {
      "text/plain": [
       "NormaltestResult(statistic=170.85955653825806, pvalue=7.912590813663693e-38)"
      ]
     },
     "execution_count": 53,
     "metadata": {},
     "output_type": "execute_result"
    }
   ],
   "source": [
    "st.normaltest(PS3)"
   ]
  },
  {
   "cell_type": "markdown",
   "metadata": {},
   "source": [
    "Значение p-value намного меньше заданного критического значения, значит выборочные значения не принадлежат нормальному закону.\n",
    "Теперь мы точно знаем, что распеределения не являются нормальными.   \n",
    "А значит, учитывая таже, что переменная количественная, используем u-критерий Манна-Уитни"
   ]
  },
  {
   "cell_type": "code",
   "execution_count": 54,
   "metadata": {},
   "outputs": [
    {
     "data": {
      "text/plain": [
       "MannwhitneyuResult(statistic=424846.0, pvalue=0.37601205411656247)"
      ]
     },
     "execution_count": 54,
     "metadata": {},
     "output_type": "execute_result"
    }
   ],
   "source": [
    "st.mannwhitneyu(PS3, X360, alternative='two-sided')"
   ]
  },
  {
   "cell_type": "markdown",
   "metadata": {},
   "source": [
    "p-value значительно больше 0.05, не можем отвергнуть нулевую гипотезу\n",
    "\n",
    "Датасет не дал нам ответа какая же платформа всё-таки лучше по мнению пользователей."
   ]
  },
  {
   "cell_type": "markdown",
   "metadata": {},
   "source": [
    "## Вывод проекта\n",
    "\n",
    "В ходе выполнения исследования мы подготовили данные и нашли и исправили ошибки в данных, где было возможно заполнили пропуски, выявили самую популярную платформу (PS2) и самый популярный жанр(Action). Узнали, что пользователи ПК в среднем ставят более высокие оценки, что возможно экономический кризис хорошо влияет на продажи игр."
   ]
  }
 ],
 "metadata": {
  "ExecuteTimeLog": [
   {
    "duration": 901,
    "start_time": "2021-06-16T10:15:14.267Z"
   },
   {
    "duration": 4,
    "start_time": "2021-06-16T10:19:32.831Z"
   },
   {
    "duration": 381,
    "start_time": "2021-06-16T10:20:50.295Z"
   },
   {
    "duration": 203,
    "start_time": "2021-06-16T10:26:52.625Z"
   },
   {
    "duration": 355,
    "start_time": "2021-06-16T10:28:09.147Z"
   },
   {
    "duration": 364,
    "start_time": "2021-06-16T10:31:53.605Z"
   },
   {
    "duration": 533,
    "start_time": "2021-06-16T10:37:14.985Z"
   },
   {
    "duration": 626,
    "start_time": "2021-06-16T10:48:21.501Z"
   },
   {
    "duration": 637,
    "start_time": "2021-06-16T10:52:57.643Z"
   },
   {
    "duration": 555,
    "start_time": "2021-06-16T10:53:37.212Z"
   },
   {
    "duration": 492,
    "start_time": "2021-06-16T10:54:18.362Z"
   },
   {
    "duration": 577,
    "start_time": "2021-06-16T10:57:55.249Z"
   },
   {
    "duration": 583,
    "start_time": "2021-06-16T11:00:05.738Z"
   },
   {
    "duration": 542,
    "start_time": "2021-06-17T02:13:50.001Z"
   },
   {
    "duration": 869,
    "start_time": "2021-06-17T02:44:07.165Z"
   },
   {
    "duration": 584,
    "start_time": "2021-06-17T02:44:08.036Z"
   },
   {
    "duration": 1141,
    "start_time": "2021-06-17T02:50:18.878Z"
   },
   {
    "duration": 767,
    "start_time": "2021-06-17T02:50:20.023Z"
   },
   {
    "duration": 957,
    "start_time": "2021-06-17T02:52:06.303Z"
   },
   {
    "duration": 18,
    "start_time": "2021-06-17T02:53:11.852Z"
   },
   {
    "duration": 53,
    "start_time": "2021-06-17T03:07:44.092Z"
   },
   {
    "duration": 46,
    "start_time": "2021-06-17T03:15:31.581Z"
   },
   {
    "duration": 58,
    "start_time": "2021-06-17T03:16:03.338Z"
   },
   {
    "duration": 8286,
    "start_time": "2021-06-17T03:19:19.475Z"
   },
   {
    "duration": 8518,
    "start_time": "2021-06-17T03:19:33.437Z"
   },
   {
    "duration": 8582,
    "start_time": "2021-06-17T03:21:18.578Z"
   },
   {
    "duration": 42,
    "start_time": "2021-06-17T03:21:47.542Z"
   },
   {
    "duration": 648,
    "start_time": "2021-06-17T03:48:44.014Z"
   },
   {
    "duration": 548,
    "start_time": "2021-06-17T03:49:03.425Z"
   },
   {
    "duration": 393,
    "start_time": "2021-06-17T03:50:13.821Z"
   },
   {
    "duration": 391,
    "start_time": "2021-06-17T03:50:25.338Z"
   },
   {
    "duration": 383,
    "start_time": "2021-06-17T03:50:45.655Z"
   },
   {
    "duration": 335,
    "start_time": "2021-06-17T03:51:12.544Z"
   },
   {
    "duration": 75,
    "start_time": "2021-06-17T03:51:20.529Z"
   },
   {
    "duration": 2435,
    "start_time": "2021-06-17T03:54:52.583Z"
   },
   {
    "duration": 49,
    "start_time": "2021-06-17T03:55:24.133Z"
   },
   {
    "duration": 51,
    "start_time": "2021-06-17T04:17:31.153Z"
   },
   {
    "duration": 48,
    "start_time": "2021-06-17T04:17:54.982Z"
   },
   {
    "duration": 47,
    "start_time": "2021-06-17T04:18:53.929Z"
   },
   {
    "duration": 872,
    "start_time": "2021-06-17T04:19:04.753Z"
   },
   {
    "duration": 574,
    "start_time": "2021-06-17T04:19:05.627Z"
   },
   {
    "duration": 162,
    "start_time": "2021-06-17T04:19:06.204Z"
   },
   {
    "duration": 46,
    "start_time": "2021-06-17T04:34:29.605Z"
   },
   {
    "duration": 50,
    "start_time": "2021-06-17T04:34:39.774Z"
   },
   {
    "duration": 54,
    "start_time": "2021-06-17T04:54:09.195Z"
   },
   {
    "duration": 114,
    "start_time": "2021-06-17T04:54:55.225Z"
   },
   {
    "duration": 50,
    "start_time": "2021-06-17T04:55:02.094Z"
   },
   {
    "duration": 467,
    "start_time": "2021-06-17T04:59:28.493Z"
   },
   {
    "duration": 362,
    "start_time": "2021-06-17T05:00:11.866Z"
   },
   {
    "duration": 43,
    "start_time": "2021-06-17T05:00:39.513Z"
   },
   {
    "duration": 573,
    "start_time": "2021-06-17T05:00:59.398Z"
   },
   {
    "duration": 128,
    "start_time": "2021-06-17T05:01:40.555Z"
   },
   {
    "duration": 402,
    "start_time": "2021-06-17T05:03:52.601Z"
   },
   {
    "duration": 385,
    "start_time": "2021-06-17T05:16:15.422Z"
   },
   {
    "duration": 360,
    "start_time": "2021-06-17T05:16:25.537Z"
   },
   {
    "duration": 554,
    "start_time": "2021-06-17T05:16:49.628Z"
   },
   {
    "duration": 471,
    "start_time": "2021-06-17T05:17:38.553Z"
   },
   {
    "duration": 403,
    "start_time": "2021-06-17T05:18:23.321Z"
   },
   {
    "duration": 630,
    "start_time": "2021-06-17T05:19:28.553Z"
   },
   {
    "duration": 484,
    "start_time": "2021-06-17T05:25:08.771Z"
   },
   {
    "duration": 450,
    "start_time": "2021-06-17T05:25:21.166Z"
   },
   {
    "duration": 83,
    "start_time": "2021-06-17T05:25:40.319Z"
   },
   {
    "duration": 57,
    "start_time": "2021-06-17T05:26:04.980Z"
   },
   {
    "duration": 362,
    "start_time": "2021-06-17T05:26:24.158Z"
   },
   {
    "duration": 873,
    "start_time": "2021-06-17T05:26:36.348Z"
   },
   {
    "duration": 661,
    "start_time": "2021-06-17T05:26:37.224Z"
   },
   {
    "duration": 189,
    "start_time": "2021-06-17T05:26:37.888Z"
   },
   {
    "duration": 1172,
    "start_time": "2021-06-17T05:27:01.970Z"
   },
   {
    "duration": 969,
    "start_time": "2021-06-17T05:27:03.146Z"
   },
   {
    "duration": 290,
    "start_time": "2021-06-17T05:27:04.119Z"
   },
   {
    "duration": 881,
    "start_time": "2021-06-17T05:27:24.552Z"
   },
   {
    "duration": 664,
    "start_time": "2021-06-17T05:27:25.437Z"
   },
   {
    "duration": 210,
    "start_time": "2021-06-17T05:27:26.104Z"
   },
   {
    "duration": 72,
    "start_time": "2021-06-17T05:27:43.140Z"
   },
   {
    "duration": 921,
    "start_time": "2021-06-17T05:28:04.790Z"
   },
   {
    "duration": 669,
    "start_time": "2021-06-17T05:28:05.714Z"
   },
   {
    "duration": 249,
    "start_time": "2021-06-17T05:28:06.385Z"
   },
   {
    "duration": 102,
    "start_time": "2021-06-17T05:28:33.160Z"
   },
   {
    "duration": 920,
    "start_time": "2021-06-17T05:29:36.036Z"
   },
   {
    "duration": 644,
    "start_time": "2021-06-17T05:29:36.959Z"
   },
   {
    "duration": 208,
    "start_time": "2021-06-17T05:29:37.606Z"
   },
   {
    "duration": 1268,
    "start_time": "2021-06-17T05:29:55.352Z"
   },
   {
    "duration": 975,
    "start_time": "2021-06-17T05:29:56.624Z"
   },
   {
    "duration": 729,
    "start_time": "2021-06-17T05:29:57.603Z"
   },
   {
    "duration": 53,
    "start_time": "2021-06-17T05:30:06.188Z"
   },
   {
    "duration": 373,
    "start_time": "2021-06-17T05:31:01.002Z"
   },
   {
    "duration": 65,
    "start_time": "2021-06-17T05:31:14.565Z"
   },
   {
    "duration": 378,
    "start_time": "2021-06-17T05:31:28.663Z"
   },
   {
    "duration": 882,
    "start_time": "2021-06-17T05:31:37.421Z"
   },
   {
    "duration": 671,
    "start_time": "2021-06-17T05:31:38.306Z"
   },
   {
    "duration": 211,
    "start_time": "2021-06-17T05:31:38.980Z"
   },
   {
    "duration": 467,
    "start_time": "2021-06-17T05:38:52.616Z"
   },
   {
    "duration": 834,
    "start_time": "2021-06-17T05:39:05.623Z"
   },
   {
    "duration": 647,
    "start_time": "2021-06-17T05:39:06.461Z"
   },
   {
    "duration": 190,
    "start_time": "2021-06-17T05:39:07.111Z"
   },
   {
    "duration": 455,
    "start_time": "2021-06-17T08:00:50.487Z"
   },
   {
    "duration": 65,
    "start_time": "2021-06-17T08:01:07.566Z"
   },
   {
    "duration": 857,
    "start_time": "2021-06-17T08:02:52.476Z"
   },
   {
    "duration": 660,
    "start_time": "2021-06-17T08:02:53.336Z"
   },
   {
    "duration": 164,
    "start_time": "2021-06-17T08:02:53.999Z"
   },
   {
    "duration": 13,
    "start_time": "2021-06-17T08:02:54.166Z"
   },
   {
    "duration": 45,
    "start_time": "2021-06-17T08:05:45.945Z"
   },
   {
    "duration": 50,
    "start_time": "2021-06-17T08:07:17.077Z"
   },
   {
    "duration": 50,
    "start_time": "2021-06-17T08:09:42.625Z"
   },
   {
    "duration": 53,
    "start_time": "2021-06-17T08:09:56.854Z"
   },
   {
    "duration": 51,
    "start_time": "2021-06-17T08:10:16.494Z"
   },
   {
    "duration": 1561,
    "start_time": "2021-06-17T08:12:52.911Z"
   },
   {
    "duration": 522,
    "start_time": "2021-06-17T08:13:16.621Z"
   },
   {
    "duration": 1529,
    "start_time": "2021-06-17T08:13:22.685Z"
   },
   {
    "duration": 766,
    "start_time": "2021-06-17T08:13:24.216Z"
   },
   {
    "duration": 155,
    "start_time": "2021-06-17T08:13:24.985Z"
   },
   {
    "duration": 193,
    "start_time": "2021-06-17T08:13:25.142Z"
   },
   {
    "duration": 171,
    "start_time": "2021-06-17T08:16:13.235Z"
   },
   {
    "duration": 250,
    "start_time": "2021-06-17T08:46:19.689Z"
   },
   {
    "duration": 233,
    "start_time": "2021-06-17T08:51:39.334Z"
   },
   {
    "duration": 227,
    "start_time": "2021-06-17T08:53:00.311Z"
   },
   {
    "duration": 241,
    "start_time": "2021-06-17T08:53:24.384Z"
   },
   {
    "duration": 224,
    "start_time": "2021-06-17T08:53:39.512Z"
   },
   {
    "duration": 227,
    "start_time": "2021-06-17T08:54:55.938Z"
   },
   {
    "duration": 328,
    "start_time": "2021-06-17T08:55:03.265Z"
   },
   {
    "duration": 246,
    "start_time": "2021-06-17T08:55:24.489Z"
   },
   {
    "duration": 248,
    "start_time": "2021-06-17T08:56:03.126Z"
   },
   {
    "duration": 691,
    "start_time": "2021-06-17T08:57:55.951Z"
   },
   {
    "duration": 334,
    "start_time": "2021-06-17T09:00:08.734Z"
   },
   {
    "duration": 299,
    "start_time": "2021-06-17T09:00:59.116Z"
   },
   {
    "duration": 427,
    "start_time": "2021-06-17T09:34:46.943Z"
   },
   {
    "duration": 1452,
    "start_time": "2021-06-17T09:35:51.287Z"
   },
   {
    "duration": 643,
    "start_time": "2021-06-17T09:35:52.742Z"
   },
   {
    "duration": 169,
    "start_time": "2021-06-17T09:35:53.387Z"
   },
   {
    "duration": 780,
    "start_time": "2021-06-17T09:35:53.563Z"
   },
   {
    "duration": 347,
    "start_time": "2021-06-17T09:37:31.108Z"
   },
   {
    "duration": 313,
    "start_time": "2021-06-17T09:39:47.298Z"
   },
   {
    "duration": 359,
    "start_time": "2021-06-17T09:49:40.921Z"
   },
   {
    "duration": 640,
    "start_time": "2021-06-17T10:01:08.098Z"
   },
   {
    "duration": 379,
    "start_time": "2021-06-17T10:01:20.540Z"
   },
   {
    "duration": 400,
    "start_time": "2021-06-17T10:35:36.877Z"
   },
   {
    "duration": 630,
    "start_time": "2021-06-17T10:43:48.508Z"
   },
   {
    "duration": 680,
    "start_time": "2021-06-17T10:44:01.782Z"
   },
   {
    "duration": 672,
    "start_time": "2021-06-17T10:44:13.021Z"
   },
   {
    "duration": 396,
    "start_time": "2021-06-17T10:45:19.324Z"
   },
   {
    "duration": 592,
    "start_time": "2021-06-17T10:45:32.654Z"
   },
   {
    "duration": 589,
    "start_time": "2021-06-17T10:45:38.338Z"
   },
   {
    "duration": 628,
    "start_time": "2021-06-17T10:47:00.421Z"
   },
   {
    "duration": 1423,
    "start_time": "2021-06-17T10:47:12.025Z"
   },
   {
    "duration": 930,
    "start_time": "2021-06-17T10:47:13.451Z"
   },
   {
    "duration": 218,
    "start_time": "2021-06-17T10:47:14.385Z"
   },
   {
    "duration": 1059,
    "start_time": "2021-06-17T10:47:14.606Z"
   },
   {
    "duration": 824,
    "start_time": "2021-06-17T10:47:26.616Z"
   },
   {
    "duration": 1048,
    "start_time": "2021-06-17T10:48:22.998Z"
   },
   {
    "duration": 631,
    "start_time": "2021-06-17T10:48:33.242Z"
   },
   {
    "duration": 678,
    "start_time": "2021-06-17T10:51:32.027Z"
   },
   {
    "duration": 654,
    "start_time": "2021-06-17T10:51:40.139Z"
   },
   {
    "duration": 753,
    "start_time": "2021-06-17T10:51:52.849Z"
   },
   {
    "duration": 430,
    "start_time": "2021-06-17T10:53:37.431Z"
   },
   {
    "duration": 1429,
    "start_time": "2021-06-17T10:53:50.211Z"
   },
   {
    "duration": 663,
    "start_time": "2021-06-17T10:53:51.643Z"
   },
   {
    "duration": 168,
    "start_time": "2021-06-17T10:53:52.308Z"
   },
   {
    "duration": 463,
    "start_time": "2021-06-17T10:53:52.479Z"
   },
   {
    "duration": 396,
    "start_time": "2021-06-17T10:53:59.237Z"
   },
   {
    "duration": 791,
    "start_time": "2021-06-17T10:54:09.763Z"
   },
   {
    "duration": 595,
    "start_time": "2021-06-17T10:54:20.090Z"
   },
   {
    "duration": 407,
    "start_time": "2021-06-17T10:54:38.206Z"
   },
   {
    "duration": 618,
    "start_time": "2021-06-17T10:55:33.678Z"
   },
   {
    "duration": 768,
    "start_time": "2021-06-17T10:56:11.989Z"
   },
   {
    "duration": 396,
    "start_time": "2021-06-17T10:56:25.936Z"
   },
   {
    "duration": 671,
    "start_time": "2021-06-17T10:57:12.491Z"
   },
   {
    "duration": 650,
    "start_time": "2021-06-17T11:01:58.545Z"
   },
   {
    "duration": 1689,
    "start_time": "2021-06-17T11:02:50.666Z"
   },
   {
    "duration": 726,
    "start_time": "2021-06-17T11:02:59.969Z"
   },
   {
    "duration": 631,
    "start_time": "2021-06-17T11:03:07.425Z"
   },
   {
    "duration": 438,
    "start_time": "2021-06-17T11:03:18.081Z"
   },
   {
    "duration": 609,
    "start_time": "2021-06-18T02:18:36.566Z"
   },
   {
    "duration": 636,
    "start_time": "2021-06-18T02:18:58.999Z"
   },
   {
    "duration": 814,
    "start_time": "2021-06-18T02:20:11.758Z"
   },
   {
    "duration": 405,
    "start_time": "2021-06-18T02:20:19.597Z"
   },
   {
    "duration": 407,
    "start_time": "2021-06-18T02:20:31.883Z"
   },
   {
    "duration": 593,
    "start_time": "2021-06-18T02:23:26.520Z"
   },
   {
    "duration": 1364,
    "start_time": "2021-06-18T02:23:42.165Z"
   },
   {
    "duration": 656,
    "start_time": "2021-06-18T02:23:43.533Z"
   },
   {
    "duration": 158,
    "start_time": "2021-06-18T02:23:44.193Z"
   },
   {
    "duration": 810,
    "start_time": "2021-06-18T02:23:44.354Z"
   },
   {
    "duration": 654,
    "start_time": "2021-06-18T02:26:40.340Z"
   },
   {
    "duration": 404,
    "start_time": "2021-06-18T02:26:49.532Z"
   },
   {
    "duration": 426,
    "start_time": "2021-06-18T02:27:01.545Z"
   },
   {
    "duration": 543,
    "start_time": "2021-06-18T02:35:23.697Z"
   },
   {
    "duration": 694,
    "start_time": "2021-06-18T02:35:33.094Z"
   },
   {
    "duration": 387,
    "start_time": "2021-06-18T02:36:58.435Z"
   },
   {
    "duration": 374,
    "start_time": "2021-06-18T02:49:07.595Z"
   },
   {
    "duration": 346,
    "start_time": "2021-06-18T02:49:52.460Z"
   },
   {
    "duration": 358,
    "start_time": "2021-06-18T02:50:06.339Z"
   },
   {
    "duration": 102,
    "start_time": "2021-06-18T02:51:53.354Z"
   },
   {
    "duration": 395,
    "start_time": "2021-06-18T02:51:58.388Z"
   },
   {
    "duration": 378,
    "start_time": "2021-06-18T03:04:04.758Z"
   },
   {
    "duration": 402,
    "start_time": "2021-06-18T03:06:01.703Z"
   },
   {
    "duration": 398,
    "start_time": "2021-06-18T03:16:27.404Z"
   },
   {
    "duration": 444,
    "start_time": "2021-06-18T05:28:56.425Z"
   },
   {
    "duration": 490,
    "start_time": "2021-06-18T05:30:27.729Z"
   },
   {
    "duration": 293,
    "start_time": "2021-06-18T05:31:05.801Z"
   },
   {
    "duration": 917,
    "start_time": "2021-06-18T05:31:19.893Z"
   },
   {
    "duration": 426,
    "start_time": "2021-06-18T05:32:26.685Z"
   },
   {
    "duration": 330,
    "start_time": "2021-06-18T05:33:13.377Z"
   },
   {
    "duration": 718,
    "start_time": "2021-06-18T07:12:13.424Z"
   },
   {
    "duration": 649,
    "start_time": "2021-06-18T07:12:21.122Z"
   },
   {
    "duration": 633,
    "start_time": "2021-06-18T07:12:32.737Z"
   },
   {
    "duration": 309,
    "start_time": "2021-06-18T07:12:42.709Z"
   },
   {
    "duration": 305,
    "start_time": "2021-06-18T07:50:15.538Z"
   },
   {
    "duration": 512,
    "start_time": "2021-06-18T07:50:44.407Z"
   },
   {
    "duration": 519,
    "start_time": "2021-06-18T07:51:25.406Z"
   },
   {
    "duration": 385,
    "start_time": "2021-06-18T08:30:06.655Z"
   },
   {
    "duration": 319,
    "start_time": "2021-06-18T08:37:36.692Z"
   },
   {
    "duration": 673,
    "start_time": "2021-06-18T08:50:27.329Z"
   },
   {
    "duration": 1470,
    "start_time": "2021-06-18T08:50:59.192Z"
   },
   {
    "duration": 668,
    "start_time": "2021-06-18T08:51:00.665Z"
   },
   {
    "duration": 160,
    "start_time": "2021-06-18T08:51:01.336Z"
   },
   {
    "duration": 966,
    "start_time": "2021-06-18T08:51:01.499Z"
   },
   {
    "duration": 477,
    "start_time": "2021-06-18T08:51:45.225Z"
   },
   {
    "duration": 754,
    "start_time": "2021-06-18T08:52:25.845Z"
   },
   {
    "duration": 655,
    "start_time": "2021-06-18T08:52:33.716Z"
   },
   {
    "duration": 752,
    "start_time": "2021-06-18T08:52:48.688Z"
   },
   {
    "duration": 619,
    "start_time": "2021-06-18T08:52:59.204Z"
   },
   {
    "duration": 331,
    "start_time": "2021-06-18T08:53:14.914Z"
   },
   {
    "duration": 316,
    "start_time": "2021-06-18T08:53:32.635Z"
   },
   {
    "duration": 767,
    "start_time": "2021-06-18T08:54:43.953Z"
   },
   {
    "duration": 1006,
    "start_time": "2021-06-18T08:54:54.738Z"
   },
   {
    "duration": 912,
    "start_time": "2021-06-18T08:57:35.937Z"
   },
   {
    "duration": 334,
    "start_time": "2021-06-18T08:57:47.089Z"
   },
   {
    "duration": 349,
    "start_time": "2021-06-18T08:57:55.403Z"
   },
   {
    "duration": 452,
    "start_time": "2021-06-18T08:58:53.521Z"
   },
   {
    "duration": 361,
    "start_time": "2021-06-18T08:59:22.395Z"
   },
   {
    "duration": 361,
    "start_time": "2021-06-18T08:59:49.195Z"
   },
   {
    "duration": 318,
    "start_time": "2021-06-18T09:00:22.535Z"
   },
   {
    "duration": 322,
    "start_time": "2021-06-18T09:00:53.632Z"
   },
   {
    "duration": 324,
    "start_time": "2021-06-18T09:01:21.307Z"
   },
   {
    "duration": 318,
    "start_time": "2021-06-18T09:01:32.108Z"
   },
   {
    "duration": 312,
    "start_time": "2021-06-18T09:02:00.139Z"
   },
   {
    "duration": 316,
    "start_time": "2021-06-18T09:02:13.535Z"
   },
   {
    "duration": 331,
    "start_time": "2021-06-18T09:02:53.015Z"
   },
   {
    "duration": 330,
    "start_time": "2021-06-18T09:03:05.949Z"
   },
   {
    "duration": 326,
    "start_time": "2021-06-18T09:03:26.383Z"
   },
   {
    "duration": 326,
    "start_time": "2021-06-18T09:03:48.691Z"
   },
   {
    "duration": 331,
    "start_time": "2021-06-18T09:04:44.612Z"
   },
   {
    "duration": 332,
    "start_time": "2021-06-18T09:20:38.306Z"
   },
   {
    "duration": 331,
    "start_time": "2021-06-18T09:21:05.085Z"
   },
   {
    "duration": 329,
    "start_time": "2021-06-18T09:21:56.259Z"
   },
   {
    "duration": 1361,
    "start_time": "2021-06-18T09:22:04.921Z"
   },
   {
    "duration": 692,
    "start_time": "2021-06-18T09:22:06.285Z"
   },
   {
    "duration": 162,
    "start_time": "2021-06-18T09:22:06.981Z"
   },
   {
    "duration": 925,
    "start_time": "2021-06-18T09:22:07.146Z"
   },
   {
    "duration": 326,
    "start_time": "2021-06-18T09:22:25.209Z"
   },
   {
    "duration": 368,
    "start_time": "2021-06-18T09:22:57.852Z"
   },
   {
    "duration": 324,
    "start_time": "2021-06-18T09:29:29.622Z"
   },
   {
    "duration": 329,
    "start_time": "2021-06-18T09:36:46.677Z"
   },
   {
    "duration": 1394,
    "start_time": "2021-06-18T09:39:01.037Z"
   },
   {
    "duration": 650,
    "start_time": "2021-06-18T09:39:02.434Z"
   },
   {
    "duration": 150,
    "start_time": "2021-06-18T09:39:03.088Z"
   },
   {
    "duration": 390,
    "start_time": "2021-06-18T09:39:03.240Z"
   },
   {
    "duration": 1050,
    "start_time": "2021-06-18T09:42:01.900Z"
   },
   {
    "duration": 332,
    "start_time": "2021-06-18T09:42:17.241Z"
   },
   {
    "duration": 365,
    "start_time": "2021-06-18T09:49:01.836Z"
   },
   {
    "duration": 347,
    "start_time": "2021-06-18T09:49:11.719Z"
   },
   {
    "duration": 361,
    "start_time": "2021-06-18T09:49:26.183Z"
   },
   {
    "duration": 740,
    "start_time": "2021-06-18T10:56:00.538Z"
   },
   {
    "duration": 1454,
    "start_time": "2021-06-18T10:56:22.473Z"
   },
   {
    "duration": 891,
    "start_time": "2021-06-18T10:56:23.930Z"
   },
   {
    "duration": 237,
    "start_time": "2021-06-18T10:56:24.825Z"
   },
   {
    "duration": 1071,
    "start_time": "2021-06-18T10:56:25.066Z"
   },
   {
    "duration": 707,
    "start_time": "2021-06-18T10:56:49.064Z"
   },
   {
    "duration": 683,
    "start_time": "2021-06-18T10:57:43.631Z"
   },
   {
    "duration": 1176,
    "start_time": "2021-06-18T10:58:05.332Z"
   },
   {
    "duration": 11064,
    "start_time": "2021-06-18T11:00:09.005Z"
   },
   {
    "duration": 1430,
    "start_time": "2021-06-18T11:01:02.821Z"
   },
   {
    "duration": 661,
    "start_time": "2021-06-18T11:01:04.255Z"
   },
   {
    "duration": 164,
    "start_time": "2021-06-18T11:01:04.919Z"
   },
   {
    "duration": 9669,
    "start_time": "2021-06-18T11:01:05.086Z"
   },
   {
    "duration": 12218,
    "start_time": "2021-06-18T11:01:59.038Z"
   },
   {
    "duration": 9511,
    "start_time": "2021-06-18T11:08:40.452Z"
   },
   {
    "duration": 724,
    "start_time": "2021-06-18T11:10:30.868Z"
   },
   {
    "duration": 8991,
    "start_time": "2021-06-18T11:11:36.026Z"
   },
   {
    "duration": 9744,
    "start_time": "2021-06-18T11:12:05.063Z"
   },
   {
    "duration": 9059,
    "start_time": "2021-06-18T11:12:31.838Z"
   },
   {
    "duration": 689,
    "start_time": "2021-06-18T11:14:15.156Z"
   },
   {
    "duration": 1214,
    "start_time": "2021-06-18T11:14:28.184Z"
   },
   {
    "duration": 8909,
    "start_time": "2021-06-18T11:14:42.158Z"
   },
   {
    "duration": 9437,
    "start_time": "2021-06-18T11:16:26.206Z"
   },
   {
    "duration": 9597,
    "start_time": "2021-06-18T11:18:48.515Z"
   },
   {
    "duration": 1409,
    "start_time": "2021-06-18T11:19:30.837Z"
   },
   {
    "duration": 681,
    "start_time": "2021-06-18T11:19:32.249Z"
   },
   {
    "duration": 157,
    "start_time": "2021-06-18T11:19:32.933Z"
   },
   {
    "duration": 9141,
    "start_time": "2021-06-18T11:19:33.092Z"
   },
   {
    "duration": 713,
    "start_time": "2021-06-18T11:26:40.794Z"
   },
   {
    "duration": 855,
    "start_time": "2021-06-18T11:27:34.633Z"
   },
   {
    "duration": 8946,
    "start_time": "2021-06-18T11:28:49.154Z"
   },
   {
    "duration": 9011,
    "start_time": "2021-06-18T11:29:29.099Z"
   },
   {
    "duration": 787,
    "start_time": "2021-06-18T11:34:27.982Z"
   },
   {
    "duration": 8829,
    "start_time": "2021-06-18T11:34:38.516Z"
   },
   {
    "duration": 8658,
    "start_time": "2021-06-18T11:36:59.827Z"
   },
   {
    "duration": 329,
    "start_time": "2021-06-18T11:37:20.374Z"
   },
   {
    "duration": 338,
    "start_time": "2021-06-18T11:38:06.778Z"
   },
   {
    "duration": 343,
    "start_time": "2021-06-18T11:38:37.303Z"
   },
   {
    "duration": 337,
    "start_time": "2021-06-18T11:39:06.708Z"
   },
   {
    "duration": 341,
    "start_time": "2021-06-18T11:39:15.280Z"
   },
   {
    "duration": 346,
    "start_time": "2021-06-18T11:39:22.066Z"
   },
   {
    "duration": 11304,
    "start_time": "2021-06-18T11:39:41.343Z"
   },
   {
    "duration": 345,
    "start_time": "2021-06-18T11:40:23.766Z"
   },
   {
    "duration": 356,
    "start_time": "2021-06-21T02:56:00.501Z"
   },
   {
    "duration": 1320,
    "start_time": "2021-06-21T02:56:22.706Z"
   },
   {
    "duration": 656,
    "start_time": "2021-06-21T02:56:24.028Z"
   },
   {
    "duration": 154,
    "start_time": "2021-06-21T02:56:24.687Z"
   },
   {
    "duration": 415,
    "start_time": "2021-06-21T02:56:24.843Z"
   },
   {
    "duration": 9335,
    "start_time": "2021-06-21T02:59:12.804Z"
   },
   {
    "duration": 9195,
    "start_time": "2021-06-21T03:05:29.767Z"
   },
   {
    "duration": 956,
    "start_time": "2021-06-21T03:08:47.689Z"
   },
   {
    "duration": 893,
    "start_time": "2021-06-21T03:09:02.125Z"
   },
   {
    "duration": 943,
    "start_time": "2021-06-21T03:09:45.692Z"
   },
   {
    "duration": 8881,
    "start_time": "2021-06-21T03:10:15.927Z"
   },
   {
    "duration": 1359,
    "start_time": "2021-06-21T03:30:49.376Z"
   },
   {
    "duration": 889,
    "start_time": "2021-06-21T03:30:50.737Z"
   },
   {
    "duration": 146,
    "start_time": "2021-06-21T03:30:51.662Z"
   },
   {
    "duration": 851,
    "start_time": "2021-06-21T03:30:51.811Z"
   },
   {
    "duration": 711,
    "start_time": "2021-06-21T03:38:34.033Z"
   },
   {
    "duration": 8790,
    "start_time": "2021-06-21T03:38:46.410Z"
   },
   {
    "duration": 8715,
    "start_time": "2021-06-21T03:40:44.873Z"
   },
   {
    "duration": 8837,
    "start_time": "2021-06-21T03:50:22.259Z"
   },
   {
    "duration": 10075,
    "start_time": "2021-06-21T03:51:22.791Z"
   },
   {
    "duration": 8791,
    "start_time": "2021-06-21T03:52:26.863Z"
   },
   {
    "duration": 8687,
    "start_time": "2021-06-21T03:58:27.946Z"
   },
   {
    "duration": 910,
    "start_time": "2021-06-21T04:02:06.742Z"
   },
   {
    "duration": 686,
    "start_time": "2021-06-21T04:02:27.149Z"
   },
   {
    "duration": 597,
    "start_time": "2021-06-21T04:09:43.826Z"
   },
   {
    "duration": 590,
    "start_time": "2021-06-21T04:11:25.904Z"
   },
   {
    "duration": 557,
    "start_time": "2021-06-21T04:12:42.382Z"
   },
   {
    "duration": 671,
    "start_time": "2021-06-21T04:13:39.775Z"
   },
   {
    "duration": 572,
    "start_time": "2021-06-21T04:19:59.211Z"
   },
   {
    "duration": 9225,
    "start_time": "2021-06-21T04:23:51.988Z"
   },
   {
    "duration": 9009,
    "start_time": "2021-06-21T04:24:36.005Z"
   },
   {
    "duration": 1327,
    "start_time": "2021-06-21T04:27:36.801Z"
   },
   {
    "duration": 656,
    "start_time": "2021-06-21T04:27:38.131Z"
   },
   {
    "duration": 161,
    "start_time": "2021-06-21T04:27:38.790Z"
   },
   {
    "duration": 10111,
    "start_time": "2021-06-21T04:27:38.953Z"
   },
   {
    "duration": 424,
    "start_time": "2021-06-21T04:32:17.446Z"
   },
   {
    "duration": 1338,
    "start_time": "2021-06-21T04:38:17.090Z"
   },
   {
    "duration": 649,
    "start_time": "2021-06-21T04:38:18.431Z"
   },
   {
    "duration": 151,
    "start_time": "2021-06-21T04:38:19.083Z"
   },
   {
    "duration": 8757,
    "start_time": "2021-06-21T04:38:19.236Z"
   },
   {
    "duration": 307,
    "start_time": "2021-06-21T04:39:01.844Z"
   },
   {
    "duration": 312,
    "start_time": "2021-06-21T04:39:07.520Z"
   },
   {
    "duration": 13,
    "start_time": "2021-06-21T04:39:29.383Z"
   },
   {
    "duration": 972,
    "start_time": "2021-06-21T04:39:47.163Z"
   },
   {
    "duration": 1054,
    "start_time": "2021-06-21T04:40:04.596Z"
   },
   {
    "duration": 5,
    "start_time": "2021-06-21T04:46:33.579Z"
   },
   {
    "duration": 29,
    "start_time": "2021-06-21T04:46:45.267Z"
   },
   {
    "duration": 29,
    "start_time": "2021-06-21T04:47:54.743Z"
   },
   {
    "duration": 31,
    "start_time": "2021-06-21T04:49:04.524Z"
   },
   {
    "duration": 27,
    "start_time": "2021-06-21T04:49:17.543Z"
   },
   {
    "duration": 19,
    "start_time": "2021-06-21T04:50:00.977Z"
   },
   {
    "duration": 24,
    "start_time": "2021-06-21T04:50:22.495Z"
   },
   {
    "duration": 378,
    "start_time": "2021-06-21T04:50:30.485Z"
   },
   {
    "duration": 39,
    "start_time": "2021-06-21T04:51:29.305Z"
   },
   {
    "duration": 334,
    "start_time": "2021-06-21T04:52:52.806Z"
   },
   {
    "duration": 16,
    "start_time": "2021-06-21T04:53:12.763Z"
   },
   {
    "duration": 11,
    "start_time": "2021-06-21T04:53:56.090Z"
   },
   {
    "duration": 17,
    "start_time": "2021-06-21T04:54:35.871Z"
   },
   {
    "duration": 11,
    "start_time": "2021-06-21T04:54:50.203Z"
   },
   {
    "duration": 31,
    "start_time": "2021-06-21T04:55:20.707Z"
   },
   {
    "duration": 33,
    "start_time": "2021-06-21T04:57:45.616Z"
   },
   {
    "duration": 27,
    "start_time": "2021-06-21T05:01:18.129Z"
   },
   {
    "duration": 28,
    "start_time": "2021-06-21T05:01:31.425Z"
   },
   {
    "duration": 23,
    "start_time": "2021-06-21T05:01:38.573Z"
   },
   {
    "duration": 34,
    "start_time": "2021-06-21T05:01:44.509Z"
   },
   {
    "duration": 47,
    "start_time": "2021-06-21T05:01:49.199Z"
   },
   {
    "duration": 47,
    "start_time": "2021-06-21T05:01:55.696Z"
   },
   {
    "duration": 24,
    "start_time": "2021-06-21T05:02:06.332Z"
   },
   {
    "duration": 416,
    "start_time": "2021-06-21T05:02:13.187Z"
   },
   {
    "duration": 345,
    "start_time": "2021-06-21T05:02:28.445Z"
   },
   {
    "duration": 382,
    "start_time": "2021-06-21T05:02:39.738Z"
   },
   {
    "duration": 343,
    "start_time": "2021-06-21T05:02:43.882Z"
   },
   {
    "duration": 354,
    "start_time": "2021-06-21T05:02:51.052Z"
   },
   {
    "duration": 1365,
    "start_time": "2021-06-21T05:03:03.062Z"
   },
   {
    "duration": 649,
    "start_time": "2021-06-21T05:03:04.429Z"
   },
   {
    "duration": 162,
    "start_time": "2021-06-21T05:03:05.081Z"
   },
   {
    "duration": 44,
    "start_time": "2021-06-21T05:03:05.246Z"
   },
   {
    "duration": 1063,
    "start_time": "2021-06-21T05:03:05.292Z"
   },
   {
    "duration": 405,
    "start_time": "2021-06-21T05:03:06.357Z"
   },
   {
    "duration": 30,
    "start_time": "2021-06-21T05:03:15.170Z"
   },
   {
    "duration": 29,
    "start_time": "2021-06-21T05:03:18.980Z"
   },
   {
    "duration": 6,
    "start_time": "2021-06-21T05:03:24.848Z"
   },
   {
    "duration": 6,
    "start_time": "2021-06-21T05:03:30.813Z"
   },
   {
    "duration": 1368,
    "start_time": "2021-06-21T05:04:14.869Z"
   },
   {
    "duration": 638,
    "start_time": "2021-06-21T05:04:16.239Z"
   },
   {
    "duration": 154,
    "start_time": "2021-06-21T05:04:16.880Z"
   },
   {
    "duration": 38,
    "start_time": "2021-06-21T05:04:17.037Z"
   },
   {
    "duration": 1057,
    "start_time": "2021-06-21T05:04:17.078Z"
   },
   {
    "duration": 6,
    "start_time": "2021-06-21T05:04:18.138Z"
   },
   {
    "duration": 27,
    "start_time": "2021-06-21T05:04:23.328Z"
   },
   {
    "duration": 28,
    "start_time": "2021-06-21T05:04:32.428Z"
   },
   {
    "duration": 26,
    "start_time": "2021-06-21T05:04:39.617Z"
   },
   {
    "duration": 1664,
    "start_time": "2021-06-21T05:06:11.156Z"
   },
   {
    "duration": 677,
    "start_time": "2021-06-21T05:06:12.823Z"
   },
   {
    "duration": 158,
    "start_time": "2021-06-21T05:06:13.503Z"
   },
   {
    "duration": 35,
    "start_time": "2021-06-21T05:06:13.664Z"
   },
   {
    "duration": 1060,
    "start_time": "2021-06-21T05:06:13.701Z"
   },
   {
    "duration": 28,
    "start_time": "2021-06-21T05:06:14.764Z"
   },
   {
    "duration": 29,
    "start_time": "2021-06-21T05:06:26.754Z"
   },
   {
    "duration": 29,
    "start_time": "2021-06-21T05:06:37.760Z"
   },
   {
    "duration": 1327,
    "start_time": "2021-06-21T05:14:57.602Z"
   },
   {
    "duration": 657,
    "start_time": "2021-06-21T05:14:58.932Z"
   },
   {
    "duration": 164,
    "start_time": "2021-06-21T05:14:59.593Z"
   },
   {
    "duration": 1043,
    "start_time": "2021-06-21T05:14:59.762Z"
   },
   {
    "duration": 32,
    "start_time": "2021-06-21T05:15:00.808Z"
   },
   {
    "duration": 584,
    "start_time": "2021-06-21T05:15:38.417Z"
   },
   {
    "duration": 82,
    "start_time": "2021-06-21T07:14:08.488Z"
   },
   {
    "duration": 63,
    "start_time": "2021-06-21T07:16:06.758Z"
   },
   {
    "duration": 1409,
    "start_time": "2021-06-21T07:46:52.121Z"
   },
   {
    "duration": 594,
    "start_time": "2021-06-21T07:46:53.533Z"
   },
   {
    "duration": 133,
    "start_time": "2021-06-21T07:46:54.130Z"
   },
   {
    "duration": 373,
    "start_time": "2021-06-21T07:46:54.266Z"
   },
   {
    "duration": 715,
    "start_time": "2021-06-21T07:46:54.641Z"
   },
   {
    "duration": 55,
    "start_time": "2021-06-21T07:46:55.362Z"
   },
   {
    "duration": 54,
    "start_time": "2021-06-21T07:51:20.965Z"
   },
   {
    "duration": 66,
    "start_time": "2021-06-21T07:52:40.292Z"
   },
   {
    "duration": 1491,
    "start_time": "2021-06-21T07:53:27.337Z"
   },
   {
    "duration": 590,
    "start_time": "2021-06-21T07:53:28.831Z"
   },
   {
    "duration": 158,
    "start_time": "2021-06-21T07:53:29.424Z"
   },
   {
    "duration": 367,
    "start_time": "2021-06-21T07:53:29.585Z"
   },
   {
    "duration": 707,
    "start_time": "2021-06-21T07:53:29.955Z"
   },
   {
    "duration": 63,
    "start_time": "2021-06-21T07:53:30.664Z"
   },
   {
    "duration": 1429,
    "start_time": "2021-06-21T07:54:26.745Z"
   },
   {
    "duration": 589,
    "start_time": "2021-06-21T07:54:28.177Z"
   },
   {
    "duration": 160,
    "start_time": "2021-06-21T07:54:28.769Z"
   },
   {
    "duration": 382,
    "start_time": "2021-06-21T07:54:28.931Z"
   },
   {
    "duration": 710,
    "start_time": "2021-06-21T07:54:29.315Z"
   },
   {
    "duration": 71,
    "start_time": "2021-06-21T07:54:30.028Z"
   },
   {
    "duration": 515,
    "start_time": "2021-06-21T09:23:04.747Z"
   },
   {
    "duration": 754,
    "start_time": "2021-06-21T09:23:11.835Z"
   },
   {
    "duration": 993,
    "start_time": "2021-06-21T09:23:25.501Z"
   },
   {
    "duration": 665,
    "start_time": "2021-06-21T09:23:37.441Z"
   },
   {
    "duration": 679,
    "start_time": "2021-06-21T09:24:06.586Z"
   },
   {
    "duration": 428,
    "start_time": "2021-06-21T09:24:09.113Z"
   },
   {
    "duration": 79,
    "start_time": "2021-06-21T09:24:18.377Z"
   },
   {
    "duration": 1438,
    "start_time": "2021-06-21T09:27:50.790Z"
   },
   {
    "duration": 590,
    "start_time": "2021-06-21T09:27:52.230Z"
   },
   {
    "duration": 156,
    "start_time": "2021-06-21T09:27:52.823Z"
   },
   {
    "duration": 379,
    "start_time": "2021-06-21T09:27:52.982Z"
   },
   {
    "duration": 713,
    "start_time": "2021-06-21T09:27:53.364Z"
   },
   {
    "duration": 83,
    "start_time": "2021-06-21T09:27:54.079Z"
   },
   {
    "duration": 692,
    "start_time": "2021-06-21T09:27:54.164Z"
   },
   {
    "duration": 100,
    "start_time": "2021-06-21T09:27:54.863Z"
   },
   {
    "duration": 81,
    "start_time": "2021-06-21T09:28:03.600Z"
   },
   {
    "duration": 1833,
    "start_time": "2021-06-21T09:28:09.712Z"
   },
   {
    "duration": 583,
    "start_time": "2021-06-21T09:28:11.549Z"
   },
   {
    "duration": 156,
    "start_time": "2021-06-21T09:28:12.136Z"
   },
   {
    "duration": 481,
    "start_time": "2021-06-21T09:28:12.295Z"
   },
   {
    "duration": 768,
    "start_time": "2021-06-21T09:28:12.779Z"
   },
   {
    "duration": 71,
    "start_time": "2021-06-21T09:28:13.549Z"
   },
   {
    "duration": 709,
    "start_time": "2021-06-21T09:28:13.622Z"
   },
   {
    "duration": 90,
    "start_time": "2021-06-21T09:28:14.334Z"
   },
   {
    "duration": 1345,
    "start_time": "2021-06-21T09:29:03.292Z"
   },
   {
    "duration": 574,
    "start_time": "2021-06-21T09:29:04.640Z"
   },
   {
    "duration": 154,
    "start_time": "2021-06-21T09:29:05.216Z"
   },
   {
    "duration": 373,
    "start_time": "2021-06-21T09:29:05.372Z"
   },
   {
    "duration": 710,
    "start_time": "2021-06-21T09:29:05.748Z"
   },
   {
    "duration": 684,
    "start_time": "2021-06-21T09:29:06.463Z"
   },
   {
    "duration": 88,
    "start_time": "2021-06-21T09:29:07.151Z"
   },
   {
    "duration": 501,
    "start_time": "2021-06-21T09:50:10.890Z"
   },
   {
    "duration": 378,
    "start_time": "2021-06-21T09:50:19.878Z"
   },
   {
    "duration": 993,
    "start_time": "2021-06-21T09:50:54.177Z"
   },
   {
    "duration": 1408,
    "start_time": "2021-06-21T09:51:29.015Z"
   },
   {
    "duration": 592,
    "start_time": "2021-06-21T09:51:30.425Z"
   },
   {
    "duration": 167,
    "start_time": "2021-06-21T09:51:31.020Z"
   },
   {
    "duration": 374,
    "start_time": "2021-06-21T09:51:31.189Z"
   },
   {
    "duration": 685,
    "start_time": "2021-06-21T09:51:31.565Z"
   },
   {
    "duration": 648,
    "start_time": "2021-06-21T09:51:32.252Z"
   },
   {
    "duration": 671,
    "start_time": "2021-06-21T09:51:32.902Z"
   },
   {
    "duration": 96,
    "start_time": "2021-06-21T09:51:33.577Z"
   },
   {
    "duration": 129,
    "start_time": "2021-06-21T10:18:08.569Z"
   },
   {
    "duration": 800,
    "start_time": "2021-06-21T10:43:30.390Z"
   },
   {
    "duration": 379,
    "start_time": "2021-06-21T10:56:06.658Z"
   },
   {
    "duration": 697,
    "start_time": "2021-06-21T10:56:45.120Z"
   },
   {
    "duration": 98,
    "start_time": "2021-06-21T10:56:51.629Z"
   },
   {
    "duration": 685,
    "start_time": "2021-06-21T10:57:33.078Z"
   },
   {
    "duration": 92,
    "start_time": "2021-06-21T10:57:36.824Z"
   },
   {
    "duration": 6919,
    "start_time": "2021-06-21T11:02:34.877Z"
   },
   {
    "duration": 104,
    "start_time": "2021-06-21T11:02:41.800Z"
   },
   {
    "duration": 812,
    "start_time": "2021-06-21T11:03:28.983Z"
   },
   {
    "duration": 88,
    "start_time": "2021-06-21T11:03:29.710Z"
   },
   {
    "duration": 1011,
    "start_time": "2021-06-21T11:04:47.885Z"
   },
   {
    "duration": 5807,
    "start_time": "2021-06-21T11:05:15.238Z"
   },
   {
    "duration": 67,
    "start_time": "2021-06-21T11:05:20.982Z"
   },
   {
    "duration": 131,
    "start_time": "2021-06-21T11:07:56.474Z"
   },
   {
    "duration": 128,
    "start_time": "2021-06-21T11:08:03.243Z"
   },
   {
    "duration": 6973,
    "start_time": "2021-06-21T11:08:12.029Z"
   },
   {
    "duration": 106,
    "start_time": "2021-06-21T11:08:18.900Z"
   },
   {
    "duration": 881,
    "start_time": "2021-06-21T11:09:08.037Z"
   },
   {
    "duration": 633,
    "start_time": "2021-06-21T11:09:15.052Z"
   },
   {
    "duration": 78,
    "start_time": "2021-06-21T11:09:23.936Z"
   },
   {
    "duration": 2313,
    "start_time": "2021-06-21T11:10:09.066Z"
   },
   {
    "duration": 111,
    "start_time": "2021-06-21T11:10:11.382Z"
   },
   {
    "duration": 66,
    "start_time": "2021-06-21T11:13:20.739Z"
   },
   {
    "duration": 64,
    "start_time": "2021-06-21T11:13:20.743Z"
   },
   {
    "duration": 1737,
    "start_time": "2021-06-21T11:13:24.512Z"
   },
   {
    "duration": 828,
    "start_time": "2021-06-21T11:13:26.253Z"
   },
   {
    "duration": 224,
    "start_time": "2021-06-21T11:13:27.085Z"
   },
   {
    "duration": 542,
    "start_time": "2021-06-21T11:13:27.313Z"
   },
   {
    "duration": 1201,
    "start_time": "2021-06-21T11:13:27.858Z"
   },
   {
    "duration": 1175,
    "start_time": "2021-06-21T11:13:29.062Z"
   },
   {
    "duration": 19759,
    "start_time": "2021-06-21T11:13:30.240Z"
   },
   {
    "duration": 66,
    "start_time": "2021-06-21T11:13:49.935Z"
   },
   {
    "duration": 917,
    "start_time": "2021-06-21T11:14:13.698Z"
   },
   {
    "duration": 117,
    "start_time": "2021-06-21T11:14:14.501Z"
   },
   {
    "duration": 93,
    "start_time": "2021-06-21T11:14:50.343Z"
   },
   {
    "duration": 126,
    "start_time": "2021-06-21T11:15:10.574Z"
   },
   {
    "duration": 1350,
    "start_time": "2021-06-22T08:10:08.684Z"
   },
   {
    "duration": 590,
    "start_time": "2021-06-22T08:10:10.036Z"
   },
   {
    "duration": 164,
    "start_time": "2021-06-22T08:10:10.630Z"
   },
   {
    "duration": 383,
    "start_time": "2021-06-22T08:10:10.798Z"
   },
   {
    "duration": 712,
    "start_time": "2021-06-22T08:10:11.183Z"
   },
   {
    "duration": 683,
    "start_time": "2021-06-22T08:10:11.897Z"
   },
   {
    "duration": 709,
    "start_time": "2021-06-22T08:10:12.582Z"
   },
   {
    "duration": 99,
    "start_time": "2021-06-22T08:10:13.295Z"
   },
   {
    "duration": 460,
    "start_time": "2021-06-22T08:13:05.831Z"
   },
   {
    "duration": 1323,
    "start_time": "2021-06-22T08:15:07.611Z"
   },
   {
    "duration": 568,
    "start_time": "2021-06-22T08:15:08.937Z"
   },
   {
    "duration": 166,
    "start_time": "2021-06-22T08:15:09.509Z"
   },
   {
    "duration": 367,
    "start_time": "2021-06-22T08:15:09.678Z"
   },
   {
    "duration": 718,
    "start_time": "2021-06-22T08:15:10.048Z"
   },
   {
    "duration": 678,
    "start_time": "2021-06-22T08:15:10.768Z"
   },
   {
    "duration": 87,
    "start_time": "2021-06-22T08:15:11.448Z"
   },
   {
    "duration": 478,
    "start_time": "2021-06-22T08:16:59.769Z"
   },
   {
    "duration": 80,
    "start_time": "2021-06-22T08:17:00.684Z"
   },
   {
    "duration": 615,
    "start_time": "2021-06-22T08:17:35.860Z"
   },
   {
    "duration": 135,
    "start_time": "2021-06-22T08:17:38.257Z"
   },
   {
    "duration": 972,
    "start_time": "2021-06-22T08:18:37.993Z"
   },
   {
    "duration": 129,
    "start_time": "2021-06-22T08:18:38.969Z"
   },
   {
    "duration": 1709,
    "start_time": "2021-06-22T08:57:44.710Z"
   },
   {
    "duration": 802,
    "start_time": "2021-06-22T08:57:46.422Z"
   },
   {
    "duration": 226,
    "start_time": "2021-06-22T08:57:47.229Z"
   },
   {
    "duration": 568,
    "start_time": "2021-06-22T08:57:47.458Z"
   },
   {
    "duration": 1052,
    "start_time": "2021-06-22T08:57:48.029Z"
   },
   {
    "duration": 679,
    "start_time": "2021-06-22T08:57:49.084Z"
   },
   {
    "duration": 640,
    "start_time": "2021-06-22T08:57:49.766Z"
   },
   {
    "duration": 96,
    "start_time": "2021-06-22T08:57:50.410Z"
   },
   {
    "duration": 170,
    "start_time": "2021-06-22T09:05:38.814Z"
   },
   {
    "duration": 87,
    "start_time": "2021-06-22T09:05:51.384Z"
   },
   {
    "duration": 84,
    "start_time": "2021-06-22T09:07:37.208Z"
   },
   {
    "duration": 972,
    "start_time": "2021-06-22T09:08:33.000Z"
   },
   {
    "duration": 98,
    "start_time": "2021-06-22T09:08:33.976Z"
   },
   {
    "duration": 85,
    "start_time": "2021-06-22T09:08:45.433Z"
   },
   {
    "duration": 118,
    "start_time": "2021-06-22T10:01:59.461Z"
   },
   {
    "duration": 84,
    "start_time": "2021-06-22T10:02:06.733Z"
   },
   {
    "duration": 83,
    "start_time": "2021-06-22T10:02:43.358Z"
   },
   {
    "duration": 9,
    "start_time": "2021-06-22T10:30:07.822Z"
   },
   {
    "duration": 461,
    "start_time": "2021-06-22T10:34:25.623Z"
   },
   {
    "duration": 343,
    "start_time": "2021-06-22T10:38:49.722Z"
   },
   {
    "duration": 1307,
    "start_time": "2021-06-22T10:40:45.209Z"
   },
   {
    "duration": 570,
    "start_time": "2021-06-22T10:40:46.518Z"
   },
   {
    "duration": 158,
    "start_time": "2021-06-22T10:40:47.092Z"
   },
   {
    "duration": 375,
    "start_time": "2021-06-22T10:40:47.253Z"
   },
   {
    "duration": 809,
    "start_time": "2021-06-22T10:40:47.630Z"
   },
   {
    "duration": 667,
    "start_time": "2021-06-22T10:40:48.441Z"
   },
   {
    "duration": 954,
    "start_time": "2021-06-22T10:40:49.110Z"
   },
   {
    "duration": 4,
    "start_time": "2021-06-22T10:40:50.068Z"
   },
   {
    "duration": 1334,
    "start_time": "2021-06-23T03:12:58.178Z"
   },
   {
    "duration": 578,
    "start_time": "2021-06-23T03:12:59.515Z"
   },
   {
    "duration": 149,
    "start_time": "2021-06-23T03:13:00.096Z"
   },
   {
    "duration": 367,
    "start_time": "2021-06-23T03:13:00.248Z"
   },
   {
    "duration": 682,
    "start_time": "2021-06-23T03:13:00.618Z"
   },
   {
    "duration": 847,
    "start_time": "2021-06-23T03:13:01.302Z"
   },
   {
    "duration": 669,
    "start_time": "2021-06-23T03:13:02.154Z"
   },
   {
    "duration": 3,
    "start_time": "2021-06-23T03:13:02.827Z"
   },
   {
    "duration": 392,
    "start_time": "2021-06-23T03:55:01.819Z"
   },
   {
    "duration": 2344,
    "start_time": "2021-06-23T03:55:09.989Z"
   },
   {
    "duration": 2068,
    "start_time": "2021-06-23T03:55:21.021Z"
   },
   {
    "duration": 297,
    "start_time": "2021-06-23T03:56:05.500Z"
   },
   {
    "duration": 32,
    "start_time": "2021-06-23T04:02:28.859Z"
   },
   {
    "duration": 1002,
    "start_time": "2021-06-23T06:59:49.258Z"
   },
   {
    "duration": 445,
    "start_time": "2021-06-23T06:59:50.262Z"
   },
   {
    "duration": 106,
    "start_time": "2021-06-23T06:59:50.709Z"
   },
   {
    "duration": 236,
    "start_time": "2021-06-23T06:59:50.817Z"
   },
   {
    "duration": 380,
    "start_time": "2021-06-23T06:59:51.055Z"
   },
   {
    "duration": 350,
    "start_time": "2021-06-23T06:59:51.437Z"
   },
   {
    "duration": 297,
    "start_time": "2021-06-23T06:59:51.788Z"
   },
   {
    "duration": 1003,
    "start_time": "2021-06-23T06:59:52.088Z"
   },
   {
    "duration": 378,
    "start_time": "2021-06-23T06:59:53.092Z"
   },
   {
    "duration": 28,
    "start_time": "2021-06-23T06:59:53.471Z"
   },
   {
    "duration": 10,
    "start_time": "2021-06-23T06:59:53.500Z"
   },
   {
    "duration": 364,
    "start_time": "2021-06-23T07:00:14.193Z"
   },
   {
    "duration": 16,
    "start_time": "2021-06-23T07:01:32.828Z"
   },
   {
    "duration": 988,
    "start_time": "2021-06-23T07:07:26.176Z"
   },
   {
    "duration": 430,
    "start_time": "2021-06-23T07:07:27.166Z"
   },
   {
    "duration": 101,
    "start_time": "2021-06-23T07:07:27.598Z"
   },
   {
    "duration": 235,
    "start_time": "2021-06-23T07:07:27.700Z"
   },
   {
    "duration": 372,
    "start_time": "2021-06-23T07:07:27.936Z"
   },
   {
    "duration": 359,
    "start_time": "2021-06-23T07:07:28.310Z"
   },
   {
    "duration": 989,
    "start_time": "2021-06-23T07:07:28.670Z"
   },
   {
    "duration": 379,
    "start_time": "2021-06-23T07:07:29.661Z"
   },
   {
    "duration": 19,
    "start_time": "2021-06-23T07:07:30.042Z"
   },
   {
    "duration": 22,
    "start_time": "2021-06-23T07:07:30.063Z"
   },
   {
    "duration": 4610,
    "start_time": "2021-06-23T07:16:01.711Z"
   },
   {
    "duration": 7,
    "start_time": "2021-06-23T07:18:46.861Z"
   },
   {
    "duration": 6,
    "start_time": "2021-06-23T07:19:28.738Z"
   },
   {
    "duration": 32,
    "start_time": "2021-06-23T07:22:31.482Z"
   },
   {
    "duration": 953,
    "start_time": "2021-06-23T07:24:46.713Z"
   },
   {
    "duration": 429,
    "start_time": "2021-06-23T07:24:47.673Z"
   },
   {
    "duration": 106,
    "start_time": "2021-06-23T07:24:48.104Z"
   },
   {
    "duration": 251,
    "start_time": "2021-06-23T07:24:48.212Z"
   },
   {
    "duration": 3551,
    "start_time": "2021-06-23T07:24:48.465Z"
   },
   {
    "duration": -86,
    "start_time": "2021-06-23T07:24:52.104Z"
   },
   {
    "duration": -106,
    "start_time": "2021-06-23T07:24:52.125Z"
   },
   {
    "duration": -106,
    "start_time": "2021-06-23T07:24:52.126Z"
   },
   {
    "duration": -107,
    "start_time": "2021-06-23T07:24:52.128Z"
   },
   {
    "duration": -107,
    "start_time": "2021-06-23T07:24:52.129Z"
   },
   {
    "duration": -108,
    "start_time": "2021-06-23T07:24:52.131Z"
   },
   {
    "duration": -108,
    "start_time": "2021-06-23T07:24:52.132Z"
   },
   {
    "duration": 3218,
    "start_time": "2021-06-23T07:26:00.879Z"
   },
   {
    "duration": 936,
    "start_time": "2021-06-23T07:26:41.323Z"
   },
   {
    "duration": 430,
    "start_time": "2021-06-23T07:26:42.260Z"
   },
   {
    "duration": 104,
    "start_time": "2021-06-23T07:26:42.692Z"
   },
   {
    "duration": 248,
    "start_time": "2021-06-23T07:26:42.798Z"
   },
   {
    "duration": 3719,
    "start_time": "2021-06-23T07:26:43.047Z"
   },
   {
    "duration": -276,
    "start_time": "2021-06-23T07:26:47.045Z"
   },
   {
    "duration": -277,
    "start_time": "2021-06-23T07:26:47.046Z"
   },
   {
    "duration": -278,
    "start_time": "2021-06-23T07:26:47.048Z"
   },
   {
    "duration": -278,
    "start_time": "2021-06-23T07:26:47.049Z"
   },
   {
    "duration": -278,
    "start_time": "2021-06-23T07:26:47.050Z"
   },
   {
    "duration": -278,
    "start_time": "2021-06-23T07:26:47.051Z"
   },
   {
    "duration": -278,
    "start_time": "2021-06-23T07:26:47.052Z"
   },
   {
    "duration": 980,
    "start_time": "2021-06-23T07:27:11.780Z"
   },
   {
    "duration": 432,
    "start_time": "2021-06-23T07:27:12.762Z"
   },
   {
    "duration": 108,
    "start_time": "2021-06-23T07:27:13.196Z"
   },
   {
    "duration": 243,
    "start_time": "2021-06-23T07:27:13.305Z"
   },
   {
    "duration": 382,
    "start_time": "2021-06-23T07:27:13.550Z"
   },
   {
    "duration": 4138,
    "start_time": "2021-06-23T07:27:13.934Z"
   },
   {
    "duration": -87,
    "start_time": "2021-06-23T07:27:18.161Z"
   },
   {
    "duration": -88,
    "start_time": "2021-06-23T07:27:18.163Z"
   },
   {
    "duration": -88,
    "start_time": "2021-06-23T07:27:18.164Z"
   },
   {
    "duration": -89,
    "start_time": "2021-06-23T07:27:18.166Z"
   },
   {
    "duration": -89,
    "start_time": "2021-06-23T07:27:18.167Z"
   },
   {
    "duration": -90,
    "start_time": "2021-06-23T07:27:18.169Z"
   },
   {
    "duration": 911,
    "start_time": "2021-06-23T07:27:33.746Z"
   },
   {
    "duration": 437,
    "start_time": "2021-06-23T07:27:34.659Z"
   },
   {
    "duration": 115,
    "start_time": "2021-06-23T07:27:35.099Z"
   },
   {
    "duration": 241,
    "start_time": "2021-06-23T07:27:35.217Z"
   },
   {
    "duration": 377,
    "start_time": "2021-06-23T07:27:35.460Z"
   },
   {
    "duration": 372,
    "start_time": "2021-06-23T07:27:35.839Z"
   },
   {
    "duration": 1062,
    "start_time": "2021-06-23T07:27:36.212Z"
   },
   {
    "duration": 394,
    "start_time": "2021-06-23T07:27:37.276Z"
   },
   {
    "duration": 14,
    "start_time": "2021-06-23T07:27:37.672Z"
   },
   {
    "duration": 32,
    "start_time": "2021-06-23T07:27:37.687Z"
   },
   {
    "duration": 15,
    "start_time": "2021-06-23T07:27:37.720Z"
   },
   {
    "duration": 4,
    "start_time": "2021-06-23T07:27:37.736Z"
   },
   {
    "duration": 963,
    "start_time": "2021-06-23T07:29:09.997Z"
   },
   {
    "duration": 454,
    "start_time": "2021-06-23T07:29:10.962Z"
   },
   {
    "duration": 101,
    "start_time": "2021-06-23T07:29:11.418Z"
   },
   {
    "duration": 247,
    "start_time": "2021-06-23T07:29:11.521Z"
   },
   {
    "duration": 400,
    "start_time": "2021-06-23T07:29:11.770Z"
   },
   {
    "duration": 360,
    "start_time": "2021-06-23T07:29:12.171Z"
   },
   {
    "duration": 1007,
    "start_time": "2021-06-23T07:29:12.532Z"
   },
   {
    "duration": 364,
    "start_time": "2021-06-23T07:29:13.541Z"
   },
   {
    "duration": 6,
    "start_time": "2021-06-23T07:29:13.906Z"
   },
   {
    "duration": 34,
    "start_time": "2021-06-23T07:29:13.914Z"
   },
   {
    "duration": 15,
    "start_time": "2021-06-23T07:29:13.950Z"
   },
   {
    "duration": 2,
    "start_time": "2021-06-23T07:29:13.984Z"
   },
   {
    "duration": 32,
    "start_time": "2021-06-23T07:33:48.901Z"
   },
   {
    "duration": 982,
    "start_time": "2021-06-23T07:36:03.788Z"
   },
   {
    "duration": 440,
    "start_time": "2021-06-23T07:36:04.772Z"
   },
   {
    "duration": 106,
    "start_time": "2021-06-23T07:36:05.214Z"
   },
   {
    "duration": 240,
    "start_time": "2021-06-23T07:36:05.322Z"
   },
   {
    "duration": 416,
    "start_time": "2021-06-23T07:36:05.564Z"
   },
   {
    "duration": 367,
    "start_time": "2021-06-23T07:36:05.984Z"
   },
   {
    "duration": 1021,
    "start_time": "2021-06-23T07:36:06.352Z"
   },
   {
    "duration": 346,
    "start_time": "2021-06-23T07:36:07.375Z"
   },
   {
    "duration": 6,
    "start_time": "2021-06-23T07:36:07.723Z"
   },
   {
    "duration": 32,
    "start_time": "2021-06-23T07:36:07.730Z"
   },
   {
    "duration": 47,
    "start_time": "2021-06-23T07:36:07.763Z"
   },
   {
    "duration": 15,
    "start_time": "2021-06-23T07:36:07.812Z"
   },
   {
    "duration": 3,
    "start_time": "2021-06-23T07:36:07.829Z"
   },
   {
    "duration": 995,
    "start_time": "2021-06-23T07:41:33.368Z"
   },
   {
    "duration": 453,
    "start_time": "2021-06-23T07:41:34.365Z"
   },
   {
    "duration": 105,
    "start_time": "2021-06-23T07:41:34.820Z"
   },
   {
    "duration": 246,
    "start_time": "2021-06-23T07:41:34.927Z"
   },
   {
    "duration": 382,
    "start_time": "2021-06-23T07:41:35.175Z"
   },
   {
    "duration": 377,
    "start_time": "2021-06-23T07:41:35.559Z"
   },
   {
    "duration": 1034,
    "start_time": "2021-06-23T07:41:35.937Z"
   },
   {
    "duration": 358,
    "start_time": "2021-06-23T07:41:36.973Z"
   },
   {
    "duration": 6,
    "start_time": "2021-06-23T07:41:37.333Z"
   },
   {
    "duration": 48,
    "start_time": "2021-06-23T07:41:37.340Z"
   },
   {
    "duration": 31,
    "start_time": "2021-06-23T07:41:37.389Z"
   },
   {
    "duration": 16,
    "start_time": "2021-06-23T07:41:37.421Z"
   },
   {
    "duration": 4,
    "start_time": "2021-06-23T07:41:37.438Z"
   },
   {
    "duration": 994,
    "start_time": "2021-06-23T07:44:01.208Z"
   },
   {
    "duration": 449,
    "start_time": "2021-06-23T07:44:02.204Z"
   },
   {
    "duration": 94,
    "start_time": "2021-06-23T07:44:02.655Z"
   },
   {
    "duration": 251,
    "start_time": "2021-06-23T07:44:02.751Z"
   },
   {
    "duration": 395,
    "start_time": "2021-06-23T07:44:03.004Z"
   },
   {
    "duration": 378,
    "start_time": "2021-06-23T07:44:03.401Z"
   },
   {
    "duration": 1047,
    "start_time": "2021-06-23T07:44:03.781Z"
   },
   {
    "duration": 408,
    "start_time": "2021-06-23T07:44:04.830Z"
   },
   {
    "duration": 6,
    "start_time": "2021-06-23T07:44:05.240Z"
   },
   {
    "duration": 58,
    "start_time": "2021-06-23T07:44:05.248Z"
   },
   {
    "duration": 31,
    "start_time": "2021-06-23T07:44:05.307Z"
   },
   {
    "duration": 17,
    "start_time": "2021-06-23T07:44:05.340Z"
   },
   {
    "duration": 3,
    "start_time": "2021-06-23T07:44:05.359Z"
   },
   {
    "duration": 932,
    "start_time": "2021-06-23T07:45:56.729Z"
   },
   {
    "duration": 431,
    "start_time": "2021-06-23T07:45:57.663Z"
   },
   {
    "duration": 107,
    "start_time": "2021-06-23T07:45:58.095Z"
   },
   {
    "duration": 236,
    "start_time": "2021-06-23T07:45:58.203Z"
   },
   {
    "duration": 372,
    "start_time": "2021-06-23T07:45:58.441Z"
   },
   {
    "duration": 360,
    "start_time": "2021-06-23T07:45:58.815Z"
   },
   {
    "duration": 1055,
    "start_time": "2021-06-23T07:45:59.176Z"
   },
   {
    "duration": 374,
    "start_time": "2021-06-23T07:46:00.233Z"
   },
   {
    "duration": 6,
    "start_time": "2021-06-23T07:46:00.610Z"
   },
   {
    "duration": 41,
    "start_time": "2021-06-23T07:46:00.617Z"
   },
   {
    "duration": 45,
    "start_time": "2021-06-23T07:46:00.660Z"
   },
   {
    "duration": 18,
    "start_time": "2021-06-23T07:46:00.707Z"
   },
   {
    "duration": 8,
    "start_time": "2021-06-23T07:46:00.727Z"
   },
   {
    "duration": 286,
    "start_time": "2021-06-23T07:59:40.088Z"
   },
   {
    "duration": 203,
    "start_time": "2021-06-23T07:59:53.885Z"
   },
   {
    "duration": 3597,
    "start_time": "2021-06-23T08:00:01.461Z"
   },
   {
    "duration": 79,
    "start_time": "2021-06-23T08:01:23.697Z"
   },
   {
    "duration": 66,
    "start_time": "2021-06-23T08:01:53.452Z"
   },
   {
    "duration": 73,
    "start_time": "2021-06-23T08:02:36.186Z"
   },
   {
    "duration": 4257,
    "start_time": "2021-06-23T08:02:54.865Z"
   },
   {
    "duration": 4364,
    "start_time": "2021-06-23T08:03:49.138Z"
   },
   {
    "duration": 59,
    "start_time": "2021-06-23T08:04:44.819Z"
   },
   {
    "duration": 3368,
    "start_time": "2021-06-23T08:04:51.730Z"
   },
   {
    "duration": 67,
    "start_time": "2021-06-23T08:06:34.854Z"
   },
   {
    "duration": 68,
    "start_time": "2021-06-23T08:09:06.988Z"
   },
   {
    "duration": 3269,
    "start_time": "2021-06-23T08:10:21.250Z"
   },
   {
    "duration": 65,
    "start_time": "2021-06-23T08:10:56.438Z"
   },
   {
    "duration": 68,
    "start_time": "2021-06-23T08:11:05.047Z"
   },
   {
    "duration": 68,
    "start_time": "2021-06-23T08:11:33.229Z"
   },
   {
    "duration": 72,
    "start_time": "2021-06-23T08:17:37.259Z"
   },
   {
    "duration": 68,
    "start_time": "2021-06-23T08:20:08.515Z"
   },
   {
    "duration": 970,
    "start_time": "2021-06-23T08:23:12.285Z"
   },
   {
    "duration": 428,
    "start_time": "2021-06-23T08:23:13.257Z"
   },
   {
    "duration": 100,
    "start_time": "2021-06-23T08:23:13.687Z"
   },
   {
    "duration": 242,
    "start_time": "2021-06-23T08:23:13.789Z"
   },
   {
    "duration": 373,
    "start_time": "2021-06-23T08:23:14.033Z"
   },
   {
    "duration": 372,
    "start_time": "2021-06-23T08:23:14.408Z"
   },
   {
    "duration": 1002,
    "start_time": "2021-06-23T08:23:14.784Z"
   },
   {
    "duration": 371,
    "start_time": "2021-06-23T08:23:15.788Z"
   },
   {
    "duration": 6,
    "start_time": "2021-06-23T08:23:16.160Z"
   },
   {
    "duration": 43,
    "start_time": "2021-06-23T08:23:16.167Z"
   },
   {
    "duration": 28,
    "start_time": "2021-06-23T08:23:16.212Z"
   },
   {
    "duration": 85,
    "start_time": "2021-06-23T08:23:16.242Z"
   },
   {
    "duration": 15,
    "start_time": "2021-06-23T08:23:16.328Z"
   },
   {
    "duration": 4,
    "start_time": "2021-06-23T08:23:16.345Z"
   },
   {
    "duration": 68,
    "start_time": "2021-06-23T08:25:45.145Z"
   },
   {
    "duration": 66,
    "start_time": "2021-06-23T08:25:52.088Z"
   },
   {
    "duration": 76,
    "start_time": "2021-06-23T08:26:26.427Z"
   },
   {
    "duration": 69,
    "start_time": "2021-06-23T08:26:32.781Z"
   },
   {
    "duration": 70,
    "start_time": "2021-06-23T08:26:57.712Z"
   },
   {
    "duration": 1000,
    "start_time": "2021-06-23T08:27:53.366Z"
   },
   {
    "duration": 432,
    "start_time": "2021-06-23T08:27:54.368Z"
   },
   {
    "duration": 102,
    "start_time": "2021-06-23T08:27:54.802Z"
   },
   {
    "duration": 245,
    "start_time": "2021-06-23T08:27:54.906Z"
   },
   {
    "duration": 378,
    "start_time": "2021-06-23T08:27:55.153Z"
   },
   {
    "duration": 375,
    "start_time": "2021-06-23T08:27:55.533Z"
   },
   {
    "duration": 1035,
    "start_time": "2021-06-23T08:27:55.909Z"
   },
   {
    "duration": 389,
    "start_time": "2021-06-23T08:27:56.947Z"
   },
   {
    "duration": 6,
    "start_time": "2021-06-23T08:27:57.339Z"
   },
   {
    "duration": 51,
    "start_time": "2021-06-23T08:27:57.347Z"
   },
   {
    "duration": 29,
    "start_time": "2021-06-23T08:27:57.400Z"
   },
   {
    "duration": 3537,
    "start_time": "2021-06-23T08:27:57.431Z"
   },
   {
    "duration": -58,
    "start_time": "2021-06-23T08:28:01.027Z"
   },
   {
    "duration": -60,
    "start_time": "2021-06-23T08:28:01.030Z"
   },
   {
    "duration": 3633,
    "start_time": "2021-06-23T08:28:32.204Z"
   },
   {
    "duration": 87,
    "start_time": "2021-06-23T08:29:08.215Z"
   },
   {
    "duration": 79,
    "start_time": "2021-06-23T08:37:22.446Z"
   },
   {
    "duration": 78,
    "start_time": "2021-06-23T08:37:31.663Z"
   },
   {
    "duration": 1069,
    "start_time": "2021-06-23T08:40:20.466Z"
   },
   {
    "duration": 429,
    "start_time": "2021-06-23T08:40:21.538Z"
   },
   {
    "duration": 96,
    "start_time": "2021-06-23T08:40:21.969Z"
   },
   {
    "duration": 242,
    "start_time": "2021-06-23T08:40:22.067Z"
   },
   {
    "duration": 389,
    "start_time": "2021-06-23T08:40:22.311Z"
   },
   {
    "duration": 378,
    "start_time": "2021-06-23T08:40:22.702Z"
   },
   {
    "duration": 1106,
    "start_time": "2021-06-23T08:40:23.082Z"
   },
   {
    "duration": 403,
    "start_time": "2021-06-23T08:40:24.190Z"
   },
   {
    "duration": 6,
    "start_time": "2021-06-23T08:40:24.596Z"
   },
   {
    "duration": 32,
    "start_time": "2021-06-23T08:40:24.603Z"
   },
   {
    "duration": 54,
    "start_time": "2021-06-23T08:40:24.637Z"
   },
   {
    "duration": 92,
    "start_time": "2021-06-23T08:40:24.693Z"
   },
   {
    "duration": 2,
    "start_time": "2021-06-23T08:40:24.786Z"
   },
   {
    "duration": 19,
    "start_time": "2021-06-23T08:40:24.790Z"
   },
   {
    "duration": 3,
    "start_time": "2021-06-23T08:40:24.811Z"
   },
   {
    "duration": 541,
    "start_time": "2021-06-23T08:43:05.323Z"
   },
   {
    "duration": 34,
    "start_time": "2021-06-23T08:43:30.153Z"
   },
   {
    "duration": 1071,
    "start_time": "2021-06-23T08:47:36.765Z"
   },
   {
    "duration": 443,
    "start_time": "2021-06-23T08:47:37.837Z"
   },
   {
    "duration": 121,
    "start_time": "2021-06-23T08:47:38.284Z"
   },
   {
    "duration": 240,
    "start_time": "2021-06-23T08:47:38.407Z"
   },
   {
    "duration": 373,
    "start_time": "2021-06-23T08:47:38.649Z"
   },
   {
    "duration": 370,
    "start_time": "2021-06-23T08:47:39.025Z"
   },
   {
    "duration": 1009,
    "start_time": "2021-06-23T08:47:39.396Z"
   },
   {
    "duration": 330,
    "start_time": "2021-06-23T08:47:40.408Z"
   },
   {
    "duration": 6,
    "start_time": "2021-06-23T08:47:40.740Z"
   },
   {
    "duration": 306,
    "start_time": "2021-06-23T08:47:40.748Z"
   },
   {
    "duration": -5,
    "start_time": "2021-06-23T08:47:41.061Z"
   },
   {
    "duration": -5,
    "start_time": "2021-06-23T08:47:41.063Z"
   },
   {
    "duration": -6,
    "start_time": "2021-06-23T08:47:41.065Z"
   },
   {
    "duration": -43,
    "start_time": "2021-06-23T08:47:41.104Z"
   },
   {
    "duration": -44,
    "start_time": "2021-06-23T08:47:41.106Z"
   },
   {
    "duration": 30,
    "start_time": "2021-06-23T08:47:46.266Z"
   },
   {
    "duration": 29,
    "start_time": "2021-06-23T08:47:47.419Z"
   },
   {
    "duration": 1038,
    "start_time": "2021-06-23T08:48:51.737Z"
   },
   {
    "duration": 445,
    "start_time": "2021-06-23T08:48:52.777Z"
   },
   {
    "duration": 124,
    "start_time": "2021-06-23T08:48:53.224Z"
   },
   {
    "duration": 237,
    "start_time": "2021-06-23T08:48:53.351Z"
   },
   {
    "duration": 386,
    "start_time": "2021-06-23T08:48:53.589Z"
   },
   {
    "duration": 374,
    "start_time": "2021-06-23T08:48:53.984Z"
   },
   {
    "duration": 1052,
    "start_time": "2021-06-23T08:48:54.360Z"
   },
   {
    "duration": 54,
    "start_time": "2021-06-23T08:48:55.414Z"
   },
   {
    "duration": 17,
    "start_time": "2021-06-23T08:48:55.470Z"
   },
   {
    "duration": 274,
    "start_time": "2021-06-23T08:48:55.489Z"
   },
   {
    "duration": -44,
    "start_time": "2021-06-23T08:48:55.809Z"
   },
   {
    "duration": -48,
    "start_time": "2021-06-23T08:48:55.814Z"
   },
   {
    "duration": -50,
    "start_time": "2021-06-23T08:48:55.817Z"
   },
   {
    "duration": -53,
    "start_time": "2021-06-23T08:48:55.821Z"
   },
   {
    "duration": -56,
    "start_time": "2021-06-23T08:48:55.825Z"
   },
   {
    "duration": 1028,
    "start_time": "2021-06-23T08:49:08.314Z"
   },
   {
    "duration": 428,
    "start_time": "2021-06-23T08:49:09.344Z"
   },
   {
    "duration": 91,
    "start_time": "2021-06-23T08:49:09.774Z"
   },
   {
    "duration": 247,
    "start_time": "2021-06-23T08:49:09.867Z"
   },
   {
    "duration": 366,
    "start_time": "2021-06-23T08:49:10.115Z"
   },
   {
    "duration": 359,
    "start_time": "2021-06-23T08:49:10.484Z"
   },
   {
    "duration": 1028,
    "start_time": "2021-06-23T08:49:10.845Z"
   },
   {
    "duration": 337,
    "start_time": "2021-06-23T08:49:11.876Z"
   },
   {
    "duration": 4,
    "start_time": "2021-06-23T08:49:12.215Z"
   },
   {
    "duration": 33,
    "start_time": "2021-06-23T08:49:12.221Z"
   },
   {
    "duration": 42,
    "start_time": "2021-06-23T08:49:12.256Z"
   },
   {
    "duration": 62,
    "start_time": "2021-06-23T08:49:12.299Z"
   },
   {
    "duration": 1,
    "start_time": "2021-06-23T08:49:12.363Z"
   },
   {
    "duration": 17,
    "start_time": "2021-06-23T08:49:12.385Z"
   },
   {
    "duration": 4,
    "start_time": "2021-06-23T08:49:12.403Z"
   },
   {
    "duration": 1066,
    "start_time": "2021-06-23T08:51:37.350Z"
   },
   {
    "duration": 433,
    "start_time": "2021-06-23T08:51:38.418Z"
   },
   {
    "duration": 94,
    "start_time": "2021-06-23T08:51:38.853Z"
   },
   {
    "duration": 240,
    "start_time": "2021-06-23T08:51:38.949Z"
   },
   {
    "duration": 382,
    "start_time": "2021-06-23T08:51:39.191Z"
   },
   {
    "duration": 366,
    "start_time": "2021-06-23T08:51:39.575Z"
   },
   {
    "duration": 1030,
    "start_time": "2021-06-23T08:51:39.943Z"
   },
   {
    "duration": 326,
    "start_time": "2021-06-23T08:51:40.976Z"
   },
   {
    "duration": 6,
    "start_time": "2021-06-23T08:51:41.305Z"
   },
   {
    "duration": 28,
    "start_time": "2021-06-23T08:51:41.313Z"
   },
   {
    "duration": 53,
    "start_time": "2021-06-23T08:51:41.343Z"
   },
   {
    "duration": 63,
    "start_time": "2021-06-23T08:51:41.398Z"
   },
   {
    "duration": 2,
    "start_time": "2021-06-23T08:51:41.462Z"
   },
   {
    "duration": 15,
    "start_time": "2021-06-23T08:51:41.484Z"
   },
   {
    "duration": 3,
    "start_time": "2021-06-23T08:51:41.500Z"
   },
   {
    "duration": 576,
    "start_time": "2021-06-23T08:52:18.037Z"
   },
   {
    "duration": 302,
    "start_time": "2021-06-23T08:52:40.897Z"
   },
   {
    "duration": 313,
    "start_time": "2021-06-23T08:53:02.429Z"
   },
   {
    "duration": 6,
    "start_time": "2021-06-23T08:53:03.070Z"
   },
   {
    "duration": 31,
    "start_time": "2021-06-23T08:53:04.680Z"
   },
   {
    "duration": 30,
    "start_time": "2021-06-23T08:53:06.083Z"
   },
   {
    "duration": 69,
    "start_time": "2021-06-23T08:53:06.259Z"
   },
   {
    "duration": 2,
    "start_time": "2021-06-23T08:53:06.955Z"
   },
   {
    "duration": 15,
    "start_time": "2021-06-23T08:53:07.525Z"
   },
   {
    "duration": 3,
    "start_time": "2021-06-23T08:53:07.697Z"
   },
   {
    "duration": 1044,
    "start_time": "2021-06-23T08:53:31.490Z"
   },
   {
    "duration": 436,
    "start_time": "2021-06-23T08:53:32.536Z"
   },
   {
    "duration": 94,
    "start_time": "2021-06-23T08:53:32.974Z"
   },
   {
    "duration": 238,
    "start_time": "2021-06-23T08:53:33.069Z"
   },
   {
    "duration": 382,
    "start_time": "2021-06-23T08:53:33.309Z"
   },
   {
    "duration": 366,
    "start_time": "2021-06-23T08:53:33.693Z"
   },
   {
    "duration": 1031,
    "start_time": "2021-06-23T08:53:34.061Z"
   },
   {
    "duration": 327,
    "start_time": "2021-06-23T08:53:35.094Z"
   },
   {
    "duration": 5,
    "start_time": "2021-06-23T08:53:35.423Z"
   },
   {
    "duration": 32,
    "start_time": "2021-06-23T08:53:35.429Z"
   },
   {
    "duration": 43,
    "start_time": "2021-06-23T08:53:35.463Z"
   },
   {
    "duration": 78,
    "start_time": "2021-06-23T08:53:35.508Z"
   },
   {
    "duration": 2,
    "start_time": "2021-06-23T08:53:35.588Z"
   },
   {
    "duration": 26,
    "start_time": "2021-06-23T08:53:35.591Z"
   },
   {
    "duration": 14,
    "start_time": "2021-06-23T08:53:35.618Z"
   },
   {
    "duration": 1359,
    "start_time": "2021-06-23T08:54:50.639Z"
   },
   {
    "duration": 1763,
    "start_time": "2021-06-23T08:55:18.034Z"
   },
   {
    "duration": 1529,
    "start_time": "2021-06-23T08:55:31.332Z"
   },
   {
    "duration": 1405,
    "start_time": "2021-06-23T08:55:49.618Z"
   },
   {
    "duration": 1414,
    "start_time": "2021-06-23T08:56:08.929Z"
   },
   {
    "duration": 1320,
    "start_time": "2021-06-23T08:56:20.796Z"
   },
   {
    "duration": 1365,
    "start_time": "2021-06-23T08:56:29.551Z"
   },
   {
    "duration": 1464,
    "start_time": "2021-06-23T08:57:52.044Z"
   },
   {
    "duration": 4,
    "start_time": "2021-06-23T09:31:43.674Z"
   },
   {
    "duration": 5,
    "start_time": "2021-06-23T09:31:52.387Z"
   },
   {
    "duration": 5,
    "start_time": "2021-06-23T09:32:03.147Z"
   },
   {
    "duration": 295,
    "start_time": "2021-06-23T09:51:04.144Z"
   },
   {
    "duration": 9,
    "start_time": "2021-06-23T09:54:40.543Z"
   },
   {
    "duration": 15,
    "start_time": "2021-06-23T09:55:18.298Z"
   },
   {
    "duration": 12,
    "start_time": "2021-06-23T09:56:29.011Z"
   },
   {
    "duration": 15,
    "start_time": "2021-06-23T09:57:42.520Z"
   },
   {
    "duration": 19,
    "start_time": "2021-06-23T10:01:10.728Z"
   },
   {
    "duration": 20,
    "start_time": "2021-06-23T10:01:25.670Z"
   },
   {
    "duration": 1069,
    "start_time": "2021-06-23T10:48:14.917Z"
   },
   {
    "duration": 1089,
    "start_time": "2021-06-23T10:51:38.173Z"
   },
   {
    "duration": 437,
    "start_time": "2021-06-23T10:51:39.264Z"
   },
   {
    "duration": 127,
    "start_time": "2021-06-23T10:51:39.704Z"
   },
   {
    "duration": 254,
    "start_time": "2021-06-23T10:51:39.833Z"
   },
   {
    "duration": 378,
    "start_time": "2021-06-23T10:51:40.088Z"
   },
   {
    "duration": 367,
    "start_time": "2021-06-23T10:51:40.468Z"
   },
   {
    "duration": 1044,
    "start_time": "2021-06-23T10:51:40.837Z"
   },
   {
    "duration": 346,
    "start_time": "2021-06-23T10:51:41.884Z"
   },
   {
    "duration": 5,
    "start_time": "2021-06-23T10:51:42.231Z"
   },
   {
    "duration": 28,
    "start_time": "2021-06-23T10:51:42.238Z"
   },
   {
    "duration": 44,
    "start_time": "2021-06-23T10:51:42.267Z"
   },
   {
    "duration": 95,
    "start_time": "2021-06-23T10:51:42.313Z"
   },
   {
    "duration": 1480,
    "start_time": "2021-06-23T10:51:42.410Z"
   },
   {
    "duration": 1393,
    "start_time": "2021-06-23T10:51:43.892Z"
   },
   {
    "duration": 5,
    "start_time": "2021-06-23T10:51:45.287Z"
   },
   {
    "duration": 18,
    "start_time": "2021-06-23T10:51:45.295Z"
   },
   {
    "duration": 1077,
    "start_time": "2021-06-23T10:52:57.603Z"
   },
   {
    "duration": 1046,
    "start_time": "2021-06-23T10:53:27.239Z"
   },
   {
    "duration": 1073,
    "start_time": "2021-06-23T10:54:45.471Z"
   },
   {
    "duration": 1076,
    "start_time": "2021-06-23T10:55:26.993Z"
   },
   {
    "duration": 433,
    "start_time": "2021-06-23T10:55:28.071Z"
   },
   {
    "duration": 108,
    "start_time": "2021-06-23T10:55:28.506Z"
   },
   {
    "duration": 249,
    "start_time": "2021-06-23T10:55:28.616Z"
   },
   {
    "duration": 373,
    "start_time": "2021-06-23T10:55:28.867Z"
   },
   {
    "duration": 369,
    "start_time": "2021-06-23T10:55:29.241Z"
   },
   {
    "duration": 1083,
    "start_time": "2021-06-23T10:55:29.611Z"
   },
   {
    "duration": 341,
    "start_time": "2021-06-23T10:55:30.696Z"
   },
   {
    "duration": 8,
    "start_time": "2021-06-23T10:55:31.040Z"
   },
   {
    "duration": 50,
    "start_time": "2021-06-23T10:55:31.050Z"
   },
   {
    "duration": 29,
    "start_time": "2021-06-23T10:55:31.102Z"
   },
   {
    "duration": 89,
    "start_time": "2021-06-23T10:55:31.133Z"
   },
   {
    "duration": 1398,
    "start_time": "2021-06-23T10:55:31.224Z"
   },
   {
    "duration": 1341,
    "start_time": "2021-06-23T10:55:32.624Z"
   },
   {
    "duration": 5,
    "start_time": "2021-06-23T10:55:33.967Z"
   },
   {
    "duration": 27,
    "start_time": "2021-06-23T10:55:33.974Z"
   },
   {
    "duration": 1069,
    "start_time": "2021-06-23T10:57:58.169Z"
   },
   {
    "duration": 446,
    "start_time": "2021-06-23T10:57:59.240Z"
   },
   {
    "duration": 101,
    "start_time": "2021-06-23T10:57:59.688Z"
   },
   {
    "duration": 260,
    "start_time": "2021-06-23T10:57:59.791Z"
   },
   {
    "duration": 378,
    "start_time": "2021-06-23T10:58:00.052Z"
   },
   {
    "duration": 380,
    "start_time": "2021-06-23T10:58:00.432Z"
   },
   {
    "duration": 1078,
    "start_time": "2021-06-23T10:58:00.814Z"
   },
   {
    "duration": 348,
    "start_time": "2021-06-23T10:58:01.894Z"
   },
   {
    "duration": 5,
    "start_time": "2021-06-23T10:58:02.244Z"
   },
   {
    "duration": 40,
    "start_time": "2021-06-23T10:58:02.251Z"
   },
   {
    "duration": 28,
    "start_time": "2021-06-23T10:58:02.293Z"
   },
   {
    "duration": 87,
    "start_time": "2021-06-23T10:58:02.323Z"
   },
   {
    "duration": 1382,
    "start_time": "2021-06-23T10:58:02.412Z"
   },
   {
    "duration": 1383,
    "start_time": "2021-06-23T10:58:03.796Z"
   },
   {
    "duration": 5,
    "start_time": "2021-06-23T10:58:05.184Z"
   },
   {
    "duration": 19,
    "start_time": "2021-06-23T10:58:05.191Z"
   },
   {
    "duration": 1468,
    "start_time": "2021-06-23T11:03:55.147Z"
   },
   {
    "duration": 588,
    "start_time": "2021-06-23T11:03:56.618Z"
   },
   {
    "duration": 161,
    "start_time": "2021-06-23T11:03:57.209Z"
   },
   {
    "duration": 346,
    "start_time": "2021-06-23T11:03:57.374Z"
   },
   {
    "duration": 673,
    "start_time": "2021-06-23T11:03:57.723Z"
   },
   {
    "duration": 658,
    "start_time": "2021-06-23T11:03:58.399Z"
   },
   {
    "duration": 2303,
    "start_time": "2021-06-23T11:03:59.060Z"
   },
   {
    "duration": 594,
    "start_time": "2021-06-23T11:04:01.367Z"
   },
   {
    "duration": 7,
    "start_time": "2021-06-23T11:04:01.963Z"
   },
   {
    "duration": 49,
    "start_time": "2021-06-23T11:04:01.973Z"
   },
   {
    "duration": 66,
    "start_time": "2021-06-23T11:04:02.024Z"
   },
   {
    "duration": 124,
    "start_time": "2021-06-23T11:04:02.092Z"
   },
   {
    "duration": 2044,
    "start_time": "2021-06-23T11:04:02.218Z"
   },
   {
    "duration": 2068,
    "start_time": "2021-06-23T11:04:04.264Z"
   },
   {
    "duration": 7,
    "start_time": "2021-06-23T11:04:06.335Z"
   },
   {
    "duration": 37,
    "start_time": "2021-06-23T11:04:06.344Z"
   },
   {
    "duration": 32,
    "start_time": "2021-06-23T11:13:09.542Z"
   },
   {
    "duration": 31,
    "start_time": "2021-06-23T11:17:54.688Z"
   },
   {
    "duration": 428,
    "start_time": "2021-06-24T02:36:47.257Z"
   },
   {
    "duration": 1000,
    "start_time": "2021-06-24T02:37:00.935Z"
   },
   {
    "duration": 435,
    "start_time": "2021-06-24T02:37:01.937Z"
   },
   {
    "duration": 347,
    "start_time": "2021-06-24T02:37:02.374Z"
   },
   {
    "duration": 236,
    "start_time": "2021-06-24T02:37:02.487Z"
   },
   {
    "duration": 234,
    "start_time": "2021-06-24T02:37:02.490Z"
   },
   {
    "duration": 232,
    "start_time": "2021-06-24T02:37:02.493Z"
   },
   {
    "duration": 232,
    "start_time": "2021-06-24T02:37:02.495Z"
   },
   {
    "duration": 231,
    "start_time": "2021-06-24T02:37:02.497Z"
   },
   {
    "duration": 230,
    "start_time": "2021-06-24T02:37:02.499Z"
   },
   {
    "duration": 228,
    "start_time": "2021-06-24T02:37:02.502Z"
   },
   {
    "duration": 227,
    "start_time": "2021-06-24T02:37:02.504Z"
   },
   {
    "duration": 225,
    "start_time": "2021-06-24T02:37:02.507Z"
   },
   {
    "duration": 225,
    "start_time": "2021-06-24T02:37:02.508Z"
   },
   {
    "duration": 224,
    "start_time": "2021-06-24T02:37:02.510Z"
   },
   {
    "duration": 223,
    "start_time": "2021-06-24T02:37:02.512Z"
   },
   {
    "duration": 222,
    "start_time": "2021-06-24T02:37:02.514Z"
   },
   {
    "duration": 221,
    "start_time": "2021-06-24T02:37:02.516Z"
   },
   {
    "duration": 984,
    "start_time": "2021-06-24T02:37:28.448Z"
   },
   {
    "duration": 449,
    "start_time": "2021-06-24T02:37:29.433Z"
   },
   {
    "duration": 79,
    "start_time": "2021-06-24T02:37:29.884Z"
   },
   {
    "duration": 258,
    "start_time": "2021-06-24T02:37:29.965Z"
   },
   {
    "duration": 380,
    "start_time": "2021-06-24T02:37:30.224Z"
   },
   {
    "duration": 365,
    "start_time": "2021-06-24T02:37:30.606Z"
   },
   {
    "duration": 1021,
    "start_time": "2021-06-24T02:37:30.973Z"
   },
   {
    "duration": 320,
    "start_time": "2021-06-24T02:37:31.997Z"
   },
   {
    "duration": 20,
    "start_time": "2021-06-24T02:37:32.319Z"
   },
   {
    "duration": 4,
    "start_time": "2021-06-24T02:37:32.341Z"
   },
   {
    "duration": 50,
    "start_time": "2021-06-24T02:37:32.347Z"
   },
   {
    "duration": 29,
    "start_time": "2021-06-24T02:37:32.398Z"
   },
   {
    "duration": 88,
    "start_time": "2021-06-24T02:37:32.429Z"
   },
   {
    "duration": 1290,
    "start_time": "2021-06-24T02:37:32.519Z"
   },
   {
    "duration": 1340,
    "start_time": "2021-06-24T02:37:33.811Z"
   },
   {
    "duration": 5,
    "start_time": "2021-06-24T02:37:35.152Z"
   },
   {
    "duration": 32,
    "start_time": "2021-06-24T02:37:35.159Z"
   },
   {
    "duration": 973,
    "start_time": "2021-06-24T02:40:32.850Z"
   },
   {
    "duration": 439,
    "start_time": "2021-06-24T02:40:33.825Z"
   },
   {
    "duration": 79,
    "start_time": "2021-06-24T02:40:34.266Z"
   },
   {
    "duration": 237,
    "start_time": "2021-06-24T02:40:34.347Z"
   },
   {
    "duration": 375,
    "start_time": "2021-06-24T02:40:34.586Z"
   },
   {
    "duration": 359,
    "start_time": "2021-06-24T02:40:34.962Z"
   },
   {
    "duration": 1044,
    "start_time": "2021-06-24T02:40:35.322Z"
   },
   {
    "duration": 347,
    "start_time": "2021-06-24T02:40:36.368Z"
   },
   {
    "duration": 20,
    "start_time": "2021-06-24T02:40:36.716Z"
   },
   {
    "duration": 5,
    "start_time": "2021-06-24T02:40:36.737Z"
   },
   {
    "duration": 49,
    "start_time": "2021-06-24T02:40:36.743Z"
   },
   {
    "duration": 26,
    "start_time": "2021-06-24T02:40:36.794Z"
   },
   {
    "duration": 82,
    "start_time": "2021-06-24T02:40:36.821Z"
   },
   {
    "duration": 1300,
    "start_time": "2021-06-24T02:40:36.905Z"
   },
   {
    "duration": 1346,
    "start_time": "2021-06-24T02:40:38.208Z"
   },
   {
    "duration": 5,
    "start_time": "2021-06-24T02:40:39.555Z"
   },
   {
    "duration": 31,
    "start_time": "2021-06-24T02:40:39.562Z"
   },
   {
    "duration": 265,
    "start_time": "2021-06-24T02:56:03.837Z"
   },
   {
    "duration": 21,
    "start_time": "2021-06-24T02:56:08.998Z"
   },
   {
    "duration": 27,
    "start_time": "2021-06-24T02:56:50.512Z"
   },
   {
    "duration": 27,
    "start_time": "2021-06-24T02:57:00.239Z"
   },
   {
    "duration": 226,
    "start_time": "2021-06-24T02:57:30.161Z"
   },
   {
    "duration": 5,
    "start_time": "2021-06-24T03:07:21.686Z"
   },
   {
    "duration": 231,
    "start_time": "2021-06-24T03:07:47.343Z"
   },
   {
    "duration": 157,
    "start_time": "2021-06-24T03:08:06.167Z"
   },
   {
    "duration": 148,
    "start_time": "2021-06-24T03:08:10.537Z"
   },
   {
    "duration": 14,
    "start_time": "2021-06-24T03:08:11.103Z"
   },
   {
    "duration": 1012,
    "start_time": "2021-06-24T03:08:18.415Z"
   },
   {
    "duration": 435,
    "start_time": "2021-06-24T03:08:19.429Z"
   },
   {
    "duration": 81,
    "start_time": "2021-06-24T03:08:19.867Z"
   },
   {
    "duration": 162,
    "start_time": "2021-06-24T03:08:19.950Z"
   },
   {
    "duration": 15,
    "start_time": "2021-06-24T03:08:20.113Z"
   },
   {
    "duration": 377,
    "start_time": "2021-06-24T03:08:20.131Z"
   },
   {
    "duration": 370,
    "start_time": "2021-06-24T03:08:20.510Z"
   },
   {
    "duration": 1051,
    "start_time": "2021-06-24T03:08:20.883Z"
   },
   {
    "duration": 342,
    "start_time": "2021-06-24T03:08:21.936Z"
   },
   {
    "duration": 21,
    "start_time": "2021-06-24T03:08:22.284Z"
   },
   {
    "duration": 6,
    "start_time": "2021-06-24T03:08:22.307Z"
   },
   {
    "duration": 30,
    "start_time": "2021-06-24T03:08:22.315Z"
   },
   {
    "duration": 63,
    "start_time": "2021-06-24T03:08:22.346Z"
   },
   {
    "duration": 83,
    "start_time": "2021-06-24T03:08:22.411Z"
   },
   {
    "duration": 1361,
    "start_time": "2021-06-24T03:08:22.496Z"
   },
   {
    "duration": 1336,
    "start_time": "2021-06-24T03:08:23.859Z"
   },
   {
    "duration": 4,
    "start_time": "2021-06-24T03:08:25.197Z"
   },
   {
    "duration": 18,
    "start_time": "2021-06-24T03:08:25.203Z"
   },
   {
    "duration": 319,
    "start_time": "2021-06-24T03:09:21.742Z"
   },
   {
    "duration": 236,
    "start_time": "2021-06-24T03:09:45.395Z"
   },
   {
    "duration": 223,
    "start_time": "2021-06-24T03:12:05.351Z"
   },
   {
    "duration": 1005,
    "start_time": "2021-06-24T03:13:58.719Z"
   },
   {
    "duration": 445,
    "start_time": "2021-06-24T03:13:59.725Z"
   },
   {
    "duration": 81,
    "start_time": "2021-06-24T03:14:00.171Z"
   },
   {
    "duration": 323,
    "start_time": "2021-06-24T03:14:00.254Z"
   },
   {
    "duration": 341,
    "start_time": "2021-06-24T03:14:00.238Z"
   },
   {
    "duration": 340,
    "start_time": "2021-06-24T03:14:00.240Z"
   },
   {
    "duration": 339,
    "start_time": "2021-06-24T03:14:00.242Z"
   },
   {
    "duration": 338,
    "start_time": "2021-06-24T03:14:00.244Z"
   },
   {
    "duration": 293,
    "start_time": "2021-06-24T03:14:00.290Z"
   },
   {
    "duration": 285,
    "start_time": "2021-06-24T03:14:00.299Z"
   },
   {
    "duration": 282,
    "start_time": "2021-06-24T03:14:00.303Z"
   },
   {
    "duration": 278,
    "start_time": "2021-06-24T03:14:00.307Z"
   },
   {
    "duration": 276,
    "start_time": "2021-06-24T03:14:00.310Z"
   },
   {
    "duration": 273,
    "start_time": "2021-06-24T03:14:00.314Z"
   },
   {
    "duration": 271,
    "start_time": "2021-06-24T03:14:00.317Z"
   },
   {
    "duration": 268,
    "start_time": "2021-06-24T03:14:00.321Z"
   },
   {
    "duration": 266,
    "start_time": "2021-06-24T03:14:00.324Z"
   },
   {
    "duration": 263,
    "start_time": "2021-06-24T03:14:00.328Z"
   },
   {
    "duration": 354,
    "start_time": "2021-06-24T03:17:23.661Z"
   },
   {
    "duration": 220,
    "start_time": "2021-06-24T03:17:36.738Z"
   },
   {
    "duration": 230,
    "start_time": "2021-06-24T03:17:48.930Z"
   },
   {
    "duration": 232,
    "start_time": "2021-06-24T03:17:58.721Z"
   },
   {
    "duration": 225,
    "start_time": "2021-06-24T03:18:11.476Z"
   },
   {
    "duration": 502,
    "start_time": "2021-06-24T03:18:19.680Z"
   },
   {
    "duration": 228,
    "start_time": "2021-06-24T03:18:43.483Z"
   },
   {
    "duration": 218,
    "start_time": "2021-06-24T03:19:21.668Z"
   },
   {
    "duration": 226,
    "start_time": "2021-06-24T03:19:49.697Z"
   },
   {
    "duration": 226,
    "start_time": "2021-06-24T03:20:19.289Z"
   },
   {
    "duration": 234,
    "start_time": "2021-06-24T03:20:34.951Z"
   },
   {
    "duration": 242,
    "start_time": "2021-06-24T03:20:51.649Z"
   },
   {
    "duration": 146,
    "start_time": "2021-06-24T03:23:55.614Z"
   },
   {
    "duration": 14,
    "start_time": "2021-06-24T03:24:00.518Z"
   },
   {
    "duration": 1038,
    "start_time": "2021-06-24T03:24:18.284Z"
   },
   {
    "duration": 432,
    "start_time": "2021-06-24T03:24:19.324Z"
   },
   {
    "duration": 81,
    "start_time": "2021-06-24T03:24:19.758Z"
   },
   {
    "duration": 148,
    "start_time": "2021-06-24T03:24:19.841Z"
   },
   {
    "duration": 14,
    "start_time": "2021-06-24T03:24:19.990Z"
   },
   {
    "duration": 380,
    "start_time": "2021-06-24T03:24:20.005Z"
   },
   {
    "duration": 356,
    "start_time": "2021-06-24T03:24:20.386Z"
   },
   {
    "duration": 1024,
    "start_time": "2021-06-24T03:24:20.744Z"
   },
   {
    "duration": 334,
    "start_time": "2021-06-24T03:24:21.770Z"
   },
   {
    "duration": 20,
    "start_time": "2021-06-24T03:24:22.106Z"
   },
   {
    "duration": 5,
    "start_time": "2021-06-24T03:24:22.128Z"
   },
   {
    "duration": 52,
    "start_time": "2021-06-24T03:24:22.134Z"
   },
   {
    "duration": 27,
    "start_time": "2021-06-24T03:24:22.187Z"
   },
   {
    "duration": 84,
    "start_time": "2021-06-24T03:24:22.215Z"
   },
   {
    "duration": 1350,
    "start_time": "2021-06-24T03:24:22.301Z"
   },
   {
    "duration": 1316,
    "start_time": "2021-06-24T03:24:23.653Z"
   },
   {
    "duration": 4,
    "start_time": "2021-06-24T03:24:24.971Z"
   },
   {
    "duration": 17,
    "start_time": "2021-06-24T03:24:24.985Z"
   },
   {
    "duration": 224,
    "start_time": "2021-06-24T03:24:45.443Z"
   },
   {
    "duration": 12,
    "start_time": "2021-06-24T03:24:47.966Z"
   },
   {
    "duration": 1046,
    "start_time": "2021-06-24T03:25:04.981Z"
   },
   {
    "duration": 447,
    "start_time": "2021-06-24T03:25:06.029Z"
   },
   {
    "duration": 77,
    "start_time": "2021-06-24T03:25:06.478Z"
   },
   {
    "duration": 159,
    "start_time": "2021-06-24T03:25:06.556Z"
   },
   {
    "duration": 13,
    "start_time": "2021-06-24T03:25:06.716Z"
   },
   {
    "duration": 369,
    "start_time": "2021-06-24T03:25:06.731Z"
   },
   {
    "duration": 354,
    "start_time": "2021-06-24T03:25:07.101Z"
   },
   {
    "duration": 1045,
    "start_time": "2021-06-24T03:25:07.457Z"
   },
   {
    "duration": 332,
    "start_time": "2021-06-24T03:25:08.504Z"
   },
   {
    "duration": 18,
    "start_time": "2021-06-24T03:25:08.838Z"
   },
   {
    "duration": 4,
    "start_time": "2021-06-24T03:25:08.858Z"
   },
   {
    "duration": 43,
    "start_time": "2021-06-24T03:25:08.864Z"
   },
   {
    "duration": 27,
    "start_time": "2021-06-24T03:25:08.909Z"
   },
   {
    "duration": 86,
    "start_time": "2021-06-24T03:25:08.937Z"
   },
   {
    "duration": 1361,
    "start_time": "2021-06-24T03:25:09.024Z"
   },
   {
    "duration": 1365,
    "start_time": "2021-06-24T03:25:10.387Z"
   },
   {
    "duration": 5,
    "start_time": "2021-06-24T03:25:11.754Z"
   },
   {
    "duration": 33,
    "start_time": "2021-06-24T03:25:11.761Z"
   },
   {
    "duration": 12,
    "start_time": "2021-06-24T03:26:45.878Z"
   },
   {
    "duration": 155,
    "start_time": "2021-06-24T03:27:45.184Z"
   },
   {
    "duration": 12,
    "start_time": "2021-06-24T03:27:47.125Z"
   },
   {
    "duration": 1036,
    "start_time": "2021-06-24T03:30:10.304Z"
   },
   {
    "duration": 447,
    "start_time": "2021-06-24T03:30:11.341Z"
   },
   {
    "duration": 97,
    "start_time": "2021-06-24T03:30:11.790Z"
   },
   {
    "duration": 150,
    "start_time": "2021-06-24T03:30:11.889Z"
   },
   {
    "duration": 13,
    "start_time": "2021-06-24T03:30:12.041Z"
   },
   {
    "duration": 398,
    "start_time": "2021-06-24T03:30:12.056Z"
   },
   {
    "duration": 356,
    "start_time": "2021-06-24T03:30:12.456Z"
   },
   {
    "duration": 1013,
    "start_time": "2021-06-24T03:30:12.815Z"
   },
   {
    "duration": 340,
    "start_time": "2021-06-24T03:30:13.830Z"
   },
   {
    "duration": 23,
    "start_time": "2021-06-24T03:30:14.172Z"
   },
   {
    "duration": 5,
    "start_time": "2021-06-24T03:30:14.197Z"
   },
   {
    "duration": 30,
    "start_time": "2021-06-24T03:30:14.203Z"
   },
   {
    "duration": 52,
    "start_time": "2021-06-24T03:30:14.234Z"
   },
   {
    "duration": 64,
    "start_time": "2021-06-24T03:30:14.287Z"
   },
   {
    "duration": 1333,
    "start_time": "2021-06-24T03:30:14.353Z"
   },
   {
    "duration": 1343,
    "start_time": "2021-06-24T03:30:15.688Z"
   },
   {
    "duration": 5,
    "start_time": "2021-06-24T03:30:17.033Z"
   },
   {
    "duration": 19,
    "start_time": "2021-06-24T03:30:17.039Z"
   },
   {
    "duration": 34,
    "start_time": "2021-06-24T03:33:56.143Z"
   },
   {
    "duration": 471,
    "start_time": "2021-06-24T03:34:14.912Z"
   },
   {
    "duration": 162,
    "start_time": "2021-06-24T03:34:43.500Z"
   },
   {
    "duration": 23,
    "start_time": "2021-06-24T03:34:44.428Z"
   },
   {
    "duration": 982,
    "start_time": "2021-06-24T03:34:57.044Z"
   },
   {
    "duration": 432,
    "start_time": "2021-06-24T03:34:58.028Z"
   },
   {
    "duration": 78,
    "start_time": "2021-06-24T03:34:58.461Z"
   },
   {
    "duration": 158,
    "start_time": "2021-06-24T03:34:58.540Z"
   },
   {
    "duration": 23,
    "start_time": "2021-06-24T03:34:58.699Z"
   },
   {
    "duration": 363,
    "start_time": "2021-06-24T03:34:58.724Z"
   },
   {
    "duration": 356,
    "start_time": "2021-06-24T03:34:59.089Z"
   },
   {
    "duration": 1023,
    "start_time": "2021-06-24T03:34:59.448Z"
   },
   {
    "duration": 346,
    "start_time": "2021-06-24T03:35:00.473Z"
   },
   {
    "duration": 18,
    "start_time": "2021-06-24T03:35:00.821Z"
   },
   {
    "duration": 6,
    "start_time": "2021-06-24T03:35:00.841Z"
   },
   {
    "duration": 43,
    "start_time": "2021-06-24T03:35:00.848Z"
   },
   {
    "duration": 27,
    "start_time": "2021-06-24T03:35:00.892Z"
   },
   {
    "duration": 81,
    "start_time": "2021-06-24T03:35:00.920Z"
   },
   {
    "duration": 1594,
    "start_time": "2021-06-24T03:35:01.003Z"
   },
   {
    "duration": 1313,
    "start_time": "2021-06-24T03:35:02.598Z"
   },
   {
    "duration": 4,
    "start_time": "2021-06-24T03:35:03.913Z"
   },
   {
    "duration": 17,
    "start_time": "2021-06-24T03:35:03.918Z"
   },
   {
    "duration": 1079,
    "start_time": "2021-06-24T03:35:31.258Z"
   },
   {
    "duration": 432,
    "start_time": "2021-06-24T03:35:32.339Z"
   },
   {
    "duration": 79,
    "start_time": "2021-06-24T03:35:32.773Z"
   },
   {
    "duration": 467,
    "start_time": "2021-06-24T03:35:32.854Z"
   },
   {
    "duration": 275,
    "start_time": "2021-06-24T03:35:33.048Z"
   },
   {
    "duration": 271,
    "start_time": "2021-06-24T03:35:33.053Z"
   },
   {
    "duration": 269,
    "start_time": "2021-06-24T03:35:33.056Z"
   },
   {
    "duration": 266,
    "start_time": "2021-06-24T03:35:33.060Z"
   },
   {
    "duration": 263,
    "start_time": "2021-06-24T03:35:33.064Z"
   },
   {
    "duration": 262,
    "start_time": "2021-06-24T03:35:33.067Z"
   },
   {
    "duration": 259,
    "start_time": "2021-06-24T03:35:33.071Z"
   },
   {
    "duration": 256,
    "start_time": "2021-06-24T03:35:33.075Z"
   },
   {
    "duration": 253,
    "start_time": "2021-06-24T03:35:33.079Z"
   },
   {
    "duration": 252,
    "start_time": "2021-06-24T03:35:33.081Z"
   },
   {
    "duration": 251,
    "start_time": "2021-06-24T03:35:33.083Z"
   },
   {
    "duration": 249,
    "start_time": "2021-06-24T03:35:33.085Z"
   },
   {
    "duration": 249,
    "start_time": "2021-06-24T03:35:33.086Z"
   },
   {
    "duration": 249,
    "start_time": "2021-06-24T03:35:33.088Z"
   },
   {
    "duration": 233,
    "start_time": "2021-06-24T03:36:44.641Z"
   },
   {
    "duration": 363,
    "start_time": "2021-06-24T03:37:09.558Z"
   },
   {
    "duration": 108,
    "start_time": "2021-06-24T03:40:49.804Z"
   },
   {
    "duration": 23,
    "start_time": "2021-06-24T03:40:51.781Z"
   },
   {
    "duration": 708,
    "start_time": "2021-06-24T03:56:11.270Z"
   },
   {
    "duration": 37,
    "start_time": "2021-06-24T03:56:12.440Z"
   },
   {
    "duration": 85,
    "start_time": "2021-06-24T03:56:27.720Z"
   },
   {
    "duration": 20,
    "start_time": "2021-06-24T03:56:28.803Z"
   },
   {
    "duration": 110,
    "start_time": "2021-06-24T03:57:02.638Z"
   },
   {
    "duration": 19,
    "start_time": "2021-06-24T03:57:03.382Z"
   },
   {
    "duration": 121,
    "start_time": "2021-06-24T03:58:53.546Z"
   },
   {
    "duration": 24,
    "start_time": "2021-06-24T03:58:54.568Z"
   },
   {
    "duration": 111,
    "start_time": "2021-06-24T03:59:15.339Z"
   },
   {
    "duration": 20,
    "start_time": "2021-06-24T03:59:18.388Z"
   },
   {
    "duration": 29,
    "start_time": "2021-06-24T03:59:36.283Z"
   },
   {
    "duration": 231,
    "start_time": "2021-06-24T04:05:08.256Z"
   },
   {
    "duration": 28,
    "start_time": "2021-06-24T04:05:09.409Z"
   },
   {
    "duration": 277,
    "start_time": "2021-06-24T04:05:17.523Z"
   },
   {
    "duration": 30,
    "start_time": "2021-06-24T04:05:18.296Z"
   },
   {
    "duration": 989,
    "start_time": "2021-06-24T04:06:49.140Z"
   },
   {
    "duration": 437,
    "start_time": "2021-06-24T04:06:50.131Z"
   },
   {
    "duration": 78,
    "start_time": "2021-06-24T04:06:50.569Z"
   },
   {
    "duration": 321,
    "start_time": "2021-06-24T04:06:50.649Z"
   },
   {
    "duration": 264,
    "start_time": "2021-06-24T04:06:50.708Z"
   },
   {
    "duration": 253,
    "start_time": "2021-06-24T04:06:50.719Z"
   },
   {
    "duration": 250,
    "start_time": "2021-06-24T04:06:50.723Z"
   },
   {
    "duration": 248,
    "start_time": "2021-06-24T04:06:50.726Z"
   },
   {
    "duration": 248,
    "start_time": "2021-06-24T04:06:50.727Z"
   },
   {
    "duration": 247,
    "start_time": "2021-06-24T04:06:50.729Z"
   },
   {
    "duration": 240,
    "start_time": "2021-06-24T04:06:50.737Z"
   },
   {
    "duration": 238,
    "start_time": "2021-06-24T04:06:50.739Z"
   },
   {
    "duration": 238,
    "start_time": "2021-06-24T04:06:50.740Z"
   },
   {
    "duration": 237,
    "start_time": "2021-06-24T04:06:50.742Z"
   },
   {
    "duration": 237,
    "start_time": "2021-06-24T04:06:50.743Z"
   },
   {
    "duration": 235,
    "start_time": "2021-06-24T04:06:50.745Z"
   },
   {
    "duration": 235,
    "start_time": "2021-06-24T04:06:50.746Z"
   },
   {
    "duration": 234,
    "start_time": "2021-06-24T04:06:50.748Z"
   },
   {
    "duration": 274,
    "start_time": "2021-06-24T04:07:40.114Z"
   },
   {
    "duration": 1004,
    "start_time": "2021-06-24T04:08:08.123Z"
   },
   {
    "duration": 448,
    "start_time": "2021-06-24T04:08:09.130Z"
   },
   {
    "duration": 79,
    "start_time": "2021-06-24T04:08:09.580Z"
   },
   {
    "duration": 320,
    "start_time": "2021-06-24T04:08:09.661Z"
   },
   {
    "duration": 261,
    "start_time": "2021-06-24T04:08:09.723Z"
   },
   {
    "duration": 259,
    "start_time": "2021-06-24T04:08:09.726Z"
   },
   {
    "duration": 259,
    "start_time": "2021-06-24T04:08:09.728Z"
   },
   {
    "duration": 256,
    "start_time": "2021-06-24T04:08:09.732Z"
   },
   {
    "duration": 255,
    "start_time": "2021-06-24T04:08:09.734Z"
   },
   {
    "duration": 254,
    "start_time": "2021-06-24T04:08:09.737Z"
   },
   {
    "duration": 240,
    "start_time": "2021-06-24T04:08:09.752Z"
   },
   {
    "duration": 240,
    "start_time": "2021-06-24T04:08:09.754Z"
   },
   {
    "duration": 240,
    "start_time": "2021-06-24T04:08:09.755Z"
   },
   {
    "duration": 240,
    "start_time": "2021-06-24T04:08:09.757Z"
   },
   {
    "duration": 240,
    "start_time": "2021-06-24T04:08:09.758Z"
   },
   {
    "duration": 239,
    "start_time": "2021-06-24T04:08:09.760Z"
   },
   {
    "duration": 240,
    "start_time": "2021-06-24T04:08:09.761Z"
   },
   {
    "duration": 239,
    "start_time": "2021-06-24T04:08:09.763Z"
   },
   {
    "duration": 157,
    "start_time": "2021-06-24T04:08:45.684Z"
   },
   {
    "duration": 37,
    "start_time": "2021-06-24T04:08:46.680Z"
   },
   {
    "duration": 360,
    "start_time": "2021-06-24T04:09:32.224Z"
   },
   {
    "duration": 37,
    "start_time": "2021-06-24T04:09:32.970Z"
   },
   {
    "duration": 140,
    "start_time": "2021-06-24T04:12:42.244Z"
   },
   {
    "duration": 30,
    "start_time": "2021-06-24T04:12:42.908Z"
   },
   {
    "duration": 28,
    "start_time": "2021-06-24T04:12:59.088Z"
   },
   {
    "duration": 212,
    "start_time": "2021-06-24T04:19:15.184Z"
   },
   {
    "duration": 436,
    "start_time": "2021-06-24T04:20:59.505Z"
   },
   {
    "duration": 221,
    "start_time": "2021-06-24T04:21:00.274Z"
   },
   {
    "duration": 328,
    "start_time": "2021-06-24T04:22:11.309Z"
   },
   {
    "duration": 39,
    "start_time": "2021-06-24T04:22:11.802Z"
   },
   {
    "duration": 23,
    "start_time": "2021-06-24T04:22:23.607Z"
   },
   {
    "duration": 326,
    "start_time": "2021-06-24T04:23:24.764Z"
   },
   {
    "duration": 234,
    "start_time": "2021-06-24T04:23:24.858Z"
   },
   {
    "duration": 308,
    "start_time": "2021-06-24T04:23:43.258Z"
   },
   {
    "duration": 324,
    "start_time": "2021-06-24T04:24:12.035Z"
   },
   {
    "duration": 134,
    "start_time": "2021-06-24T04:24:33.608Z"
   },
   {
    "duration": 39,
    "start_time": "2021-06-24T04:25:00.180Z"
   },
   {
    "duration": 378,
    "start_time": "2021-06-24T04:25:56.258Z"
   },
   {
    "duration": 35,
    "start_time": "2021-06-24T04:25:56.774Z"
   },
   {
    "duration": 318,
    "start_time": "2021-06-24T04:31:49.159Z"
   },
   {
    "duration": 353,
    "start_time": "2021-06-24T04:32:04.530Z"
   },
   {
    "duration": 320,
    "start_time": "2021-06-24T04:33:59.440Z"
   },
   {
    "duration": 326,
    "start_time": "2021-06-24T04:34:19.471Z"
   },
   {
    "duration": 140,
    "start_time": "2021-06-24T04:36:11.437Z"
   },
   {
    "duration": 27,
    "start_time": "2021-06-24T04:36:24.625Z"
   },
   {
    "duration": 142,
    "start_time": "2021-06-24T04:36:48.731Z"
   },
   {
    "duration": 28,
    "start_time": "2021-06-24T04:36:49.521Z"
   },
   {
    "duration": 142,
    "start_time": "2021-06-24T04:37:17.579Z"
   },
   {
    "duration": 145,
    "start_time": "2021-06-24T04:39:00.443Z"
   },
   {
    "duration": 136,
    "start_time": "2021-06-24T04:40:27.463Z"
   },
   {
    "duration": 144,
    "start_time": "2021-06-24T04:40:54.431Z"
   },
   {
    "duration": 20,
    "start_time": "2021-06-24T04:40:59.675Z"
   },
   {
    "duration": 149,
    "start_time": "2021-06-24T04:41:19.875Z"
   },
   {
    "duration": 33,
    "start_time": "2021-06-24T04:41:20.331Z"
   },
   {
    "duration": 140,
    "start_time": "2021-06-24T04:41:44.206Z"
   },
   {
    "duration": 64,
    "start_time": "2021-06-24T04:42:09.370Z"
   },
   {
    "duration": 309,
    "start_time": "2021-06-24T04:45:31.411Z"
   },
   {
    "duration": 35,
    "start_time": "2021-06-24T04:45:32.424Z"
   },
   {
    "duration": 431,
    "start_time": "2021-06-24T04:45:43.448Z"
   },
   {
    "duration": 28,
    "start_time": "2021-06-24T04:45:44.075Z"
   },
   {
    "duration": 441,
    "start_time": "2021-06-24T04:46:07.462Z"
   },
   {
    "duration": 244,
    "start_time": "2021-06-24T04:46:07.661Z"
   },
   {
    "duration": 435,
    "start_time": "2021-06-24T04:46:49.953Z"
   },
   {
    "duration": 453,
    "start_time": "2021-06-24T04:47:14.236Z"
   },
   {
    "duration": 31,
    "start_time": "2021-06-24T04:47:15.063Z"
   },
   {
    "duration": 61,
    "start_time": "2021-06-24T04:48:13.161Z"
   },
   {
    "duration": 28,
    "start_time": "2021-06-24T04:48:13.900Z"
   },
   {
    "duration": 159,
    "start_time": "2021-06-24T04:48:23.729Z"
   },
   {
    "duration": 29,
    "start_time": "2021-06-24T04:48:24.634Z"
   },
   {
    "duration": 159,
    "start_time": "2021-06-24T04:48:54.113Z"
   },
   {
    "duration": 30,
    "start_time": "2021-06-24T04:48:54.720Z"
   },
   {
    "duration": 31,
    "start_time": "2021-06-24T04:49:08.519Z"
   },
   {
    "duration": 156,
    "start_time": "2021-06-24T04:49:25.092Z"
   },
   {
    "duration": 28,
    "start_time": "2021-06-24T04:49:25.706Z"
   },
   {
    "duration": 429,
    "start_time": "2021-06-24T04:54:44.309Z"
   },
   {
    "duration": 27,
    "start_time": "2021-06-24T04:54:44.948Z"
   },
   {
    "duration": 430,
    "start_time": "2021-06-24T04:55:13.230Z"
   },
   {
    "duration": 27,
    "start_time": "2021-06-24T04:55:13.669Z"
   },
   {
    "duration": 437,
    "start_time": "2021-06-24T04:56:26.100Z"
   },
   {
    "duration": 29,
    "start_time": "2021-06-24T04:56:26.896Z"
   },
   {
    "duration": 157,
    "start_time": "2021-06-24T04:57:24.928Z"
   },
   {
    "duration": 33,
    "start_time": "2021-06-24T04:57:25.599Z"
   },
   {
    "duration": 152,
    "start_time": "2021-06-24T04:58:47.446Z"
   },
   {
    "duration": 31,
    "start_time": "2021-06-24T04:58:48.110Z"
   },
   {
    "duration": 20,
    "start_time": "2021-06-24T04:59:36.006Z"
   },
   {
    "duration": 15,
    "start_time": "2021-06-24T05:00:06.473Z"
   },
   {
    "duration": 193,
    "start_time": "2021-06-24T05:01:31.902Z"
   },
   {
    "duration": 205,
    "start_time": "2021-06-24T05:01:43.176Z"
   },
   {
    "duration": 191,
    "start_time": "2021-06-24T05:01:51.106Z"
   },
   {
    "duration": 15,
    "start_time": "2021-06-24T05:02:06.471Z"
   },
   {
    "duration": 154,
    "start_time": "2021-06-24T05:05:21.638Z"
   },
   {
    "duration": 15,
    "start_time": "2021-06-24T05:05:28.184Z"
   },
   {
    "duration": 22,
    "start_time": "2021-06-24T05:06:31.272Z"
   },
   {
    "duration": 151,
    "start_time": "2021-06-24T05:07:12.836Z"
   },
   {
    "duration": 25,
    "start_time": "2021-06-24T05:07:13.282Z"
   },
   {
    "duration": 155,
    "start_time": "2021-06-24T05:08:25.395Z"
   },
   {
    "duration": 27,
    "start_time": "2021-06-24T05:08:25.932Z"
   },
   {
    "duration": 159,
    "start_time": "2021-06-24T05:09:09.394Z"
   },
   {
    "duration": 23,
    "start_time": "2021-06-24T05:09:10.086Z"
   },
   {
    "duration": 152,
    "start_time": "2021-06-24T05:10:09.938Z"
   },
   {
    "duration": 17,
    "start_time": "2021-06-24T05:10:25.324Z"
   },
   {
    "duration": 3505,
    "start_time": "2021-06-24T05:37:38.810Z"
   },
   {
    "duration": 4978,
    "start_time": "2021-06-24T05:38:35.675Z"
   },
   {
    "duration": 8,
    "start_time": "2021-06-24T05:39:54.945Z"
   },
   {
    "duration": 14,
    "start_time": "2021-06-24T05:40:12.415Z"
   },
   {
    "duration": 298,
    "start_time": "2021-06-24T05:40:55.025Z"
   },
   {
    "duration": 552,
    "start_time": "2021-06-24T05:41:26.959Z"
   },
   {
    "duration": 313,
    "start_time": "2021-06-24T05:45:33.267Z"
   },
   {
    "duration": 312,
    "start_time": "2021-06-24T05:46:07.096Z"
   },
   {
    "duration": 322,
    "start_time": "2021-06-24T08:39:30.137Z"
   },
   {
    "duration": 10,
    "start_time": "2021-06-24T08:41:08.176Z"
   },
   {
    "duration": 16,
    "start_time": "2021-06-24T08:41:12.462Z"
   },
   {
    "duration": 1070,
    "start_time": "2021-06-24T08:41:20.160Z"
   },
   {
    "duration": 466,
    "start_time": "2021-06-24T08:41:21.232Z"
   },
   {
    "duration": 98,
    "start_time": "2021-06-24T08:41:21.700Z"
   },
   {
    "duration": 171,
    "start_time": "2021-06-24T08:41:21.800Z"
   },
   {
    "duration": 19,
    "start_time": "2021-06-24T08:41:21.972Z"
   },
   {
    "duration": 19,
    "start_time": "2021-06-24T08:41:21.992Z"
   },
   {
    "duration": 20,
    "start_time": "2021-06-24T08:41:22.012Z"
   },
   {
    "duration": 3683,
    "start_time": "2021-06-24T08:41:22.034Z"
   },
   {
    "duration": 339,
    "start_time": "2021-06-24T08:41:25.380Z"
   },
   {
    "duration": 338,
    "start_time": "2021-06-24T08:41:25.382Z"
   },
   {
    "duration": 337,
    "start_time": "2021-06-24T08:41:25.384Z"
   },
   {
    "duration": 337,
    "start_time": "2021-06-24T08:41:25.385Z"
   },
   {
    "duration": 335,
    "start_time": "2021-06-24T08:41:25.387Z"
   },
   {
    "duration": 335,
    "start_time": "2021-06-24T08:41:25.388Z"
   },
   {
    "duration": 335,
    "start_time": "2021-06-24T08:41:25.389Z"
   },
   {
    "duration": 334,
    "start_time": "2021-06-24T08:41:25.391Z"
   },
   {
    "duration": 334,
    "start_time": "2021-06-24T08:41:25.392Z"
   },
   {
    "duration": 332,
    "start_time": "2021-06-24T08:41:25.394Z"
   },
   {
    "duration": 332,
    "start_time": "2021-06-24T08:41:25.395Z"
   },
   {
    "duration": 331,
    "start_time": "2021-06-24T08:41:25.397Z"
   },
   {
    "duration": 314,
    "start_time": "2021-06-24T08:57:51.366Z"
   },
   {
    "duration": 9,
    "start_time": "2021-06-24T08:58:11.264Z"
   },
   {
    "duration": 14,
    "start_time": "2021-06-24T08:58:13.862Z"
   },
   {
    "duration": 19,
    "start_time": "2021-06-24T08:58:41.448Z"
   },
   {
    "duration": 1076,
    "start_time": "2021-06-24T08:59:00.843Z"
   },
   {
    "duration": 500,
    "start_time": "2021-06-24T08:59:01.921Z"
   },
   {
    "duration": 100,
    "start_time": "2021-06-24T08:59:02.423Z"
   },
   {
    "duration": 187,
    "start_time": "2021-06-24T08:59:02.525Z"
   },
   {
    "duration": 17,
    "start_time": "2021-06-24T08:59:02.714Z"
   },
   {
    "duration": 483,
    "start_time": "2021-06-24T08:59:02.733Z"
   },
   {
    "duration": 377,
    "start_time": "2021-06-24T08:59:02.841Z"
   },
   {
    "duration": 374,
    "start_time": "2021-06-24T08:59:02.845Z"
   },
   {
    "duration": 373,
    "start_time": "2021-06-24T08:59:02.847Z"
   },
   {
    "duration": 358,
    "start_time": "2021-06-24T08:59:02.863Z"
   },
   {
    "duration": 357,
    "start_time": "2021-06-24T08:59:02.865Z"
   },
   {
    "duration": 357,
    "start_time": "2021-06-24T08:59:02.866Z"
   },
   {
    "duration": 356,
    "start_time": "2021-06-24T08:59:02.868Z"
   },
   {
    "duration": 355,
    "start_time": "2021-06-24T08:59:02.869Z"
   },
   {
    "duration": 354,
    "start_time": "2021-06-24T08:59:02.871Z"
   },
   {
    "duration": 354,
    "start_time": "2021-06-24T08:59:02.872Z"
   },
   {
    "duration": 353,
    "start_time": "2021-06-24T08:59:02.874Z"
   },
   {
    "duration": 351,
    "start_time": "2021-06-24T08:59:02.876Z"
   },
   {
    "duration": 351,
    "start_time": "2021-06-24T08:59:02.877Z"
   },
   {
    "duration": 347,
    "start_time": "2021-06-24T08:59:02.882Z"
   },
   {
    "duration": 329,
    "start_time": "2021-06-24T09:00:03.965Z"
   },
   {
    "duration": 385,
    "start_time": "2021-06-24T09:00:30.080Z"
   },
   {
    "duration": 320,
    "start_time": "2021-06-24T09:01:08.335Z"
   },
   {
    "duration": 308,
    "start_time": "2021-06-24T09:01:23.946Z"
   },
   {
    "duration": 194,
    "start_time": "2021-06-24T09:08:03.427Z"
   },
   {
    "duration": 200,
    "start_time": "2021-06-24T09:08:31.945Z"
   },
   {
    "duration": 16,
    "start_time": "2021-06-24T09:08:35.892Z"
   },
   {
    "duration": 28,
    "start_time": "2021-06-24T09:11:38.497Z"
   },
   {
    "duration": 1094,
    "start_time": "2021-06-24T09:11:49.372Z"
   },
   {
    "duration": 488,
    "start_time": "2021-06-24T09:11:50.467Z"
   },
   {
    "duration": 82,
    "start_time": "2021-06-24T09:11:50.957Z"
   },
   {
    "duration": 171,
    "start_time": "2021-06-24T09:11:51.042Z"
   },
   {
    "duration": 16,
    "start_time": "2021-06-24T09:11:51.215Z"
   },
   {
    "duration": 23,
    "start_time": "2021-06-24T09:11:51.233Z"
   },
   {
    "duration": 35,
    "start_time": "2021-06-24T09:11:51.257Z"
   },
   {
    "duration": 3394,
    "start_time": "2021-06-24T09:11:51.295Z"
   },
   {
    "duration": -114,
    "start_time": "2021-06-24T09:11:54.805Z"
   },
   {
    "duration": -114,
    "start_time": "2021-06-24T09:11:54.806Z"
   },
   {
    "duration": -115,
    "start_time": "2021-06-24T09:11:54.808Z"
   },
   {
    "duration": -135,
    "start_time": "2021-06-24T09:11:54.829Z"
   },
   {
    "duration": -156,
    "start_time": "2021-06-24T09:11:54.850Z"
   },
   {
    "duration": -178,
    "start_time": "2021-06-24T09:11:54.873Z"
   },
   {
    "duration": -188,
    "start_time": "2021-06-24T09:11:54.884Z"
   },
   {
    "duration": -227,
    "start_time": "2021-06-24T09:11:54.924Z"
   },
   {
    "duration": -261,
    "start_time": "2021-06-24T09:11:54.958Z"
   },
   {
    "duration": -262,
    "start_time": "2021-06-24T09:11:54.960Z"
   },
   {
    "duration": -282,
    "start_time": "2021-06-24T09:11:54.981Z"
   },
   {
    "duration": -288,
    "start_time": "2021-06-24T09:11:54.988Z"
   },
   {
    "duration": 321,
    "start_time": "2021-06-24T09:13:07.690Z"
   },
   {
    "duration": 319,
    "start_time": "2021-06-24T09:13:18.924Z"
   },
   {
    "duration": 358,
    "start_time": "2021-06-24T09:13:51.314Z"
   },
   {
    "duration": 317,
    "start_time": "2021-06-24T09:14:02.590Z"
   },
   {
    "duration": 567,
    "start_time": "2021-06-24T09:24:45.126Z"
   },
   {
    "duration": 15,
    "start_time": "2021-06-24T09:24:51.056Z"
   },
   {
    "duration": 267,
    "start_time": "2021-06-24T09:25:04.671Z"
   },
   {
    "duration": 14,
    "start_time": "2021-06-24T09:25:09.306Z"
   },
   {
    "duration": 4479,
    "start_time": "2021-06-24T09:25:33.589Z"
   },
   {
    "duration": 337,
    "start_time": "2021-06-24T09:25:37.733Z"
   },
   {
    "duration": 60,
    "start_time": "2021-06-24T09:26:03.839Z"
   },
   {
    "duration": 196,
    "start_time": "2021-06-24T09:26:15.922Z"
   },
   {
    "duration": 14,
    "start_time": "2021-06-24T09:26:23.829Z"
   },
   {
    "duration": 186,
    "start_time": "2021-06-24T09:27:24.148Z"
   },
   {
    "duration": 23,
    "start_time": "2021-06-24T09:27:41.173Z"
   },
   {
    "duration": 14,
    "start_time": "2021-06-24T09:27:46.587Z"
   },
   {
    "duration": 197,
    "start_time": "2021-06-24T09:34:26.230Z"
   },
   {
    "duration": 186,
    "start_time": "2021-06-24T09:34:37.230Z"
   },
   {
    "duration": 10,
    "start_time": "2021-06-24T09:34:38.317Z"
   },
   {
    "duration": 476,
    "start_time": "2021-06-24T09:36:37.578Z"
   },
   {
    "duration": 448,
    "start_time": "2021-06-24T09:36:54.755Z"
   },
   {
    "duration": 463,
    "start_time": "2021-06-24T09:37:05.521Z"
   },
   {
    "duration": 446,
    "start_time": "2021-06-24T09:37:35.552Z"
   },
   {
    "duration": 203,
    "start_time": "2021-06-24T09:38:04.208Z"
   },
   {
    "duration": 483,
    "start_time": "2021-06-24T09:38:58.876Z"
   },
   {
    "duration": 11,
    "start_time": "2021-06-24T09:39:00.721Z"
   },
   {
    "duration": 18,
    "start_time": "2021-06-24T09:39:13.950Z"
   },
   {
    "duration": 19,
    "start_time": "2021-06-24T09:39:17.855Z"
   },
   {
    "duration": 1075,
    "start_time": "2021-06-24T09:39:41.301Z"
   },
   {
    "duration": 480,
    "start_time": "2021-06-24T09:39:42.378Z"
   },
   {
    "duration": 82,
    "start_time": "2021-06-24T09:39:42.860Z"
   },
   {
    "duration": 171,
    "start_time": "2021-06-24T09:39:42.944Z"
   },
   {
    "duration": 16,
    "start_time": "2021-06-24T09:39:43.116Z"
   },
   {
    "duration": 34,
    "start_time": "2021-06-24T09:39:43.133Z"
   },
   {
    "duration": 27,
    "start_time": "2021-06-24T09:39:43.169Z"
   },
   {
    "duration": 6200,
    "start_time": "2021-06-24T09:39:43.199Z"
   },
   {
    "duration": 303,
    "start_time": "2021-06-24T09:39:49.098Z"
   },
   {
    "duration": 302,
    "start_time": "2021-06-24T09:39:49.100Z"
   },
   {
    "duration": 302,
    "start_time": "2021-06-24T09:39:49.101Z"
   },
   {
    "duration": 301,
    "start_time": "2021-06-24T09:39:49.103Z"
   },
   {
    "duration": 301,
    "start_time": "2021-06-24T09:39:49.104Z"
   },
   {
    "duration": 256,
    "start_time": "2021-06-24T09:39:49.150Z"
   },
   {
    "duration": 251,
    "start_time": "2021-06-24T09:39:49.155Z"
   },
   {
    "duration": 251,
    "start_time": "2021-06-24T09:39:49.156Z"
   },
   {
    "duration": 250,
    "start_time": "2021-06-24T09:39:49.158Z"
   },
   {
    "duration": 249,
    "start_time": "2021-06-24T09:39:49.160Z"
   },
   {
    "duration": 249,
    "start_time": "2021-06-24T09:39:49.161Z"
   },
   {
    "duration": 249,
    "start_time": "2021-06-24T09:39:49.162Z"
   },
   {
    "duration": 452,
    "start_time": "2021-06-24T09:40:32.483Z"
   },
   {
    "duration": 30,
    "start_time": "2021-06-24T09:45:35.278Z"
   },
   {
    "duration": 558,
    "start_time": "2021-06-24T09:47:17.794Z"
   },
   {
    "duration": 159,
    "start_time": "2021-06-24T09:47:34.329Z"
   },
   {
    "duration": 33,
    "start_time": "2021-06-24T09:49:35.410Z"
   },
   {
    "duration": 35,
    "start_time": "2021-06-24T09:53:52.706Z"
   },
   {
    "duration": 33,
    "start_time": "2021-06-24T09:54:13.668Z"
   },
   {
    "duration": 38,
    "start_time": "2021-06-24T09:54:53.216Z"
   },
   {
    "duration": 1144,
    "start_time": "2021-06-24T09:55:03.974Z"
   },
   {
    "duration": 471,
    "start_time": "2021-06-24T09:55:05.121Z"
   },
   {
    "duration": 97,
    "start_time": "2021-06-24T09:55:05.594Z"
   },
   {
    "duration": 168,
    "start_time": "2021-06-24T09:55:05.693Z"
   },
   {
    "duration": 44,
    "start_time": "2021-06-24T09:55:05.862Z"
   },
   {
    "duration": 34,
    "start_time": "2021-06-24T09:55:05.908Z"
   },
   {
    "duration": 14,
    "start_time": "2021-06-24T09:55:05.943Z"
   },
   {
    "duration": 3392,
    "start_time": "2021-06-24T09:55:05.959Z"
   },
   {
    "duration": 259,
    "start_time": "2021-06-24T09:55:09.094Z"
   },
   {
    "duration": 254,
    "start_time": "2021-06-24T09:55:09.100Z"
   },
   {
    "duration": 251,
    "start_time": "2021-06-24T09:55:09.105Z"
   },
   {
    "duration": 249,
    "start_time": "2021-06-24T09:55:09.108Z"
   },
   {
    "duration": 248,
    "start_time": "2021-06-24T09:55:09.110Z"
   },
   {
    "duration": 246,
    "start_time": "2021-06-24T09:55:09.113Z"
   },
   {
    "duration": 245,
    "start_time": "2021-06-24T09:55:09.115Z"
   },
   {
    "duration": 243,
    "start_time": "2021-06-24T09:55:09.118Z"
   },
   {
    "duration": 242,
    "start_time": "2021-06-24T09:55:09.120Z"
   },
   {
    "duration": 241,
    "start_time": "2021-06-24T09:55:09.122Z"
   },
   {
    "duration": 239,
    "start_time": "2021-06-24T09:55:09.125Z"
   },
   {
    "duration": 238,
    "start_time": "2021-06-24T09:55:09.127Z"
   },
   {
    "duration": 89,
    "start_time": "2021-06-24T09:59:22.316Z"
   },
   {
    "duration": 986,
    "start_time": "2021-06-24T09:59:34.247Z"
   },
   {
    "duration": 437,
    "start_time": "2021-06-24T09:59:35.235Z"
   },
   {
    "duration": 80,
    "start_time": "2021-06-24T09:59:35.673Z"
   },
   {
    "duration": 173,
    "start_time": "2021-06-24T09:59:35.755Z"
   },
   {
    "duration": 30,
    "start_time": "2021-06-24T09:59:35.929Z"
   },
   {
    "duration": 291,
    "start_time": "2021-06-24T09:59:35.961Z"
   },
   {
    "duration": 368,
    "start_time": "2021-06-24T09:59:35.886Z"
   },
   {
    "duration": 359,
    "start_time": "2021-06-24T09:59:35.896Z"
   },
   {
    "duration": 356,
    "start_time": "2021-06-24T09:59:35.900Z"
   },
   {
    "duration": 354,
    "start_time": "2021-06-24T09:59:35.904Z"
   },
   {
    "duration": 352,
    "start_time": "2021-06-24T09:59:35.907Z"
   },
   {
    "duration": 349,
    "start_time": "2021-06-24T09:59:35.911Z"
   },
   {
    "duration": 348,
    "start_time": "2021-06-24T09:59:35.913Z"
   },
   {
    "duration": 346,
    "start_time": "2021-06-24T09:59:35.916Z"
   },
   {
    "duration": 344,
    "start_time": "2021-06-24T09:59:35.919Z"
   },
   {
    "duration": 343,
    "start_time": "2021-06-24T09:59:35.921Z"
   },
   {
    "duration": 340,
    "start_time": "2021-06-24T09:59:35.925Z"
   },
   {
    "duration": 338,
    "start_time": "2021-06-24T09:59:35.928Z"
   },
   {
    "duration": 336,
    "start_time": "2021-06-24T09:59:35.931Z"
   },
   {
    "duration": 335,
    "start_time": "2021-06-24T09:59:35.933Z"
   },
   {
    "duration": 225,
    "start_time": "2021-06-24T10:00:13.551Z"
   },
   {
    "duration": 150,
    "start_time": "2021-06-24T10:01:49.600Z"
   },
   {
    "duration": 190,
    "start_time": "2021-06-24T10:02:35.313Z"
   },
   {
    "duration": 29,
    "start_time": "2021-06-24T10:03:42.143Z"
   },
   {
    "duration": 25,
    "start_time": "2021-06-24T10:04:06.000Z"
   },
   {
    "duration": 25,
    "start_time": "2021-06-24T10:04:34.719Z"
   },
   {
    "duration": 1020,
    "start_time": "2021-06-24T10:04:49.116Z"
   },
   {
    "duration": 440,
    "start_time": "2021-06-24T10:04:50.138Z"
   },
   {
    "duration": 78,
    "start_time": "2021-06-24T10:04:50.580Z"
   },
   {
    "duration": 168,
    "start_time": "2021-06-24T10:04:50.660Z"
   },
   {
    "duration": 29,
    "start_time": "2021-06-24T10:04:50.830Z"
   },
   {
    "duration": 37,
    "start_time": "2021-06-24T10:04:50.860Z"
   },
   {
    "duration": 11,
    "start_time": "2021-06-24T10:04:50.898Z"
   },
   {
    "duration": 3112,
    "start_time": "2021-06-24T10:04:50.911Z"
   },
   {
    "duration": 323,
    "start_time": "2021-06-24T10:04:53.702Z"
   },
   {
    "duration": 320,
    "start_time": "2021-06-24T10:04:53.706Z"
   },
   {
    "duration": 318,
    "start_time": "2021-06-24T10:04:53.709Z"
   },
   {
    "duration": 317,
    "start_time": "2021-06-24T10:04:53.711Z"
   },
   {
    "duration": 316,
    "start_time": "2021-06-24T10:04:53.713Z"
   },
   {
    "duration": 314,
    "start_time": "2021-06-24T10:04:53.716Z"
   },
   {
    "duration": 313,
    "start_time": "2021-06-24T10:04:53.718Z"
   },
   {
    "duration": 312,
    "start_time": "2021-06-24T10:04:53.720Z"
   },
   {
    "duration": 311,
    "start_time": "2021-06-24T10:04:53.722Z"
   },
   {
    "duration": 303,
    "start_time": "2021-06-24T10:04:53.731Z"
   },
   {
    "duration": 302,
    "start_time": "2021-06-24T10:04:53.733Z"
   },
   {
    "duration": 301,
    "start_time": "2021-06-24T10:04:53.735Z"
   },
   {
    "duration": 197,
    "start_time": "2021-06-24T10:11:37.163Z"
   },
   {
    "duration": 4433,
    "start_time": "2021-06-24T10:14:51.892Z"
   },
   {
    "duration": 202,
    "start_time": "2021-06-24T10:15:33.932Z"
   },
   {
    "duration": 204,
    "start_time": "2021-06-24T10:15:56.486Z"
   },
   {
    "duration": 195,
    "start_time": "2021-06-24T10:25:46.900Z"
   },
   {
    "duration": 188,
    "start_time": "2021-06-24T10:31:45.998Z"
   },
   {
    "duration": 190,
    "start_time": "2021-06-24T10:32:31.075Z"
   },
   {
    "duration": 321,
    "start_time": "2021-06-24T10:39:53.114Z"
   },
   {
    "duration": 54,
    "start_time": "2021-06-24T10:40:49.398Z"
   },
   {
    "duration": 309,
    "start_time": "2021-06-24T10:41:14.684Z"
   },
   {
    "duration": 308,
    "start_time": "2021-06-24T10:43:07.418Z"
   },
   {
    "duration": 316,
    "start_time": "2021-06-24T10:43:17.283Z"
   },
   {
    "duration": 310,
    "start_time": "2021-06-24T10:43:38.203Z"
   },
   {
    "duration": 342,
    "start_time": "2021-06-24T10:43:48.094Z"
   },
   {
    "duration": 320,
    "start_time": "2021-06-24T10:43:57.381Z"
   },
   {
    "duration": 412,
    "start_time": "2021-06-24T10:51:01.638Z"
   },
   {
    "duration": 297,
    "start_time": "2021-06-24T10:51:29.762Z"
   },
   {
    "duration": 302,
    "start_time": "2021-06-24T10:51:39.781Z"
   },
   {
    "duration": 166,
    "start_time": "2021-06-24T10:57:44.143Z"
   },
   {
    "duration": 163,
    "start_time": "2021-06-24T10:57:56.373Z"
   },
   {
    "duration": 168,
    "start_time": "2021-06-24T10:58:07.424Z"
   },
   {
    "duration": 319,
    "start_time": "2021-06-24T10:59:10.845Z"
   },
   {
    "duration": 9,
    "start_time": "2021-06-24T11:00:28.488Z"
   },
   {
    "duration": 15,
    "start_time": "2021-06-24T11:00:33.712Z"
   },
   {
    "duration": 167,
    "start_time": "2021-06-24T11:01:52.523Z"
   },
   {
    "duration": 172,
    "start_time": "2021-06-24T11:04:00.618Z"
   },
   {
    "duration": 166,
    "start_time": "2021-06-24T11:05:50.904Z"
   },
   {
    "duration": 1106,
    "start_time": "2021-06-24T11:06:01.223Z"
   },
   {
    "duration": 458,
    "start_time": "2021-06-24T11:06:02.331Z"
   },
   {
    "duration": 80,
    "start_time": "2021-06-24T11:06:02.790Z"
   },
   {
    "duration": 195,
    "start_time": "2021-06-24T11:06:02.872Z"
   },
   {
    "duration": 35,
    "start_time": "2021-06-24T11:06:03.069Z"
   },
   {
    "duration": 10,
    "start_time": "2021-06-24T11:06:03.106Z"
   },
   {
    "duration": 17,
    "start_time": "2021-06-24T11:06:03.117Z"
   },
   {
    "duration": 5479,
    "start_time": "2021-06-24T11:06:03.137Z"
   },
   {
    "duration": 384,
    "start_time": "2021-06-24T11:06:08.235Z"
   },
   {
    "duration": 384,
    "start_time": "2021-06-24T11:06:08.237Z"
   },
   {
    "duration": 383,
    "start_time": "2021-06-24T11:06:08.239Z"
   },
   {
    "duration": 381,
    "start_time": "2021-06-24T11:06:08.242Z"
   },
   {
    "duration": 367,
    "start_time": "2021-06-24T11:06:08.258Z"
   },
   {
    "duration": 366,
    "start_time": "2021-06-24T11:06:08.260Z"
   },
   {
    "duration": 364,
    "start_time": "2021-06-24T11:06:08.264Z"
   },
   {
    "duration": 363,
    "start_time": "2021-06-24T11:06:08.266Z"
   },
   {
    "duration": 363,
    "start_time": "2021-06-24T11:06:08.267Z"
   },
   {
    "duration": 362,
    "start_time": "2021-06-24T11:06:08.269Z"
   },
   {
    "duration": 362,
    "start_time": "2021-06-24T11:06:08.270Z"
   },
   {
    "duration": 362,
    "start_time": "2021-06-24T11:06:08.271Z"
   },
   {
    "duration": 1095,
    "start_time": "2021-06-25T02:18:10.860Z"
   },
   {
    "duration": 507,
    "start_time": "2021-06-25T02:18:11.957Z"
   },
   {
    "duration": 80,
    "start_time": "2021-06-25T02:18:12.466Z"
   },
   {
    "duration": 189,
    "start_time": "2021-06-25T02:18:12.548Z"
   },
   {
    "duration": 27,
    "start_time": "2021-06-25T02:18:12.738Z"
   },
   {
    "duration": 24,
    "start_time": "2021-06-25T02:18:12.766Z"
   },
   {
    "duration": 17,
    "start_time": "2021-06-25T02:18:12.791Z"
   },
   {
    "duration": 5552,
    "start_time": "2021-06-25T02:18:12.810Z"
   },
   {
    "duration": 648,
    "start_time": "2021-06-25T02:18:17.716Z"
   },
   {
    "duration": 647,
    "start_time": "2021-06-25T02:18:17.718Z"
   },
   {
    "duration": 646,
    "start_time": "2021-06-25T02:18:17.720Z"
   },
   {
    "duration": 645,
    "start_time": "2021-06-25T02:18:17.722Z"
   },
   {
    "duration": 645,
    "start_time": "2021-06-25T02:18:17.723Z"
   },
   {
    "duration": 628,
    "start_time": "2021-06-25T02:18:17.741Z"
   },
   {
    "duration": 627,
    "start_time": "2021-06-25T02:18:17.743Z"
   },
   {
    "duration": 626,
    "start_time": "2021-06-25T02:18:17.745Z"
   },
   {
    "duration": 625,
    "start_time": "2021-06-25T02:18:17.747Z"
   },
   {
    "duration": 624,
    "start_time": "2021-06-25T02:18:17.748Z"
   },
   {
    "duration": 623,
    "start_time": "2021-06-25T02:18:17.750Z"
   },
   {
    "duration": 623,
    "start_time": "2021-06-25T02:18:17.751Z"
   },
   {
    "duration": 1085,
    "start_time": "2021-06-25T02:24:04.194Z"
   },
   {
    "duration": 475,
    "start_time": "2021-06-25T02:24:05.281Z"
   },
   {
    "duration": 82,
    "start_time": "2021-06-25T02:24:05.758Z"
   },
   {
    "duration": 180,
    "start_time": "2021-06-25T02:24:05.842Z"
   },
   {
    "duration": 28,
    "start_time": "2021-06-25T02:24:06.024Z"
   },
   {
    "duration": 32,
    "start_time": "2021-06-25T02:24:06.054Z"
   },
   {
    "duration": 15,
    "start_time": "2021-06-25T02:24:06.088Z"
   },
   {
    "duration": 3333,
    "start_time": "2021-06-25T02:24:06.106Z"
   },
   {
    "duration": 634,
    "start_time": "2021-06-25T02:24:08.808Z"
   },
   {
    "duration": 629,
    "start_time": "2021-06-25T02:24:08.814Z"
   },
   {
    "duration": 621,
    "start_time": "2021-06-25T02:24:08.823Z"
   },
   {
    "duration": 619,
    "start_time": "2021-06-25T02:24:08.825Z"
   },
   {
    "duration": 618,
    "start_time": "2021-06-25T02:24:08.827Z"
   },
   {
    "duration": 616,
    "start_time": "2021-06-25T02:24:08.830Z"
   },
   {
    "duration": 615,
    "start_time": "2021-06-25T02:24:08.832Z"
   },
   {
    "duration": 609,
    "start_time": "2021-06-25T02:24:08.839Z"
   },
   {
    "duration": 608,
    "start_time": "2021-06-25T02:24:08.841Z"
   },
   {
    "duration": 607,
    "start_time": "2021-06-25T02:24:08.843Z"
   },
   {
    "duration": 606,
    "start_time": "2021-06-25T02:24:08.845Z"
   },
   {
    "duration": 606,
    "start_time": "2021-06-25T02:24:08.846Z"
   },
   {
    "duration": 6,
    "start_time": "2021-06-25T02:29:49.483Z"
   },
   {
    "duration": 223,
    "start_time": "2021-06-25T02:30:06.003Z"
   },
   {
    "duration": 360,
    "start_time": "2021-06-25T02:51:26.725Z"
   },
   {
    "duration": 311,
    "start_time": "2021-06-25T02:53:26.619Z"
   },
   {
    "duration": 305,
    "start_time": "2021-06-25T02:53:58.634Z"
   },
   {
    "duration": 6,
    "start_time": "2021-06-25T02:59:13.977Z"
   },
   {
    "duration": 210,
    "start_time": "2021-06-25T03:01:47.680Z"
   },
   {
    "duration": 201,
    "start_time": "2021-06-25T03:02:18.203Z"
   },
   {
    "duration": 219,
    "start_time": "2021-06-25T03:02:45.762Z"
   },
   {
    "duration": 210,
    "start_time": "2021-06-25T03:03:06.787Z"
   },
   {
    "duration": 213,
    "start_time": "2021-06-25T03:03:27.287Z"
   },
   {
    "duration": 321,
    "start_time": "2021-06-25T03:04:10.156Z"
   },
   {
    "duration": 312,
    "start_time": "2021-06-25T03:04:57.171Z"
   },
   {
    "duration": 317,
    "start_time": "2021-06-25T03:07:35.865Z"
   },
   {
    "duration": 317,
    "start_time": "2021-06-25T03:08:12.722Z"
   },
   {
    "duration": 3672,
    "start_time": "2021-06-25T03:10:24.384Z"
   },
   {
    "duration": 3111,
    "start_time": "2021-06-25T03:49:46.876Z"
   },
   {
    "duration": 4,
    "start_time": "2021-06-25T03:50:42.648Z"
   },
   {
    "duration": 322,
    "start_time": "2021-06-25T03:50:53.455Z"
   },
   {
    "duration": 323,
    "start_time": "2021-06-25T05:40:26.147Z"
   },
   {
    "duration": 297,
    "start_time": "2021-06-25T05:44:05.280Z"
   },
   {
    "duration": 310,
    "start_time": "2021-06-25T05:44:17.902Z"
   },
   {
    "duration": 290,
    "start_time": "2021-06-25T05:44:26.877Z"
   },
   {
    "duration": 358,
    "start_time": "2021-06-25T05:47:04.886Z"
   },
   {
    "duration": 10,
    "start_time": "2021-06-25T05:48:59.304Z"
   },
   {
    "duration": 17,
    "start_time": "2021-06-25T05:49:00.318Z"
   },
   {
    "duration": 5116,
    "start_time": "2021-06-25T05:49:04.486Z"
   },
   {
    "duration": 9,
    "start_time": "2021-06-25T05:49:51.188Z"
   },
   {
    "duration": 16,
    "start_time": "2021-06-25T05:49:52.077Z"
   },
   {
    "duration": 1116,
    "start_time": "2021-06-25T06:42:53.214Z"
   },
   {
    "duration": 483,
    "start_time": "2021-06-25T06:42:54.332Z"
   },
   {
    "duration": 100,
    "start_time": "2021-06-25T06:42:54.817Z"
   },
   {
    "duration": 189,
    "start_time": "2021-06-25T06:42:54.919Z"
   },
   {
    "duration": 28,
    "start_time": "2021-06-25T06:42:55.109Z"
   },
   {
    "duration": 10,
    "start_time": "2021-06-25T06:42:55.138Z"
   },
   {
    "duration": 41,
    "start_time": "2021-06-25T06:42:55.149Z"
   },
   {
    "duration": 231,
    "start_time": "2021-06-25T06:42:55.192Z"
   },
   {
    "duration": 404,
    "start_time": "2021-06-25T06:42:55.425Z"
   },
   {
    "duration": 450,
    "start_time": "2021-06-25T06:42:55.381Z"
   },
   {
    "duration": 435,
    "start_time": "2021-06-25T06:42:55.397Z"
   },
   {
    "duration": 433,
    "start_time": "2021-06-25T06:42:55.400Z"
   },
   {
    "duration": 412,
    "start_time": "2021-06-25T06:42:55.422Z"
   },
   {
    "duration": 389,
    "start_time": "2021-06-25T06:42:55.446Z"
   },
   {
    "duration": 365,
    "start_time": "2021-06-25T06:42:55.471Z"
   },
   {
    "duration": 346,
    "start_time": "2021-06-25T06:42:55.491Z"
   },
   {
    "duration": 327,
    "start_time": "2021-06-25T06:42:55.511Z"
   },
   {
    "duration": 306,
    "start_time": "2021-06-25T06:42:55.533Z"
   },
   {
    "duration": 290,
    "start_time": "2021-06-25T06:42:55.550Z"
   },
   {
    "duration": 268,
    "start_time": "2021-06-25T06:42:55.573Z"
   },
   {
    "duration": 249,
    "start_time": "2021-06-25T06:42:55.593Z"
   },
   {
    "duration": 215,
    "start_time": "2021-06-25T06:43:28.537Z"
   },
   {
    "duration": 218,
    "start_time": "2021-06-25T06:43:34.409Z"
   },
   {
    "duration": 343,
    "start_time": "2021-06-25T06:54:13.094Z"
   },
   {
    "duration": 309,
    "start_time": "2021-06-25T06:55:21.600Z"
   },
   {
    "duration": 305,
    "start_time": "2021-06-25T06:55:34.353Z"
   },
   {
    "duration": 305,
    "start_time": "2021-06-25T06:55:44.707Z"
   },
   {
    "duration": 292,
    "start_time": "2021-06-25T06:58:13.076Z"
   },
   {
    "duration": 296,
    "start_time": "2021-06-25T06:58:24.088Z"
   },
   {
    "duration": 336,
    "start_time": "2021-06-25T06:58:31.223Z"
   },
   {
    "duration": 213,
    "start_time": "2021-06-25T07:00:02.438Z"
   },
   {
    "duration": 322,
    "start_time": "2021-06-25T07:02:03.787Z"
   },
   {
    "duration": 1034,
    "start_time": "2021-06-25T07:02:48.302Z"
   },
   {
    "duration": 467,
    "start_time": "2021-06-25T07:02:49.338Z"
   },
   {
    "duration": 100,
    "start_time": "2021-06-25T07:02:49.807Z"
   },
   {
    "duration": 192,
    "start_time": "2021-06-25T07:02:49.909Z"
   },
   {
    "duration": 28,
    "start_time": "2021-06-25T07:02:50.102Z"
   },
   {
    "duration": 9,
    "start_time": "2021-06-25T07:02:50.131Z"
   },
   {
    "duration": 15,
    "start_time": "2021-06-25T07:02:50.142Z"
   },
   {
    "duration": 236,
    "start_time": "2021-06-25T07:02:50.159Z"
   },
   {
    "duration": 372,
    "start_time": "2021-06-25T07:02:50.397Z"
   },
   {
    "duration": 777,
    "start_time": "2021-06-25T07:02:49.994Z"
   },
   {
    "duration": 775,
    "start_time": "2021-06-25T07:02:49.997Z"
   },
   {
    "duration": 773,
    "start_time": "2021-06-25T07:02:50.000Z"
   },
   {
    "duration": 770,
    "start_time": "2021-06-25T07:02:50.004Z"
   },
   {
    "duration": 767,
    "start_time": "2021-06-25T07:02:50.008Z"
   },
   {
    "duration": 765,
    "start_time": "2021-06-25T07:02:50.011Z"
   },
   {
    "duration": 763,
    "start_time": "2021-06-25T07:02:50.014Z"
   },
   {
    "duration": 760,
    "start_time": "2021-06-25T07:02:50.018Z"
   },
   {
    "duration": 758,
    "start_time": "2021-06-25T07:02:50.021Z"
   },
   {
    "duration": 758,
    "start_time": "2021-06-25T07:02:50.022Z"
   },
   {
    "duration": 758,
    "start_time": "2021-06-25T07:02:50.023Z"
   },
   {
    "duration": 757,
    "start_time": "2021-06-25T07:02:50.025Z"
   },
   {
    "duration": 334,
    "start_time": "2021-06-25T07:03:56.805Z"
   },
   {
    "duration": 309,
    "start_time": "2021-06-25T07:04:05.290Z"
   },
   {
    "duration": 356,
    "start_time": "2021-06-25T07:04:38.476Z"
   },
   {
    "duration": 1056,
    "start_time": "2021-06-25T07:06:28.177Z"
   },
   {
    "duration": 469,
    "start_time": "2021-06-25T07:06:29.235Z"
   },
   {
    "duration": 98,
    "start_time": "2021-06-25T07:06:29.706Z"
   },
   {
    "duration": 180,
    "start_time": "2021-06-25T07:06:29.806Z"
   },
   {
    "duration": 27,
    "start_time": "2021-06-25T07:06:29.987Z"
   },
   {
    "duration": 10,
    "start_time": "2021-06-25T07:06:30.016Z"
   },
   {
    "duration": 19,
    "start_time": "2021-06-25T07:06:30.027Z"
   },
   {
    "duration": 247,
    "start_time": "2021-06-25T07:06:30.049Z"
   },
   {
    "duration": 293,
    "start_time": "2021-06-25T07:06:30.299Z"
   },
   {
    "duration": 801,
    "start_time": "2021-06-25T07:06:29.793Z"
   },
   {
    "duration": 798,
    "start_time": "2021-06-25T07:06:29.797Z"
   },
   {
    "duration": 788,
    "start_time": "2021-06-25T07:06:29.807Z"
   },
   {
    "duration": 787,
    "start_time": "2021-06-25T07:06:29.809Z"
   },
   {
    "duration": 786,
    "start_time": "2021-06-25T07:06:29.811Z"
   },
   {
    "duration": 773,
    "start_time": "2021-06-25T07:06:29.825Z"
   },
   {
    "duration": 773,
    "start_time": "2021-06-25T07:06:29.826Z"
   },
   {
    "duration": 772,
    "start_time": "2021-06-25T07:06:29.828Z"
   },
   {
    "duration": 769,
    "start_time": "2021-06-25T07:06:29.832Z"
   },
   {
    "duration": 767,
    "start_time": "2021-06-25T07:06:29.834Z"
   },
   {
    "duration": 766,
    "start_time": "2021-06-25T07:06:29.836Z"
   },
   {
    "duration": 308,
    "start_time": "2021-06-25T07:08:46.036Z"
   },
   {
    "duration": 398,
    "start_time": "2021-06-25T07:09:51.069Z"
   },
   {
    "duration": 356,
    "start_time": "2021-06-25T07:09:59.955Z"
   },
   {
    "duration": 309,
    "start_time": "2021-06-25T07:10:22.381Z"
   },
   {
    "duration": 183,
    "start_time": "2021-06-25T07:12:08.869Z"
   },
   {
    "duration": 204,
    "start_time": "2021-06-25T07:12:24.400Z"
   },
   {
    "duration": 185,
    "start_time": "2021-06-25T07:12:30.070Z"
   },
   {
    "duration": 186,
    "start_time": "2021-06-25T07:13:17.705Z"
   },
   {
    "duration": 317,
    "start_time": "2021-06-25T07:14:05.820Z"
   },
   {
    "duration": 328,
    "start_time": "2021-06-25T07:14:26.549Z"
   },
   {
    "duration": 317,
    "start_time": "2021-06-25T07:15:04.309Z"
   },
   {
    "duration": 208,
    "start_time": "2021-06-25T07:16:49.532Z"
   },
   {
    "duration": 507,
    "start_time": "2021-06-25T07:19:00.841Z"
   },
   {
    "duration": 217,
    "start_time": "2021-06-25T07:39:44.460Z"
   },
   {
    "duration": 232,
    "start_time": "2021-06-25T07:40:21.861Z"
   },
   {
    "duration": 180,
    "start_time": "2021-06-25T07:42:21.212Z"
   },
   {
    "duration": 355,
    "start_time": "2021-06-25T07:42:25.543Z"
   },
   {
    "duration": 184,
    "start_time": "2021-06-25T07:42:56.048Z"
   },
   {
    "duration": 300,
    "start_time": "2021-06-25T07:43:07.146Z"
   },
   {
    "duration": 65,
    "start_time": "2021-06-25T07:45:19.823Z"
   },
   {
    "duration": 330,
    "start_time": "2021-06-25T07:45:31.772Z"
   },
   {
    "duration": 297,
    "start_time": "2021-06-25T07:45:46.842Z"
   },
   {
    "duration": 318,
    "start_time": "2021-06-25T07:45:53.453Z"
   },
   {
    "duration": 4686,
    "start_time": "2021-06-25T07:47:00.435Z"
   },
   {
    "duration": 305,
    "start_time": "2021-06-25T07:48:10.014Z"
   },
   {
    "duration": 296,
    "start_time": "2021-06-25T07:48:34.966Z"
   },
   {
    "duration": 302,
    "start_time": "2021-06-25T07:49:01.215Z"
   },
   {
    "duration": 308,
    "start_time": "2021-06-25T07:51:31.915Z"
   },
   {
    "duration": 212,
    "start_time": "2021-06-25T07:53:10.196Z"
   },
   {
    "duration": 224,
    "start_time": "2021-06-25T07:54:38.628Z"
   },
   {
    "duration": 230,
    "start_time": "2021-06-25T07:55:53.164Z"
   },
   {
    "duration": 65,
    "start_time": "2021-06-25T07:57:18.782Z"
   },
   {
    "duration": 282,
    "start_time": "2021-06-25T07:57:43.634Z"
   },
   {
    "duration": 69,
    "start_time": "2021-06-25T07:57:54.972Z"
   },
   {
    "duration": 281,
    "start_time": "2021-06-25T08:03:04.390Z"
   },
   {
    "duration": 57,
    "start_time": "2021-06-25T08:03:13.871Z"
   },
   {
    "duration": 62,
    "start_time": "2021-06-25T08:03:26.661Z"
   },
   {
    "duration": 300,
    "start_time": "2021-06-25T08:03:41.159Z"
   },
   {
    "duration": 57,
    "start_time": "2021-06-25T08:03:47.533Z"
   },
   {
    "duration": 304,
    "start_time": "2021-06-25T08:05:41.566Z"
   },
   {
    "duration": 63,
    "start_time": "2021-06-25T09:54:48.797Z"
   },
   {
    "duration": 59,
    "start_time": "2021-06-25T09:56:20.102Z"
   },
   {
    "duration": 383,
    "start_time": "2021-06-25T09:56:40.783Z"
   },
   {
    "duration": 316,
    "start_time": "2021-06-25T09:56:50.787Z"
   },
   {
    "duration": 359,
    "start_time": "2021-06-25T09:57:37.747Z"
   },
   {
    "duration": 9,
    "start_time": "2021-06-25T09:58:06.575Z"
   },
   {
    "duration": 17,
    "start_time": "2021-06-25T09:58:08.073Z"
   },
   {
    "duration": 198,
    "start_time": "2021-06-25T09:58:59.414Z"
   },
   {
    "duration": 9,
    "start_time": "2021-06-25T09:59:07.815Z"
   },
   {
    "duration": 18,
    "start_time": "2021-06-25T09:59:09.762Z"
   },
   {
    "duration": 1041,
    "start_time": "2021-06-25T09:59:18.093Z"
   },
   {
    "duration": 461,
    "start_time": "2021-06-25T09:59:19.136Z"
   },
   {
    "duration": 89,
    "start_time": "2021-06-25T09:59:19.599Z"
   },
   {
    "duration": 175,
    "start_time": "2021-06-25T09:59:19.690Z"
   },
   {
    "duration": 31,
    "start_time": "2021-06-25T09:59:19.867Z"
   },
   {
    "duration": 8,
    "start_time": "2021-06-25T09:59:19.900Z"
   },
   {
    "duration": 18,
    "start_time": "2021-06-25T09:59:19.910Z"
   },
   {
    "duration": 270,
    "start_time": "2021-06-25T09:59:19.931Z"
   },
   {
    "duration": 1179,
    "start_time": "2021-06-25T09:59:19.024Z"
   },
   {
    "duration": 1175,
    "start_time": "2021-06-25T09:59:19.029Z"
   },
   {
    "duration": 1171,
    "start_time": "2021-06-25T09:59:19.034Z"
   },
   {
    "duration": 1168,
    "start_time": "2021-06-25T09:59:19.038Z"
   },
   {
    "duration": 1167,
    "start_time": "2021-06-25T09:59:19.040Z"
   },
   {
    "duration": 1165,
    "start_time": "2021-06-25T09:59:19.042Z"
   },
   {
    "duration": 1164,
    "start_time": "2021-06-25T09:59:19.044Z"
   },
   {
    "duration": 1163,
    "start_time": "2021-06-25T09:59:19.046Z"
   },
   {
    "duration": 1163,
    "start_time": "2021-06-25T09:59:19.047Z"
   },
   {
    "duration": 1161,
    "start_time": "2021-06-25T09:59:19.049Z"
   },
   {
    "duration": 1161,
    "start_time": "2021-06-25T09:59:19.050Z"
   },
   {
    "duration": 1160,
    "start_time": "2021-06-25T09:59:19.052Z"
   },
   {
    "duration": 1159,
    "start_time": "2021-06-25T09:59:19.054Z"
   },
   {
    "duration": 229,
    "start_time": "2021-06-25T09:59:55.959Z"
   },
   {
    "duration": 332,
    "start_time": "2021-06-25T10:03:32.293Z"
   },
   {
    "duration": 320,
    "start_time": "2021-06-25T10:03:46.583Z"
   },
   {
    "duration": 293,
    "start_time": "2021-06-25T10:07:28.966Z"
   },
   {
    "duration": 324,
    "start_time": "2021-06-25T10:07:50.986Z"
   },
   {
    "duration": 5262,
    "start_time": "2021-06-25T10:08:11.054Z"
   },
   {
    "duration": 97,
    "start_time": "2021-06-25T10:19:10.685Z"
   },
   {
    "duration": 220,
    "start_time": "2021-06-25T10:19:21.333Z"
   },
   {
    "duration": 8,
    "start_time": "2021-06-25T10:20:11.145Z"
   },
   {
    "duration": 16,
    "start_time": "2021-06-25T10:20:11.836Z"
   },
   {
    "duration": 1054,
    "start_time": "2021-06-25T10:20:18.373Z"
   },
   {
    "duration": 443,
    "start_time": "2021-06-25T10:20:19.429Z"
   },
   {
    "duration": 80,
    "start_time": "2021-06-25T10:20:19.874Z"
   },
   {
    "duration": 179,
    "start_time": "2021-06-25T10:20:19.956Z"
   },
   {
    "duration": 26,
    "start_time": "2021-06-25T10:20:20.137Z"
   },
   {
    "duration": 280,
    "start_time": "2021-06-25T10:20:20.165Z"
   },
   {
    "duration": 1230,
    "start_time": "2021-06-25T10:20:19.217Z"
   },
   {
    "duration": 1222,
    "start_time": "2021-06-25T10:20:19.226Z"
   },
   {
    "duration": 1219,
    "start_time": "2021-06-25T10:20:19.230Z"
   },
   {
    "duration": 1204,
    "start_time": "2021-06-25T10:20:19.246Z"
   },
   {
    "duration": 1202,
    "start_time": "2021-06-25T10:20:19.249Z"
   },
   {
    "duration": 1201,
    "start_time": "2021-06-25T10:20:19.251Z"
   },
   {
    "duration": 1199,
    "start_time": "2021-06-25T10:20:19.254Z"
   },
   {
    "duration": 1197,
    "start_time": "2021-06-25T10:20:19.256Z"
   },
   {
    "duration": 1196,
    "start_time": "2021-06-25T10:20:19.258Z"
   },
   {
    "duration": 1195,
    "start_time": "2021-06-25T10:20:19.260Z"
   },
   {
    "duration": 1195,
    "start_time": "2021-06-25T10:20:19.262Z"
   },
   {
    "duration": 1194,
    "start_time": "2021-06-25T10:20:19.264Z"
   },
   {
    "duration": 1193,
    "start_time": "2021-06-25T10:20:19.266Z"
   },
   {
    "duration": 1192,
    "start_time": "2021-06-25T10:20:19.268Z"
   },
   {
    "duration": 1192,
    "start_time": "2021-06-25T10:20:19.269Z"
   },
   {
    "duration": 10,
    "start_time": "2021-06-25T10:20:38.762Z"
   },
   {
    "duration": 15,
    "start_time": "2021-06-25T10:20:39.646Z"
   },
   {
    "duration": 211,
    "start_time": "2021-06-25T10:20:42.289Z"
   },
   {
    "duration": 11555,
    "start_time": "2021-06-25T10:20:46.520Z"
   },
   {
    "duration": 8,
    "start_time": "2021-06-25T10:21:29.723Z"
   },
   {
    "duration": 16,
    "start_time": "2021-06-25T10:21:30.413Z"
   },
   {
    "duration": 989,
    "start_time": "2021-06-25T10:21:35.740Z"
   },
   {
    "duration": 440,
    "start_time": "2021-06-25T10:21:36.731Z"
   },
   {
    "duration": 83,
    "start_time": "2021-06-25T10:21:37.174Z"
   },
   {
    "duration": 179,
    "start_time": "2021-06-25T10:21:37.259Z"
   },
   {
    "duration": 26,
    "start_time": "2021-06-25T10:21:37.440Z"
   },
   {
    "duration": 24,
    "start_time": "2021-06-25T10:21:37.467Z"
   },
   {
    "duration": 15,
    "start_time": "2021-06-25T10:21:37.493Z"
   },
   {
    "duration": 226,
    "start_time": "2021-06-25T10:21:37.510Z"
   },
   {
    "duration": 4823,
    "start_time": "2021-06-25T10:21:37.737Z"
   },
   {
    "duration": 1149,
    "start_time": "2021-06-25T10:21:41.414Z"
   },
   {
    "duration": 1146,
    "start_time": "2021-06-25T10:21:41.418Z"
   },
   {
    "duration": 1146,
    "start_time": "2021-06-25T10:21:41.420Z"
   },
   {
    "duration": 1145,
    "start_time": "2021-06-25T10:21:41.422Z"
   },
   {
    "duration": 1144,
    "start_time": "2021-06-25T10:21:41.425Z"
   },
   {
    "duration": 1143,
    "start_time": "2021-06-25T10:21:41.427Z"
   },
   {
    "duration": 1138,
    "start_time": "2021-06-25T10:21:41.434Z"
   },
   {
    "duration": 1137,
    "start_time": "2021-06-25T10:21:41.436Z"
   },
   {
    "duration": 1136,
    "start_time": "2021-06-25T10:21:41.438Z"
   },
   {
    "duration": 1137,
    "start_time": "2021-06-25T10:21:41.439Z"
   },
   {
    "duration": 1137,
    "start_time": "2021-06-25T10:21:41.440Z"
   },
   {
    "duration": 1137,
    "start_time": "2021-06-25T10:21:41.442Z"
   },
   {
    "duration": 482,
    "start_time": "2021-06-25T11:08:51.982Z"
   },
   {
    "duration": 1078,
    "start_time": "2021-06-27T10:56:40.404Z"
   },
   {
    "duration": 452,
    "start_time": "2021-06-27T10:56:41.484Z"
   },
   {
    "duration": 81,
    "start_time": "2021-06-27T10:56:41.938Z"
   },
   {
    "duration": 200,
    "start_time": "2021-06-27T10:56:42.021Z"
   },
   {
    "duration": 25,
    "start_time": "2021-06-27T10:56:42.223Z"
   },
   {
    "duration": 11,
    "start_time": "2021-06-27T10:56:42.250Z"
   },
   {
    "duration": 36,
    "start_time": "2021-06-27T10:56:42.262Z"
   },
   {
    "duration": 491,
    "start_time": "2021-06-27T10:56:42.301Z"
   },
   {
    "duration": 63,
    "start_time": "2021-06-27T10:56:42.794Z"
   },
   {
    "duration": 791,
    "start_time": "2021-06-27T10:56:42.067Z"
   },
   {
    "duration": 786,
    "start_time": "2021-06-27T10:56:42.073Z"
   },
   {
    "duration": 782,
    "start_time": "2021-06-27T10:56:42.078Z"
   },
   {
    "duration": 741,
    "start_time": "2021-06-27T10:56:42.120Z"
   },
   {
    "duration": 739,
    "start_time": "2021-06-27T10:56:42.123Z"
   },
   {
    "duration": 737,
    "start_time": "2021-06-27T10:56:42.126Z"
   },
   {
    "duration": 735,
    "start_time": "2021-06-27T10:56:42.129Z"
   },
   {
    "duration": 733,
    "start_time": "2021-06-27T10:56:42.132Z"
   },
   {
    "duration": 731,
    "start_time": "2021-06-27T10:56:42.135Z"
   },
   {
    "duration": 729,
    "start_time": "2021-06-27T10:56:42.138Z"
   },
   {
    "duration": 727,
    "start_time": "2021-06-27T10:56:42.140Z"
   },
   {
    "duration": 725,
    "start_time": "2021-06-27T10:56:42.144Z"
   },
   {
    "duration": 677,
    "start_time": "2021-06-27T11:09:14.846Z"
   },
   {
    "duration": 61,
    "start_time": "2021-06-27T11:10:37.037Z"
   },
   {
    "duration": 191,
    "start_time": "2021-06-27T11:11:55.172Z"
   },
   {
    "duration": 243,
    "start_time": "2021-06-27T11:14:31.449Z"
   },
   {
    "duration": 57,
    "start_time": "2021-06-27T11:16:03.589Z"
   },
   {
    "duration": 241,
    "start_time": "2021-06-27T11:16:10.748Z"
   },
   {
    "duration": 238,
    "start_time": "2021-06-27T11:18:12.958Z"
   },
   {
    "duration": 242,
    "start_time": "2021-06-27T11:19:05.446Z"
   },
   {
    "duration": 237,
    "start_time": "2021-06-27T11:20:42.410Z"
   },
   {
    "duration": 10,
    "start_time": "2021-06-27T11:21:20.000Z"
   },
   {
    "duration": 20,
    "start_time": "2021-06-27T11:21:21.225Z"
   },
   {
    "duration": 989,
    "start_time": "2021-06-27T11:21:37.245Z"
   },
   {
    "duration": 466,
    "start_time": "2021-06-27T11:21:38.236Z"
   },
   {
    "duration": 96,
    "start_time": "2021-06-27T11:21:38.706Z"
   },
   {
    "duration": 182,
    "start_time": "2021-06-27T11:21:38.804Z"
   },
   {
    "duration": 26,
    "start_time": "2021-06-27T11:21:38.988Z"
   },
   {
    "duration": 9,
    "start_time": "2021-06-27T11:21:39.016Z"
   },
   {
    "duration": 15,
    "start_time": "2021-06-27T11:21:39.028Z"
   },
   {
    "duration": 494,
    "start_time": "2021-06-27T11:21:39.045Z"
   },
   {
    "duration": 254,
    "start_time": "2021-06-27T11:21:39.541Z"
   },
   {
    "duration": 266,
    "start_time": "2021-06-27T11:21:39.797Z"
   },
   {
    "duration": -29,
    "start_time": "2021-06-27T11:21:40.094Z"
   },
   {
    "duration": -32,
    "start_time": "2021-06-27T11:21:40.099Z"
   },
   {
    "duration": -34,
    "start_time": "2021-06-27T11:21:40.102Z"
   },
   {
    "duration": -35,
    "start_time": "2021-06-27T11:21:40.104Z"
   },
   {
    "duration": -36,
    "start_time": "2021-06-27T11:21:40.106Z"
   },
   {
    "duration": -37,
    "start_time": "2021-06-27T11:21:40.108Z"
   },
   {
    "duration": -38,
    "start_time": "2021-06-27T11:21:40.110Z"
   },
   {
    "duration": -40,
    "start_time": "2021-06-27T11:21:40.113Z"
   },
   {
    "duration": -40,
    "start_time": "2021-06-27T11:21:40.115Z"
   },
   {
    "duration": -41,
    "start_time": "2021-06-27T11:21:40.117Z"
   },
   {
    "duration": -43,
    "start_time": "2021-06-27T11:21:40.120Z"
   },
   {
    "duration": 11,
    "start_time": "2021-06-27T11:23:03.714Z"
   },
   {
    "duration": 20,
    "start_time": "2021-06-27T11:23:05.483Z"
   },
   {
    "duration": 1083,
    "start_time": "2021-06-27T11:23:18.655Z"
   },
   {
    "duration": 431,
    "start_time": "2021-06-27T11:23:19.740Z"
   },
   {
    "duration": 124,
    "start_time": "2021-06-27T11:23:20.173Z"
   },
   {
    "duration": 173,
    "start_time": "2021-06-27T11:23:20.299Z"
   },
   {
    "duration": 29,
    "start_time": "2021-06-27T11:23:20.473Z"
   },
   {
    "duration": 9,
    "start_time": "2021-06-27T11:23:20.504Z"
   },
   {
    "duration": 13,
    "start_time": "2021-06-27T11:23:20.515Z"
   },
   {
    "duration": 498,
    "start_time": "2021-06-27T11:23:20.530Z"
   },
   {
    "duration": 251,
    "start_time": "2021-06-27T11:23:21.030Z"
   },
   {
    "duration": 252,
    "start_time": "2021-06-27T11:23:21.285Z"
   },
   {
    "duration": -14,
    "start_time": "2021-06-27T11:23:21.552Z"
   },
   {
    "duration": -19,
    "start_time": "2021-06-27T11:23:21.558Z"
   },
   {
    "duration": -24,
    "start_time": "2021-06-27T11:23:21.564Z"
   },
   {
    "duration": -29,
    "start_time": "2021-06-27T11:23:21.570Z"
   },
   {
    "duration": -45,
    "start_time": "2021-06-27T11:23:21.587Z"
   },
   {
    "duration": -49,
    "start_time": "2021-06-27T11:23:21.592Z"
   },
   {
    "duration": -51,
    "start_time": "2021-06-27T11:23:21.595Z"
   },
   {
    "duration": -53,
    "start_time": "2021-06-27T11:23:21.598Z"
   },
   {
    "duration": -56,
    "start_time": "2021-06-27T11:23:21.601Z"
   },
   {
    "duration": -58,
    "start_time": "2021-06-27T11:23:21.604Z"
   },
   {
    "duration": -59,
    "start_time": "2021-06-27T11:23:21.606Z"
   },
   {
    "duration": 258,
    "start_time": "2021-06-27T11:26:33.571Z"
   },
   {
    "duration": 215,
    "start_time": "2021-06-27T11:41:30.386Z"
   },
   {
    "duration": 76,
    "start_time": "2021-06-27T11:42:21.983Z"
   },
   {
    "duration": 59,
    "start_time": "2021-06-27T11:43:23.947Z"
   },
   {
    "duration": 60,
    "start_time": "2021-06-27T11:44:49.763Z"
   },
   {
    "duration": 271,
    "start_time": "2021-06-27T11:46:18.756Z"
   },
   {
    "duration": 253,
    "start_time": "2021-06-27T11:46:59.810Z"
   },
   {
    "duration": 244,
    "start_time": "2021-06-27T11:49:11.249Z"
   },
   {
    "duration": 245,
    "start_time": "2021-06-27T11:49:47.254Z"
   },
   {
    "duration": 262,
    "start_time": "2021-06-27T11:51:22.911Z"
   },
   {
    "duration": 246,
    "start_time": "2021-06-27T12:06:57.570Z"
   },
   {
    "duration": 259,
    "start_time": "2021-06-27T12:08:52.980Z"
   },
   {
    "duration": 245,
    "start_time": "2021-06-27T12:10:55.309Z"
   },
   {
    "duration": 258,
    "start_time": "2021-06-27T12:12:05.533Z"
   },
   {
    "duration": 296,
    "start_time": "2021-06-27T12:12:40.724Z"
   },
   {
    "duration": 261,
    "start_time": "2021-06-27T12:13:13.296Z"
   },
   {
    "duration": 480,
    "start_time": "2021-06-27T12:15:12.717Z"
   },
   {
    "duration": 508,
    "start_time": "2021-06-27T12:15:44.584Z"
   },
   {
    "duration": 64,
    "start_time": "2021-06-27T12:16:10.941Z"
   },
   {
    "duration": 67,
    "start_time": "2021-06-27T12:16:16.956Z"
   },
   {
    "duration": 64,
    "start_time": "2021-06-27T12:16:25.543Z"
   },
   {
    "duration": 482,
    "start_time": "2021-06-27T12:17:03.858Z"
   },
   {
    "duration": 498,
    "start_time": "2021-06-27T12:17:10.065Z"
   },
   {
    "duration": 495,
    "start_time": "2021-06-27T12:17:15.492Z"
   },
   {
    "duration": 671,
    "start_time": "2021-06-27T12:17:36.329Z"
   },
   {
    "duration": 694,
    "start_time": "2021-06-27T12:17:43.994Z"
   },
   {
    "duration": 60,
    "start_time": "2021-06-27T12:18:14.426Z"
   },
   {
    "duration": 732,
    "start_time": "2021-06-27T12:18:44.656Z"
   },
   {
    "duration": 1071,
    "start_time": "2021-06-27T12:19:02.667Z"
   },
   {
    "duration": 984,
    "start_time": "2021-06-27T12:42:59.501Z"
   },
   {
    "duration": 589,
    "start_time": "2021-06-27T12:43:34.271Z"
   },
   {
    "duration": 670,
    "start_time": "2021-06-27T12:43:55.638Z"
   },
   {
    "duration": 681,
    "start_time": "2021-06-27T12:44:47.766Z"
   },
   {
    "duration": 594,
    "start_time": "2021-06-27T12:45:01.648Z"
   },
   {
    "duration": 66,
    "start_time": "2021-06-27T12:45:25.217Z"
   },
   {
    "duration": 567,
    "start_time": "2021-06-27T12:47:57.977Z"
   },
   {
    "duration": 691,
    "start_time": "2021-06-27T12:49:19.515Z"
   },
   {
    "duration": 625,
    "start_time": "2021-06-27T12:49:56.326Z"
   },
   {
    "duration": 600,
    "start_time": "2021-06-27T12:51:24.318Z"
   },
   {
    "duration": 67,
    "start_time": "2021-06-27T12:53:40.486Z"
   },
   {
    "duration": 60,
    "start_time": "2021-06-27T12:53:45.234Z"
   },
   {
    "duration": 80,
    "start_time": "2021-06-27T12:53:55.880Z"
   },
   {
    "duration": 987,
    "start_time": "2021-06-27T12:55:16.539Z"
   },
   {
    "duration": 455,
    "start_time": "2021-06-27T12:55:17.528Z"
   },
   {
    "duration": 79,
    "start_time": "2021-06-27T12:55:17.984Z"
   },
   {
    "duration": 179,
    "start_time": "2021-06-27T12:55:18.065Z"
   },
   {
    "duration": 39,
    "start_time": "2021-06-27T12:55:18.246Z"
   },
   {
    "duration": 10,
    "start_time": "2021-06-27T12:55:18.287Z"
   },
   {
    "duration": 13,
    "start_time": "2021-06-27T12:55:18.299Z"
   },
   {
    "duration": 475,
    "start_time": "2021-06-27T12:55:18.315Z"
   },
   {
    "duration": 698,
    "start_time": "2021-06-27T12:55:18.792Z"
   },
   {
    "duration": 504,
    "start_time": "2021-06-27T12:55:19.492Z"
   },
   {
    "duration": -16,
    "start_time": "2021-06-27T12:55:20.014Z"
   },
   {
    "duration": -19,
    "start_time": "2021-06-27T12:55:20.018Z"
   },
   {
    "duration": -21,
    "start_time": "2021-06-27T12:55:20.020Z"
   },
   {
    "duration": -24,
    "start_time": "2021-06-27T12:55:20.024Z"
   },
   {
    "duration": -26,
    "start_time": "2021-06-27T12:55:20.027Z"
   },
   {
    "duration": -56,
    "start_time": "2021-06-27T12:55:20.058Z"
   },
   {
    "duration": -60,
    "start_time": "2021-06-27T12:55:20.063Z"
   },
   {
    "duration": -61,
    "start_time": "2021-06-27T12:55:20.065Z"
   },
   {
    "duration": -62,
    "start_time": "2021-06-27T12:55:20.067Z"
   },
   {
    "duration": -63,
    "start_time": "2021-06-27T12:55:20.069Z"
   },
   {
    "duration": -66,
    "start_time": "2021-06-27T12:55:20.073Z"
   },
   {
    "duration": 558,
    "start_time": "2021-06-27T12:57:03.939Z"
   },
   {
    "duration": 976,
    "start_time": "2021-06-27T12:57:51.074Z"
   },
   {
    "duration": 559,
    "start_time": "2021-06-27T12:58:31.891Z"
   },
   {
    "duration": 241,
    "start_time": "2021-06-27T12:59:00.196Z"
   },
   {
    "duration": 239,
    "start_time": "2021-06-27T12:59:23.515Z"
   },
   {
    "duration": 675,
    "start_time": "2021-06-27T13:00:01.158Z"
   },
   {
    "duration": 241,
    "start_time": "2021-06-27T13:00:37.887Z"
   },
   {
    "duration": 241,
    "start_time": "2021-06-27T13:07:55.486Z"
   },
   {
    "duration": 242,
    "start_time": "2021-06-27T13:08:26.598Z"
   },
   {
    "duration": 244,
    "start_time": "2021-06-27T13:09:02.859Z"
   },
   {
    "duration": 242,
    "start_time": "2021-06-27T13:09:15.671Z"
   },
   {
    "duration": 257,
    "start_time": "2021-06-27T13:09:27.162Z"
   },
   {
    "duration": 240,
    "start_time": "2021-06-27T13:09:53.379Z"
   },
   {
    "duration": 414,
    "start_time": "2021-06-27T13:10:14.634Z"
   },
   {
    "duration": 258,
    "start_time": "2021-06-27T13:10:23.003Z"
   },
   {
    "duration": 249,
    "start_time": "2021-06-27T13:10:34.763Z"
   },
   {
    "duration": 251,
    "start_time": "2021-06-27T13:15:05.860Z"
   },
   {
    "duration": 249,
    "start_time": "2021-06-27T13:57:24.346Z"
   },
   {
    "duration": 6,
    "start_time": "2021-06-27T13:57:58.308Z"
   },
   {
    "duration": 7,
    "start_time": "2021-06-27T14:19:05.977Z"
   },
   {
    "duration": 3,
    "start_time": "2021-06-27T14:20:20.275Z"
   },
   {
    "duration": 4,
    "start_time": "2021-06-27T14:20:32.195Z"
   },
   {
    "duration": 6,
    "start_time": "2021-06-27T14:24:23.911Z"
   },
   {
    "duration": 8,
    "start_time": "2021-06-27T14:25:09.192Z"
   },
   {
    "duration": 11,
    "start_time": "2021-06-27T14:25:20.151Z"
   },
   {
    "duration": 12,
    "start_time": "2021-06-27T14:26:05.823Z"
   },
   {
    "duration": 23,
    "start_time": "2021-06-27T14:26:21.803Z"
   },
   {
    "duration": 327,
    "start_time": "2021-06-27T14:32:14.449Z"
   },
   {
    "duration": 24,
    "start_time": "2021-06-27T14:32:32.123Z"
   },
   {
    "duration": 25,
    "start_time": "2021-06-27T14:34:14.381Z"
   },
   {
    "duration": 13,
    "start_time": "2021-06-27T14:34:21.157Z"
   },
   {
    "duration": 24,
    "start_time": "2021-06-27T14:35:47.999Z"
   },
   {
    "duration": 12,
    "start_time": "2021-06-27T14:37:42.672Z"
   },
   {
    "duration": 25,
    "start_time": "2021-06-27T14:38:11.736Z"
   },
   {
    "duration": 13,
    "start_time": "2021-06-27T14:41:09.284Z"
   },
   {
    "duration": 14,
    "start_time": "2021-06-27T14:42:35.311Z"
   },
   {
    "duration": 14,
    "start_time": "2021-06-27T14:44:29.940Z"
   },
   {
    "duration": 308,
    "start_time": "2021-06-27T14:45:24.468Z"
   },
   {
    "duration": 15,
    "start_time": "2021-06-27T14:45:42.972Z"
   },
   {
    "duration": 18,
    "start_time": "2021-06-27T14:46:34.252Z"
   },
   {
    "duration": 18,
    "start_time": "2021-06-27T14:47:17.736Z"
   },
   {
    "duration": 18,
    "start_time": "2021-06-27T14:47:29.216Z"
   },
   {
    "duration": 12,
    "start_time": "2021-06-27T14:51:25.452Z"
   },
   {
    "duration": 20,
    "start_time": "2021-06-27T14:51:26.098Z"
   },
   {
    "duration": 1082,
    "start_time": "2021-06-27T14:51:39.987Z"
   },
   {
    "duration": 426,
    "start_time": "2021-06-27T14:51:41.071Z"
   },
   {
    "duration": 95,
    "start_time": "2021-06-27T14:51:41.499Z"
   },
   {
    "duration": 182,
    "start_time": "2021-06-27T14:51:41.596Z"
   },
   {
    "duration": 28,
    "start_time": "2021-06-27T14:51:41.780Z"
   },
   {
    "duration": 9,
    "start_time": "2021-06-27T14:51:41.809Z"
   },
   {
    "duration": 13,
    "start_time": "2021-06-27T14:51:41.820Z"
   },
   {
    "duration": 510,
    "start_time": "2021-06-27T14:51:41.835Z"
   },
   {
    "duration": 263,
    "start_time": "2021-06-27T14:51:42.347Z"
   },
   {
    "duration": 6,
    "start_time": "2021-06-27T14:51:42.611Z"
   },
   {
    "duration": 17,
    "start_time": "2021-06-27T14:51:42.619Z"
   },
   {
    "duration": 2214,
    "start_time": "2021-06-27T14:51:42.637Z"
   },
   {
    "duration": -49,
    "start_time": "2021-06-27T14:51:44.903Z"
   },
   {
    "duration": -51,
    "start_time": "2021-06-27T14:51:44.906Z"
   },
   {
    "duration": -56,
    "start_time": "2021-06-27T14:51:44.912Z"
   },
   {
    "duration": -58,
    "start_time": "2021-06-27T14:51:44.915Z"
   },
   {
    "duration": -59,
    "start_time": "2021-06-27T14:51:44.917Z"
   },
   {
    "duration": -59,
    "start_time": "2021-06-27T14:51:44.918Z"
   },
   {
    "duration": -60,
    "start_time": "2021-06-27T14:51:44.920Z"
   },
   {
    "duration": -61,
    "start_time": "2021-06-27T14:51:44.922Z"
   },
   {
    "duration": -61,
    "start_time": "2021-06-27T14:51:44.923Z"
   },
   {
    "duration": -61,
    "start_time": "2021-06-27T14:51:44.924Z"
   },
   {
    "duration": 10,
    "start_time": "2021-06-27T14:52:10.945Z"
   },
   {
    "duration": 22,
    "start_time": "2021-06-27T14:52:12.225Z"
   },
   {
    "duration": 1095,
    "start_time": "2021-06-27T14:52:19.513Z"
   },
   {
    "duration": 431,
    "start_time": "2021-06-27T14:52:20.610Z"
   },
   {
    "duration": 83,
    "start_time": "2021-06-27T14:52:21.043Z"
   },
   {
    "duration": 181,
    "start_time": "2021-06-27T14:52:21.128Z"
   },
   {
    "duration": 26,
    "start_time": "2021-06-27T14:52:21.311Z"
   },
   {
    "duration": 10,
    "start_time": "2021-06-27T14:52:21.339Z"
   },
   {
    "duration": 40,
    "start_time": "2021-06-27T14:52:21.351Z"
   },
   {
    "duration": 499,
    "start_time": "2021-06-27T14:52:21.393Z"
   },
   {
    "duration": 258,
    "start_time": "2021-06-27T14:52:21.894Z"
   },
   {
    "duration": 6,
    "start_time": "2021-06-27T14:52:22.154Z"
   },
   {
    "duration": 32,
    "start_time": "2021-06-27T14:52:22.162Z"
   },
   {
    "duration": 531,
    "start_time": "2021-06-27T14:52:22.196Z"
   },
   {
    "duration": -51,
    "start_time": "2021-06-27T14:52:22.780Z"
   },
   {
    "duration": -52,
    "start_time": "2021-06-27T14:52:22.782Z"
   },
   {
    "duration": -53,
    "start_time": "2021-06-27T14:52:22.784Z"
   },
   {
    "duration": -54,
    "start_time": "2021-06-27T14:52:22.786Z"
   },
   {
    "duration": -54,
    "start_time": "2021-06-27T14:52:22.788Z"
   },
   {
    "duration": -55,
    "start_time": "2021-06-27T14:52:22.790Z"
   },
   {
    "duration": -56,
    "start_time": "2021-06-27T14:52:22.792Z"
   },
   {
    "duration": -57,
    "start_time": "2021-06-27T14:52:22.794Z"
   },
   {
    "duration": -59,
    "start_time": "2021-06-27T14:52:22.797Z"
   },
   {
    "duration": -59,
    "start_time": "2021-06-27T14:52:22.798Z"
   },
   {
    "duration": 19,
    "start_time": "2021-06-27T14:55:43.564Z"
   },
   {
    "duration": 19,
    "start_time": "2021-06-27T14:57:22.049Z"
   },
   {
    "duration": 311,
    "start_time": "2021-06-27T15:01:56.520Z"
   },
   {
    "duration": 309,
    "start_time": "2021-06-27T15:02:32.362Z"
   },
   {
    "duration": 193,
    "start_time": "2021-06-27T15:09:52.241Z"
   },
   {
    "duration": 16,
    "start_time": "2021-06-27T15:10:08.441Z"
   },
   {
    "duration": 703,
    "start_time": "2021-06-27T15:21:05.247Z"
   },
   {
    "duration": 186,
    "start_time": "2021-06-27T15:22:15.853Z"
   },
   {
    "duration": 16,
    "start_time": "2021-06-27T15:22:25.042Z"
   },
   {
    "duration": 18,
    "start_time": "2021-06-27T15:22:35.361Z"
   },
   {
    "duration": 190,
    "start_time": "2021-06-27T15:23:36.490Z"
   },
   {
    "duration": 236,
    "start_time": "2021-06-27T15:23:50.714Z"
   },
   {
    "duration": 18,
    "start_time": "2021-06-27T15:24:03.262Z"
   },
   {
    "duration": 22,
    "start_time": "2021-06-27T15:24:36.306Z"
   },
   {
    "duration": 21,
    "start_time": "2021-06-27T15:25:06.758Z"
   },
   {
    "duration": 23,
    "start_time": "2021-06-27T15:25:23.750Z"
   },
   {
    "duration": 40,
    "start_time": "2021-06-27T15:26:01.251Z"
   },
   {
    "duration": 191,
    "start_time": "2021-06-27T15:28:16.563Z"
   },
   {
    "duration": 30,
    "start_time": "2021-06-27T15:28:24.970Z"
   },
   {
    "duration": 16,
    "start_time": "2021-06-27T15:28:44.957Z"
   },
   {
    "duration": 16,
    "start_time": "2021-06-27T15:29:53.070Z"
   },
   {
    "duration": 5608,
    "start_time": "2021-06-27T15:35:24.322Z"
   },
   {
    "duration": 5154,
    "start_time": "2021-06-27T15:35:30.116Z"
   },
   {
    "duration": 16,
    "start_time": "2021-06-27T15:35:42.678Z"
   },
   {
    "duration": 23,
    "start_time": "2021-06-27T15:35:53.405Z"
   },
   {
    "duration": 15,
    "start_time": "2021-06-27T15:36:13.334Z"
   },
   {
    "duration": 23,
    "start_time": "2021-06-27T15:36:44.662Z"
   },
   {
    "duration": 183,
    "start_time": "2021-06-27T15:38:08.402Z"
   },
   {
    "duration": 23,
    "start_time": "2021-06-27T15:40:50.973Z"
   },
   {
    "duration": 36,
    "start_time": "2021-06-27T15:41:30.949Z"
   },
   {
    "duration": 40,
    "start_time": "2021-06-27T15:42:32.310Z"
   },
   {
    "duration": 18,
    "start_time": "2021-06-27T15:43:37.834Z"
   },
   {
    "duration": 5,
    "start_time": "2021-06-27T15:43:43.881Z"
   },
   {
    "duration": 197,
    "start_time": "2021-06-27T15:43:52.541Z"
   },
   {
    "duration": 60,
    "start_time": "2021-06-27T15:48:13.693Z"
   },
   {
    "duration": 68,
    "start_time": "2021-06-27T15:48:20.741Z"
   },
   {
    "duration": 58,
    "start_time": "2021-06-27T15:48:45.874Z"
   },
   {
    "duration": 66,
    "start_time": "2021-06-27T15:51:31.673Z"
   },
   {
    "duration": 57,
    "start_time": "2021-06-27T15:51:41.409Z"
   },
   {
    "duration": 65,
    "start_time": "2021-06-27T15:53:40.070Z"
   },
   {
    "duration": 62,
    "start_time": "2021-06-27T15:56:35.829Z"
   },
   {
    "duration": 81,
    "start_time": "2021-06-27T15:56:46.449Z"
   },
   {
    "duration": 223,
    "start_time": "2021-06-27T15:57:11.642Z"
   },
   {
    "duration": 61,
    "start_time": "2021-06-27T15:58:13.690Z"
   },
   {
    "duration": 62,
    "start_time": "2021-06-27T15:58:33.634Z"
   },
   {
    "duration": 55,
    "start_time": "2021-06-27T16:00:51.662Z"
   },
   {
    "duration": 60,
    "start_time": "2021-06-27T16:01:43.210Z"
   },
   {
    "duration": 61,
    "start_time": "2021-06-27T16:02:12.776Z"
   },
   {
    "duration": 66,
    "start_time": "2021-06-27T16:02:25.898Z"
   },
   {
    "duration": 57,
    "start_time": "2021-06-27T16:02:33.345Z"
   },
   {
    "duration": 65,
    "start_time": "2021-06-27T16:02:40.546Z"
   },
   {
    "duration": 24,
    "start_time": "2021-06-27T16:02:51.713Z"
   },
   {
    "duration": 26,
    "start_time": "2021-06-27T16:03:06.477Z"
   },
   {
    "duration": 25,
    "start_time": "2021-06-27T16:03:48.386Z"
   },
   {
    "duration": 18,
    "start_time": "2021-06-27T16:04:06.194Z"
   },
   {
    "duration": 5,
    "start_time": "2021-06-27T16:04:25.373Z"
   },
   {
    "duration": 22,
    "start_time": "2021-06-27T16:05:50.582Z"
   },
   {
    "duration": 21,
    "start_time": "2021-06-27T16:06:17.381Z"
   },
   {
    "duration": 4287,
    "start_time": "2021-06-27T16:06:41.222Z"
   },
   {
    "duration": 55,
    "start_time": "2021-06-27T16:08:31.215Z"
   },
   {
    "duration": 179,
    "start_time": "2021-06-27T16:09:13.605Z"
   },
   {
    "duration": 181,
    "start_time": "2021-06-27T16:09:16.381Z"
   },
   {
    "duration": 1406,
    "start_time": "2021-06-27T16:09:56.746Z"
   },
   {
    "duration": 1344,
    "start_time": "2021-06-27T16:10:01.751Z"
   },
   {
    "duration": 5,
    "start_time": "2021-06-27T16:13:12.758Z"
   },
   {
    "duration": 28,
    "start_time": "2021-06-27T16:13:30.775Z"
   },
   {
    "duration": 32,
    "start_time": "2021-06-27T16:14:03.362Z"
   },
   {
    "duration": 2161,
    "start_time": "2021-06-27T16:17:16.738Z"
   },
   {
    "duration": 2096,
    "start_time": "2021-06-27T16:19:07.706Z"
   },
   {
    "duration": 2344,
    "start_time": "2021-06-27T16:19:22.365Z"
   },
   {
    "duration": 2150,
    "start_time": "2021-06-27T16:19:46.253Z"
   },
   {
    "duration": 2426,
    "start_time": "2021-06-27T16:21:05.297Z"
   },
   {
    "duration": 2060,
    "start_time": "2021-06-27T16:21:39.295Z"
   },
   {
    "duration": 2220,
    "start_time": "2021-06-27T16:21:54.943Z"
   },
   {
    "duration": 2303,
    "start_time": "2021-06-27T16:22:04.543Z"
   },
   {
    "duration": 2307,
    "start_time": "2021-06-27T16:22:28.090Z"
   },
   {
    "duration": 2279,
    "start_time": "2021-06-27T16:22:36.334Z"
   },
   {
    "duration": 2325,
    "start_time": "2021-06-27T16:23:34.690Z"
   },
   {
    "duration": 2218,
    "start_time": "2021-06-27T16:23:49.434Z"
   },
   {
    "duration": 1603,
    "start_time": "2021-06-27T16:29:26.737Z"
   },
   {
    "duration": 4126,
    "start_time": "2021-06-27T16:29:48.818Z"
   },
   {
    "duration": 3949,
    "start_time": "2021-06-27T16:30:18.499Z"
   },
   {
    "duration": 4198,
    "start_time": "2021-06-27T16:31:22.831Z"
   },
   {
    "duration": 58,
    "start_time": "2021-06-27T16:35:46.659Z"
   },
   {
    "duration": 63,
    "start_time": "2021-06-27T16:36:02.811Z"
   },
   {
    "duration": 58,
    "start_time": "2021-06-27T16:37:25.791Z"
   },
   {
    "duration": 177,
    "start_time": "2021-06-27T16:37:31.166Z"
   },
   {
    "duration": 1484,
    "start_time": "2021-06-27T16:37:48.229Z"
   },
   {
    "duration": 751,
    "start_time": "2021-06-27T16:38:07.558Z"
   },
   {
    "duration": 71,
    "start_time": "2021-06-27T16:38:55.582Z"
   },
   {
    "duration": 59,
    "start_time": "2021-06-27T16:39:40.207Z"
   },
   {
    "duration": 68,
    "start_time": "2021-06-27T16:39:52.990Z"
   },
   {
    "duration": 184,
    "start_time": "2021-06-27T16:40:15.762Z"
   },
   {
    "duration": 1902,
    "start_time": "2021-06-27T16:40:41.658Z"
   },
   {
    "duration": 2189,
    "start_time": "2021-06-27T16:40:52.090Z"
   },
   {
    "duration": 1956,
    "start_time": "2021-06-27T16:41:54.490Z"
   },
   {
    "duration": 58,
    "start_time": "2021-06-27T16:55:04.279Z"
   },
   {
    "duration": 1102,
    "start_time": "2021-06-27T16:55:37.051Z"
   },
   {
    "duration": 1246,
    "start_time": "2021-06-27T16:55:38.155Z"
   },
   {
    "duration": 106,
    "start_time": "2021-06-27T16:55:39.404Z"
   },
   {
    "duration": 193,
    "start_time": "2021-06-27T16:55:39.512Z"
   },
   {
    "duration": 25,
    "start_time": "2021-06-27T16:55:39.707Z"
   },
   {
    "duration": 10,
    "start_time": "2021-06-27T16:55:39.734Z"
   },
   {
    "duration": 40,
    "start_time": "2021-06-27T16:55:39.746Z"
   },
   {
    "duration": 515,
    "start_time": "2021-06-27T16:55:39.790Z"
   },
   {
    "duration": 266,
    "start_time": "2021-06-27T16:55:40.307Z"
   },
   {
    "duration": 17,
    "start_time": "2021-06-27T16:55:40.574Z"
   },
   {
    "duration": 28,
    "start_time": "2021-06-27T16:55:40.593Z"
   },
   {
    "duration": 23,
    "start_time": "2021-06-27T16:55:40.622Z"
   },
   {
    "duration": 38,
    "start_time": "2021-06-27T16:55:40.647Z"
   },
   {
    "duration": 8,
    "start_time": "2021-06-27T16:55:40.688Z"
   },
   {
    "duration": 23,
    "start_time": "2021-06-27T16:55:40.699Z"
   },
   {
    "duration": 19,
    "start_time": "2021-06-27T16:55:40.724Z"
   },
   {
    "duration": 88,
    "start_time": "2021-06-27T16:55:40.744Z"
   },
   {
    "duration": 1924,
    "start_time": "2021-06-27T16:55:40.833Z"
   },
   {
    "duration": 1982,
    "start_time": "2021-06-27T16:55:42.759Z"
   },
   {
    "duration": 5,
    "start_time": "2021-06-27T16:55:44.743Z"
   },
   {
    "duration": 17,
    "start_time": "2021-06-27T16:55:44.750Z"
   },
   {
    "duration": 1127,
    "start_time": "2021-06-27T16:56:22.296Z"
   },
   {
    "duration": 493,
    "start_time": "2021-06-27T16:56:23.425Z"
   },
   {
    "duration": 106,
    "start_time": "2021-06-27T16:56:23.920Z"
   },
   {
    "duration": 198,
    "start_time": "2021-06-27T16:56:24.028Z"
   },
   {
    "duration": 28,
    "start_time": "2021-06-27T16:56:24.228Z"
   },
   {
    "duration": 27,
    "start_time": "2021-06-27T16:56:24.258Z"
   },
   {
    "duration": 21,
    "start_time": "2021-06-27T16:56:24.287Z"
   },
   {
    "duration": 521,
    "start_time": "2021-06-27T16:56:24.311Z"
   },
   {
    "duration": 271,
    "start_time": "2021-06-27T16:56:24.834Z"
   },
   {
    "duration": 7,
    "start_time": "2021-06-27T16:56:25.106Z"
   },
   {
    "duration": 22,
    "start_time": "2021-06-27T16:56:25.114Z"
   },
   {
    "duration": 23,
    "start_time": "2021-06-27T16:56:25.138Z"
   },
   {
    "duration": 41,
    "start_time": "2021-06-27T16:56:25.162Z"
   },
   {
    "duration": 7,
    "start_time": "2021-06-27T16:56:25.205Z"
   },
   {
    "duration": 22,
    "start_time": "2021-06-27T16:56:25.213Z"
   },
   {
    "duration": 50,
    "start_time": "2021-06-27T16:56:25.237Z"
   },
   {
    "duration": 58,
    "start_time": "2021-06-27T16:56:25.288Z"
   },
   {
    "duration": 2030,
    "start_time": "2021-06-27T16:56:25.348Z"
   },
   {
    "duration": 1947,
    "start_time": "2021-06-27T16:56:27.384Z"
   },
   {
    "duration": 5,
    "start_time": "2021-06-27T16:56:29.333Z"
   },
   {
    "duration": 18,
    "start_time": "2021-06-27T16:56:29.340Z"
   },
   {
    "duration": 347,
    "start_time": "2021-06-28T11:18:57.771Z"
   },
   {
    "duration": 273,
    "start_time": "2021-06-28T11:18:59.741Z"
   },
   {
    "duration": 1847,
    "start_time": "2021-06-28T11:18:58.171Z"
   },
   {
    "duration": 1842,
    "start_time": "2021-06-28T11:18:58.178Z"
   },
   {
    "duration": 1837,
    "start_time": "2021-06-28T11:18:58.184Z"
   },
   {
    "duration": 1835,
    "start_time": "2021-06-28T11:18:58.188Z"
   },
   {
    "duration": 1831,
    "start_time": "2021-06-28T11:18:58.193Z"
   },
   {
    "duration": 1826,
    "start_time": "2021-06-28T11:18:58.199Z"
   },
   {
    "duration": 1823,
    "start_time": "2021-06-28T11:18:58.204Z"
   },
   {
    "duration": 1820,
    "start_time": "2021-06-28T11:18:58.208Z"
   },
   {
    "duration": 1810,
    "start_time": "2021-06-28T11:18:58.220Z"
   },
   {
    "duration": 1807,
    "start_time": "2021-06-28T11:18:58.224Z"
   },
   {
    "duration": 1805,
    "start_time": "2021-06-28T11:18:58.228Z"
   },
   {
    "duration": 1801,
    "start_time": "2021-06-28T11:18:58.233Z"
   },
   {
    "duration": 1801,
    "start_time": "2021-06-28T11:18:58.237Z"
   },
   {
    "duration": 1493,
    "start_time": "2021-06-28T11:19:06.795Z"
   },
   {
    "duration": 593,
    "start_time": "2021-06-28T11:19:08.292Z"
   },
   {
    "duration": 121,
    "start_time": "2021-06-28T11:19:08.888Z"
   },
   {
    "duration": 268,
    "start_time": "2021-06-28T11:19:09.012Z"
   },
   {
    "duration": 56,
    "start_time": "2021-06-28T11:19:09.282Z"
   },
   {
    "duration": 17,
    "start_time": "2021-06-28T11:19:09.340Z"
   },
   {
    "duration": 49,
    "start_time": "2021-06-28T11:19:09.360Z"
   },
   {
    "duration": 947,
    "start_time": "2021-06-28T11:19:09.412Z"
   },
   {
    "duration": 458,
    "start_time": "2021-06-28T11:19:10.362Z"
   },
   {
    "duration": 12,
    "start_time": "2021-06-28T11:19:11.616Z"
   },
   {
    "duration": 7,
    "start_time": "2021-06-28T11:19:15.309Z"
   },
   {
    "duration": 7054,
    "start_time": "2021-06-28T11:21:34.020Z"
   },
   {
    "duration": 7472,
    "start_time": "2021-06-28T11:22:58.993Z"
   },
   {
    "duration": 8,
    "start_time": "2021-06-28T11:23:06.467Z"
   },
   {
    "duration": 53,
    "start_time": "2021-06-28T11:23:06.478Z"
   },
   {
    "duration": 35,
    "start_time": "2021-06-28T11:23:06.534Z"
   },
   {
    "duration": 46,
    "start_time": "2021-06-28T11:23:06.572Z"
   },
   {
    "duration": 10,
    "start_time": "2021-06-28T11:23:06.621Z"
   },
   {
    "duration": 34,
    "start_time": "2021-06-28T11:23:06.634Z"
   },
   {
    "duration": 52,
    "start_time": "2021-06-28T11:23:06.672Z"
   },
   {
    "duration": 107,
    "start_time": "2021-06-28T11:23:06.727Z"
   },
   {
    "duration": 2672,
    "start_time": "2021-06-28T11:23:06.836Z"
   },
   {
    "duration": 2832,
    "start_time": "2021-06-28T11:23:09.510Z"
   },
   {
    "duration": 8,
    "start_time": "2021-06-28T11:23:12.344Z"
   },
   {
    "duration": 50,
    "start_time": "2021-06-28T11:23:12.354Z"
   },
   {
    "duration": 3,
    "start_time": "2021-06-28T11:24:05.841Z"
   },
   {
    "duration": 26,
    "start_time": "2021-06-28T11:24:34.034Z"
   },
   {
    "duration": 37,
    "start_time": "2021-06-28T11:25:47.808Z"
   },
   {
    "duration": 380,
    "start_time": "2021-06-28T11:30:19.056Z"
   },
   {
    "duration": 49,
    "start_time": "2021-06-28T11:30:39.613Z"
   },
   {
    "duration": 346,
    "start_time": "2021-06-28T11:31:47.914Z"
   },
   {
    "duration": 91,
    "start_time": "2021-06-28T11:32:15.032Z"
   },
   {
    "duration": 614,
    "start_time": "2021-06-28T11:33:18.756Z"
   },
   {
    "duration": 635,
    "start_time": "2021-06-28T11:33:25.546Z"
   },
   {
    "duration": 157,
    "start_time": "2021-06-28T15:37:32.890Z"
   },
   {
    "duration": 65,
    "start_time": "2021-06-28T15:38:23.977Z"
   },
   {
    "duration": 15,
    "start_time": "2021-06-28T15:38:58.711Z"
   },
   {
    "duration": 15,
    "start_time": "2021-06-28T15:39:01.082Z"
   },
   {
    "duration": 23,
    "start_time": "2021-06-28T15:39:16.409Z"
   },
   {
    "duration": 364,
    "start_time": "2021-06-28T15:44:01.442Z"
   },
   {
    "duration": 367,
    "start_time": "2021-06-28T15:44:21.097Z"
   },
   {
    "duration": 391,
    "start_time": "2021-06-28T15:44:37.665Z"
   },
   {
    "duration": 466,
    "start_time": "2021-06-28T15:51:50.198Z"
   },
   {
    "duration": 499,
    "start_time": "2021-06-28T15:52:08.437Z"
   },
   {
    "duration": 378,
    "start_time": "2021-06-28T15:52:15.037Z"
   },
   {
    "duration": 352,
    "start_time": "2021-06-28T15:53:54.608Z"
   },
   {
    "duration": 358,
    "start_time": "2021-06-28T15:55:35.554Z"
   },
   {
    "duration": 1443,
    "start_time": "2021-06-28T22:45:59.010Z"
   },
   {
    "duration": 668,
    "start_time": "2021-06-28T22:46:00.456Z"
   },
   {
    "duration": 159,
    "start_time": "2021-06-28T22:46:01.128Z"
   },
   {
    "duration": 275,
    "start_time": "2021-06-28T22:46:01.291Z"
   },
   {
    "duration": 47,
    "start_time": "2021-06-28T22:46:01.569Z"
   },
   {
    "duration": 17,
    "start_time": "2021-06-28T22:46:01.618Z"
   },
   {
    "duration": 54,
    "start_time": "2021-06-28T22:46:01.637Z"
   },
   {
    "duration": 1023,
    "start_time": "2021-06-28T22:46:01.694Z"
   },
   {
    "duration": 491,
    "start_time": "2021-06-28T22:46:05.420Z"
   },
   {
    "duration": 14,
    "start_time": "2021-06-28T22:46:10.667Z"
   },
   {
    "duration": 71,
    "start_time": "2021-06-28T22:46:10.685Z"
   },
   {
    "duration": 52,
    "start_time": "2021-06-28T22:46:10.760Z"
   },
   {
    "duration": 3,
    "start_time": "2021-06-28T22:46:10.815Z"
   },
   {
    "duration": 38,
    "start_time": "2021-06-28T22:46:10.820Z"
   },
   {
    "duration": 47,
    "start_time": "2021-06-28T22:46:10.861Z"
   },
   {
    "duration": 51,
    "start_time": "2021-06-28T22:46:10.911Z"
   },
   {
    "duration": 122,
    "start_time": "2021-06-28T22:46:10.966Z"
   },
   {
    "duration": 47,
    "start_time": "2021-06-28T22:46:11.091Z"
   },
   {
    "duration": 122,
    "start_time": "2021-06-28T22:46:11.140Z"
   },
   {
    "duration": 625,
    "start_time": "2021-06-28T22:46:11.267Z"
   },
   {
    "duration": 1137,
    "start_time": "2021-06-28T22:46:11.895Z"
   },
   {
    "duration": 612,
    "start_time": "2021-06-28T22:46:13.035Z"
   },
   {
    "duration": 631,
    "start_time": "2021-06-28T22:46:13.649Z"
   },
   {
    "duration": 7,
    "start_time": "2021-06-28T22:46:14.284Z"
   },
   {
    "duration": 118,
    "start_time": "2021-06-28T22:46:14.293Z"
   }
  ],
  "kernelspec": {
   "display_name": "Python 3 (ipykernel)",
   "language": "python",
   "name": "python3"
  },
  "language_info": {
   "codemirror_mode": {
    "name": "ipython",
    "version": 3
   },
   "file_extension": ".py",
   "mimetype": "text/x-python",
   "name": "python",
   "nbconvert_exporter": "python",
   "pygments_lexer": "ipython3",
   "version": "3.10.5"
  },
  "toc": {
   "base_numbering": 1,
   "nav_menu": {
    "height": "99px",
    "width": "297px"
   },
   "number_sections": true,
   "sideBar": true,
   "skip_h1_title": true,
   "title_cell": "Содержание проекта",
   "title_sidebar": "Contents",
   "toc_cell": true,
   "toc_position": {
    "height": "calc(100% - 180px)",
    "left": "10px",
    "top": "150px",
    "width": "255px"
   },
   "toc_section_display": true,
   "toc_window_display": true
  }
 },
 "nbformat": 4,
 "nbformat_minor": 2
}
